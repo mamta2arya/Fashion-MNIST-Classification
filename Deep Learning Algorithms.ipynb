{
 "cells": [
  {
   "cell_type": "markdown",
   "metadata": {},
   "source": [
    "# Assignment-3"
   ]
  },
  {
   "cell_type": "code",
   "execution_count": 1,
   "metadata": {
    "_cell_guid": "b1076dfc-b9ad-4769-8c92-a6c4dae69d19",
    "_uuid": "8f2839f25d086af736a60e9eeb907d3b93b6e0e5"
   },
   "outputs": [
    {
     "name": "stdout",
     "output_type": "stream",
     "text": [
      "/kaggle/input/ece657a-w20-asg3-part2/testX.csv\n",
      "/kaggle/input/ece657a-w20-asg3-part2/train.csv\n"
     ]
    }
   ],
   "source": [
    "# This Python 3 environment comes with many helpful analytics libraries installed\n",
    "# It is defined by the kaggle/python docker image: https://github.com/kaggle/docker-python\n",
    "# For example, here's several helpful packages to load in \n",
    "\n",
    "import numpy as np # linear algebra\n",
    "import pandas as pd # data processing, CSV file I/O (e.g. pd.read_csv)\n",
    "\n",
    "# Input data files are available in the \"../input/\" directory.\n",
    "# For example, running this (by clicking run or pressing Shift+Enter) will list all files under the input directory\n",
    "\n",
    "import os\n",
    "for dirname, _, filenames in os.walk('/kaggle/input'):\n",
    "    for filename in filenames:\n",
    "        print(os.path.join(dirname, filename))\n",
    "\n",
    "# Any results you write to the current directory are saved as output."
   ]
  },
  {
   "cell_type": "markdown",
   "metadata": {},
   "source": [
    "# Question-2\n",
    "\n",
    "# Importing the Liberaries"
   ]
  },
  {
   "cell_type": "code",
   "execution_count": 1,
   "metadata": {
    "_cell_guid": "79c7e3d0-c299-4dcb-8224-4455121ee9b0",
    "_uuid": "d629ff2d2480ee46fbb7e2d37f6b5fab8052498a"
   },
   "outputs": [],
   "source": [
    "# Ignore warnings :\n",
    "import warnings\n",
    "warnings.filterwarnings('ignore')\n",
    "\n",
    "\n",
    "# Handle table-like data and matrices :\n",
    "import numpy as np\n",
    "import pandas as pd\n",
    "import math \n",
    "import itertools"
   ]
  },
  {
   "cell_type": "code",
   "execution_count": 3,
   "metadata": {},
   "outputs": [],
   "source": [
    "# Modelling Helpers :\n",
    "from sklearn.preprocessing import Normalizer , scale\n",
    "from sklearn.model_selection import train_test_split\n",
    "from sklearn.metrics import confusion_matrix\n",
    "from sklearn.feature_selection import RFECV\n",
    "from sklearn.model_selection import GridSearchCV , KFold , cross_val_score\n",
    "\n",
    "\n",
    "\n",
    "#preprocessing :\n",
    "from sklearn.preprocessing import MinMaxScaler , StandardScaler, LabelEncoder\n",
    "\n",
    "# Regression\n",
    "from sklearn.metrics import mean_squared_log_error,mean_squared_error, r2_score,mean_absolute_error \n",
    "\n",
    "# Classification\n",
    "from sklearn.metrics import accuracy_score,precision_score,recall_score,f1_score  \n",
    "\n",
    "\n",
    "import keras\n",
    "from keras.models import Sequential\n",
    "from keras.layers import Dense, Dropout, Flatten, Conv2D, MaxPooling2D, BatchNormalization, Input, UpSampling2D, GlobalAveragePooling2D\n",
    "from keras.callbacks import EarlyStopping, ModelCheckpoint\n",
    "from keras.preprocessing.image import ImageDataGenerator\n",
    "from keras import optimizers, regularizers\n",
    "from sklearn import metrics\n",
    "from keras.optimizers import Adam, SGD\n",
    "from keras.models import Model, load_model\n",
    "\n",
    "\n",
    "\n",
    "# Visualisation\n",
    "import matplotlib as mpl\n",
    "import matplotlib.pyplot as plt\n",
    "import matplotlib.pylab as pylab\n",
    "import seaborn as sns\n",
    "\n"
   ]
  },
  {
   "cell_type": "markdown",
   "metadata": {},
   "source": [
    "# 2.1: Design and Implementation Choices of your Model"
   ]
  },
  {
   "cell_type": "markdown",
   "metadata": {},
   "source": [
    "A CNN is a class of deep neural network that is mostly used in the field of computer vision and imaging. CNNs are used to identify images, cluster them by their similarity, and implement object recognition within scenes. On a simple note, what we want the computer to do is to be able to differentiate between all the images those are given and figure out the unique features that make a dog a dog or that make a cat a cat. This is the process that goes on in our minds subconsciously as well. When we look at a picture of a cat, we can classify it as such if the picture has identifiable features such as paws or 4 legs. Similarly, the computer can perform image classification by looking for low level features such as edges and curves, and then try to build up to more abstract concepts through a series of convolutional layers. This is a general overview of what a CNN does. Let’s get into the specifics."
   ]
  },
  {
   "cell_type": "markdown",
   "metadata": {},
   "source": [
    "# Load the dataset"
   ]
  },
  {
   "cell_type": "code",
   "execution_count": 4,
   "metadata": {},
   "outputs": [],
   "source": [
    "#Load the dataset\n",
    "train_data = pd.read_csv('train.csv')\n",
    "test_data = pd.read_csv('testX.csv')\n",
    "df_train = train_data.copy()\n",
    "df_test = test_data.copy()"
   ]
  },
  {
   "cell_type": "code",
   "execution_count": 5,
   "metadata": {},
   "outputs": [
    {
     "data": {
      "text/html": [
       "<div>\n",
       "<style scoped>\n",
       "    .dataframe tbody tr th:only-of-type {\n",
       "        vertical-align: middle;\n",
       "    }\n",
       "\n",
       "    .dataframe tbody tr th {\n",
       "        vertical-align: top;\n",
       "    }\n",
       "\n",
       "    .dataframe thead th {\n",
       "        text-align: right;\n",
       "    }\n",
       "</style>\n",
       "<table border=\"1\" class=\"dataframe\">\n",
       "  <thead>\n",
       "    <tr style=\"text-align: right;\">\n",
       "      <th></th>\n",
       "      <th>Id</th>\n",
       "      <th>Label</th>\n",
       "      <th>1</th>\n",
       "      <th>2</th>\n",
       "      <th>3</th>\n",
       "      <th>4</th>\n",
       "      <th>5</th>\n",
       "      <th>6</th>\n",
       "      <th>7</th>\n",
       "      <th>8</th>\n",
       "      <th>...</th>\n",
       "      <th>775</th>\n",
       "      <th>776</th>\n",
       "      <th>777</th>\n",
       "      <th>778</th>\n",
       "      <th>779</th>\n",
       "      <th>780</th>\n",
       "      <th>781</th>\n",
       "      <th>782</th>\n",
       "      <th>783</th>\n",
       "      <th>784</th>\n",
       "    </tr>\n",
       "  </thead>\n",
       "  <tbody>\n",
       "    <tr>\n",
       "      <td>0</td>\n",
       "      <td>10000</td>\n",
       "      <td>4</td>\n",
       "      <td>0</td>\n",
       "      <td>0</td>\n",
       "      <td>0</td>\n",
       "      <td>0</td>\n",
       "      <td>0</td>\n",
       "      <td>0</td>\n",
       "      <td>0</td>\n",
       "      <td>0</td>\n",
       "      <td>...</td>\n",
       "      <td>0</td>\n",
       "      <td>0</td>\n",
       "      <td>0</td>\n",
       "      <td>0</td>\n",
       "      <td>0</td>\n",
       "      <td>0</td>\n",
       "      <td>0</td>\n",
       "      <td>0</td>\n",
       "      <td>0</td>\n",
       "      <td>0</td>\n",
       "    </tr>\n",
       "    <tr>\n",
       "      <td>1</td>\n",
       "      <td>10001</td>\n",
       "      <td>0</td>\n",
       "      <td>0</td>\n",
       "      <td>0</td>\n",
       "      <td>0</td>\n",
       "      <td>0</td>\n",
       "      <td>0</td>\n",
       "      <td>0</td>\n",
       "      <td>0</td>\n",
       "      <td>0</td>\n",
       "      <td>...</td>\n",
       "      <td>0</td>\n",
       "      <td>0</td>\n",
       "      <td>0</td>\n",
       "      <td>0</td>\n",
       "      <td>0</td>\n",
       "      <td>0</td>\n",
       "      <td>0</td>\n",
       "      <td>0</td>\n",
       "      <td>0</td>\n",
       "      <td>0</td>\n",
       "    </tr>\n",
       "    <tr>\n",
       "      <td>2</td>\n",
       "      <td>10002</td>\n",
       "      <td>0</td>\n",
       "      <td>0</td>\n",
       "      <td>0</td>\n",
       "      <td>0</td>\n",
       "      <td>0</td>\n",
       "      <td>0</td>\n",
       "      <td>0</td>\n",
       "      <td>0</td>\n",
       "      <td>0</td>\n",
       "      <td>...</td>\n",
       "      <td>31</td>\n",
       "      <td>9</td>\n",
       "      <td>0</td>\n",
       "      <td>0</td>\n",
       "      <td>0</td>\n",
       "      <td>0</td>\n",
       "      <td>0</td>\n",
       "      <td>0</td>\n",
       "      <td>0</td>\n",
       "      <td>0</td>\n",
       "    </tr>\n",
       "    <tr>\n",
       "      <td>3</td>\n",
       "      <td>10003</td>\n",
       "      <td>4</td>\n",
       "      <td>0</td>\n",
       "      <td>0</td>\n",
       "      <td>0</td>\n",
       "      <td>0</td>\n",
       "      <td>0</td>\n",
       "      <td>0</td>\n",
       "      <td>0</td>\n",
       "      <td>0</td>\n",
       "      <td>...</td>\n",
       "      <td>0</td>\n",
       "      <td>0</td>\n",
       "      <td>0</td>\n",
       "      <td>0</td>\n",
       "      <td>0</td>\n",
       "      <td>0</td>\n",
       "      <td>0</td>\n",
       "      <td>0</td>\n",
       "      <td>0</td>\n",
       "      <td>0</td>\n",
       "    </tr>\n",
       "    <tr>\n",
       "      <td>4</td>\n",
       "      <td>10004</td>\n",
       "      <td>1</td>\n",
       "      <td>0</td>\n",
       "      <td>0</td>\n",
       "      <td>0</td>\n",
       "      <td>0</td>\n",
       "      <td>0</td>\n",
       "      <td>0</td>\n",
       "      <td>0</td>\n",
       "      <td>0</td>\n",
       "      <td>...</td>\n",
       "      <td>0</td>\n",
       "      <td>0</td>\n",
       "      <td>0</td>\n",
       "      <td>0</td>\n",
       "      <td>0</td>\n",
       "      <td>0</td>\n",
       "      <td>0</td>\n",
       "      <td>0</td>\n",
       "      <td>0</td>\n",
       "      <td>0</td>\n",
       "    </tr>\n",
       "  </tbody>\n",
       "</table>\n",
       "<p>5 rows × 786 columns</p>\n",
       "</div>"
      ],
      "text/plain": [
       "      Id  Label  1  2  3  4  5  6  7  8  ...  775  776  777  778  779  780  \\\n",
       "0  10000      4  0  0  0  0  0  0  0  0  ...    0    0    0    0    0    0   \n",
       "1  10001      0  0  0  0  0  0  0  0  0  ...    0    0    0    0    0    0   \n",
       "2  10002      0  0  0  0  0  0  0  0  0  ...   31    9    0    0    0    0   \n",
       "3  10003      4  0  0  0  0  0  0  0  0  ...    0    0    0    0    0    0   \n",
       "4  10004      1  0  0  0  0  0  0  0  0  ...    0    0    0    0    0    0   \n",
       "\n",
       "   781  782  783  784  \n",
       "0    0    0    0    0  \n",
       "1    0    0    0    0  \n",
       "2    0    0    0    0  \n",
       "3    0    0    0    0  \n",
       "4    0    0    0    0  \n",
       "\n",
       "[5 rows x 786 columns]"
      ]
     },
     "execution_count": 5,
     "metadata": {},
     "output_type": "execute_result"
    }
   ],
   "source": [
    "df_train.head()"
   ]
  },
  {
   "cell_type": "markdown",
   "metadata": {},
   "source": [
    "#  Features Extraction "
   ]
  },
  {
   "cell_type": "markdown",
   "metadata": {},
   "source": [
    "Check for null values"
   ]
  },
  {
   "cell_type": "code",
   "execution_count": 6,
   "metadata": {},
   "outputs": [
    {
     "data": {
      "text/plain": [
       "0"
      ]
     },
     "execution_count": 6,
     "metadata": {},
     "output_type": "execute_result"
    }
   ],
   "source": [
    "#  for Train data\n",
    "df_train.isnull().any().sum()"
   ]
  },
  {
   "cell_type": "code",
   "execution_count": 7,
   "metadata": {},
   "outputs": [
    {
     "data": {
      "text/plain": [
       "0"
      ]
     },
     "execution_count": 7,
     "metadata": {},
     "output_type": "execute_result"
    }
   ],
   "source": [
    "\n",
    "# for Test data \n",
    "df_test.isnull().any().sum()"
   ]
  },
  {
   "cell_type": "code",
   "execution_count": 8,
   "metadata": {},
   "outputs": [
    {
     "data": {
      "text/plain": [
       "array([4, 0, 1, 2, 3], dtype=int64)"
      ]
     },
     "execution_count": 8,
     "metadata": {},
     "output_type": "execute_result"
    }
   ],
   "source": [
    "df_train.Label.unique()"
   ]
  },
  {
   "cell_type": "code",
   "execution_count": 9,
   "metadata": {},
   "outputs": [
    {
     "data": {
      "text/plain": [
       "4    12067\n",
       "2    11994\n",
       "1    11986\n",
       "3    11978\n",
       "0    11975\n",
       "Name: Label, dtype: int64"
      ]
     },
     "execution_count": 9,
     "metadata": {},
     "output_type": "execute_result"
    }
   ],
   "source": [
    "df_train['Label'].value_counts()"
   ]
  },
  {
   "cell_type": "code",
   "execution_count": 10,
   "metadata": {},
   "outputs": [],
   "source": [
    "\n",
    "# Mapping Classes\n",
    "Clothing = {0 , 1, 2, 3, 4}"
   ]
  },
  {
   "cell_type": "code",
   "execution_count": 11,
   "metadata": {},
   "outputs": [
    {
     "data": {
      "text/html": [
       "<div>\n",
       "<style scoped>\n",
       "    .dataframe tbody tr th:only-of-type {\n",
       "        vertical-align: middle;\n",
       "    }\n",
       "\n",
       "    .dataframe tbody tr th {\n",
       "        vertical-align: top;\n",
       "    }\n",
       "\n",
       "    .dataframe thead th {\n",
       "        text-align: right;\n",
       "    }\n",
       "</style>\n",
       "<table border=\"1\" class=\"dataframe\">\n",
       "  <thead>\n",
       "    <tr style=\"text-align: right;\">\n",
       "      <th></th>\n",
       "      <th>1</th>\n",
       "      <th>2</th>\n",
       "      <th>3</th>\n",
       "      <th>4</th>\n",
       "      <th>5</th>\n",
       "      <th>6</th>\n",
       "      <th>7</th>\n",
       "      <th>8</th>\n",
       "      <th>9</th>\n",
       "      <th>10</th>\n",
       "      <th>...</th>\n",
       "      <th>775</th>\n",
       "      <th>776</th>\n",
       "      <th>777</th>\n",
       "      <th>778</th>\n",
       "      <th>779</th>\n",
       "      <th>780</th>\n",
       "      <th>781</th>\n",
       "      <th>782</th>\n",
       "      <th>783</th>\n",
       "      <th>784</th>\n",
       "    </tr>\n",
       "  </thead>\n",
       "  <tbody>\n",
       "    <tr>\n",
       "      <td>0</td>\n",
       "      <td>0</td>\n",
       "      <td>0</td>\n",
       "      <td>0</td>\n",
       "      <td>0</td>\n",
       "      <td>0</td>\n",
       "      <td>0</td>\n",
       "      <td>0</td>\n",
       "      <td>0</td>\n",
       "      <td>0</td>\n",
       "      <td>0</td>\n",
       "      <td>...</td>\n",
       "      <td>0</td>\n",
       "      <td>0</td>\n",
       "      <td>0</td>\n",
       "      <td>0</td>\n",
       "      <td>0</td>\n",
       "      <td>0</td>\n",
       "      <td>0</td>\n",
       "      <td>0</td>\n",
       "      <td>0</td>\n",
       "      <td>0</td>\n",
       "    </tr>\n",
       "    <tr>\n",
       "      <td>1</td>\n",
       "      <td>0</td>\n",
       "      <td>0</td>\n",
       "      <td>0</td>\n",
       "      <td>0</td>\n",
       "      <td>0</td>\n",
       "      <td>0</td>\n",
       "      <td>0</td>\n",
       "      <td>0</td>\n",
       "      <td>0</td>\n",
       "      <td>0</td>\n",
       "      <td>...</td>\n",
       "      <td>0</td>\n",
       "      <td>0</td>\n",
       "      <td>0</td>\n",
       "      <td>0</td>\n",
       "      <td>0</td>\n",
       "      <td>0</td>\n",
       "      <td>0</td>\n",
       "      <td>0</td>\n",
       "      <td>0</td>\n",
       "      <td>0</td>\n",
       "    </tr>\n",
       "    <tr>\n",
       "      <td>2</td>\n",
       "      <td>0</td>\n",
       "      <td>0</td>\n",
       "      <td>0</td>\n",
       "      <td>0</td>\n",
       "      <td>0</td>\n",
       "      <td>0</td>\n",
       "      <td>0</td>\n",
       "      <td>0</td>\n",
       "      <td>1</td>\n",
       "      <td>0</td>\n",
       "      <td>...</td>\n",
       "      <td>31</td>\n",
       "      <td>9</td>\n",
       "      <td>0</td>\n",
       "      <td>0</td>\n",
       "      <td>0</td>\n",
       "      <td>0</td>\n",
       "      <td>0</td>\n",
       "      <td>0</td>\n",
       "      <td>0</td>\n",
       "      <td>0</td>\n",
       "    </tr>\n",
       "    <tr>\n",
       "      <td>3</td>\n",
       "      <td>0</td>\n",
       "      <td>0</td>\n",
       "      <td>0</td>\n",
       "      <td>0</td>\n",
       "      <td>0</td>\n",
       "      <td>0</td>\n",
       "      <td>0</td>\n",
       "      <td>0</td>\n",
       "      <td>0</td>\n",
       "      <td>0</td>\n",
       "      <td>...</td>\n",
       "      <td>0</td>\n",
       "      <td>0</td>\n",
       "      <td>0</td>\n",
       "      <td>0</td>\n",
       "      <td>0</td>\n",
       "      <td>0</td>\n",
       "      <td>0</td>\n",
       "      <td>0</td>\n",
       "      <td>0</td>\n",
       "      <td>0</td>\n",
       "    </tr>\n",
       "    <tr>\n",
       "      <td>4</td>\n",
       "      <td>0</td>\n",
       "      <td>0</td>\n",
       "      <td>0</td>\n",
       "      <td>0</td>\n",
       "      <td>0</td>\n",
       "      <td>0</td>\n",
       "      <td>0</td>\n",
       "      <td>0</td>\n",
       "      <td>0</td>\n",
       "      <td>0</td>\n",
       "      <td>...</td>\n",
       "      <td>0</td>\n",
       "      <td>0</td>\n",
       "      <td>0</td>\n",
       "      <td>0</td>\n",
       "      <td>0</td>\n",
       "      <td>0</td>\n",
       "      <td>0</td>\n",
       "      <td>0</td>\n",
       "      <td>0</td>\n",
       "      <td>0</td>\n",
       "    </tr>\n",
       "    <tr>\n",
       "      <td>...</td>\n",
       "      <td>...</td>\n",
       "      <td>...</td>\n",
       "      <td>...</td>\n",
       "      <td>...</td>\n",
       "      <td>...</td>\n",
       "      <td>...</td>\n",
       "      <td>...</td>\n",
       "      <td>...</td>\n",
       "      <td>...</td>\n",
       "      <td>...</td>\n",
       "      <td>...</td>\n",
       "      <td>...</td>\n",
       "      <td>...</td>\n",
       "      <td>...</td>\n",
       "      <td>...</td>\n",
       "      <td>...</td>\n",
       "      <td>...</td>\n",
       "      <td>...</td>\n",
       "      <td>...</td>\n",
       "      <td>...</td>\n",
       "      <td>...</td>\n",
       "    </tr>\n",
       "    <tr>\n",
       "      <td>59995</td>\n",
       "      <td>0</td>\n",
       "      <td>0</td>\n",
       "      <td>0</td>\n",
       "      <td>0</td>\n",
       "      <td>0</td>\n",
       "      <td>0</td>\n",
       "      <td>0</td>\n",
       "      <td>0</td>\n",
       "      <td>0</td>\n",
       "      <td>0</td>\n",
       "      <td>...</td>\n",
       "      <td>0</td>\n",
       "      <td>0</td>\n",
       "      <td>0</td>\n",
       "      <td>0</td>\n",
       "      <td>0</td>\n",
       "      <td>0</td>\n",
       "      <td>0</td>\n",
       "      <td>0</td>\n",
       "      <td>0</td>\n",
       "      <td>0</td>\n",
       "    </tr>\n",
       "    <tr>\n",
       "      <td>59996</td>\n",
       "      <td>0</td>\n",
       "      <td>0</td>\n",
       "      <td>0</td>\n",
       "      <td>0</td>\n",
       "      <td>0</td>\n",
       "      <td>0</td>\n",
       "      <td>0</td>\n",
       "      <td>0</td>\n",
       "      <td>0</td>\n",
       "      <td>31</td>\n",
       "      <td>...</td>\n",
       "      <td>0</td>\n",
       "      <td>0</td>\n",
       "      <td>0</td>\n",
       "      <td>0</td>\n",
       "      <td>0</td>\n",
       "      <td>0</td>\n",
       "      <td>0</td>\n",
       "      <td>0</td>\n",
       "      <td>0</td>\n",
       "      <td>0</td>\n",
       "    </tr>\n",
       "    <tr>\n",
       "      <td>59997</td>\n",
       "      <td>0</td>\n",
       "      <td>0</td>\n",
       "      <td>0</td>\n",
       "      <td>0</td>\n",
       "      <td>0</td>\n",
       "      <td>0</td>\n",
       "      <td>0</td>\n",
       "      <td>0</td>\n",
       "      <td>0</td>\n",
       "      <td>0</td>\n",
       "      <td>...</td>\n",
       "      <td>27</td>\n",
       "      <td>0</td>\n",
       "      <td>0</td>\n",
       "      <td>0</td>\n",
       "      <td>0</td>\n",
       "      <td>0</td>\n",
       "      <td>0</td>\n",
       "      <td>0</td>\n",
       "      <td>0</td>\n",
       "      <td>0</td>\n",
       "    </tr>\n",
       "    <tr>\n",
       "      <td>59998</td>\n",
       "      <td>0</td>\n",
       "      <td>0</td>\n",
       "      <td>0</td>\n",
       "      <td>0</td>\n",
       "      <td>0</td>\n",
       "      <td>0</td>\n",
       "      <td>0</td>\n",
       "      <td>0</td>\n",
       "      <td>0</td>\n",
       "      <td>0</td>\n",
       "      <td>...</td>\n",
       "      <td>0</td>\n",
       "      <td>0</td>\n",
       "      <td>0</td>\n",
       "      <td>0</td>\n",
       "      <td>0</td>\n",
       "      <td>0</td>\n",
       "      <td>0</td>\n",
       "      <td>0</td>\n",
       "      <td>0</td>\n",
       "      <td>0</td>\n",
       "    </tr>\n",
       "    <tr>\n",
       "      <td>59999</td>\n",
       "      <td>0</td>\n",
       "      <td>0</td>\n",
       "      <td>0</td>\n",
       "      <td>0</td>\n",
       "      <td>0</td>\n",
       "      <td>0</td>\n",
       "      <td>0</td>\n",
       "      <td>0</td>\n",
       "      <td>0</td>\n",
       "      <td>0</td>\n",
       "      <td>...</td>\n",
       "      <td>0</td>\n",
       "      <td>0</td>\n",
       "      <td>0</td>\n",
       "      <td>0</td>\n",
       "      <td>0</td>\n",
       "      <td>0</td>\n",
       "      <td>0</td>\n",
       "      <td>0</td>\n",
       "      <td>0</td>\n",
       "      <td>0</td>\n",
       "    </tr>\n",
       "  </tbody>\n",
       "</table>\n",
       "<p>60000 rows × 784 columns</p>\n",
       "</div>"
      ],
      "text/plain": [
       "       1  2  3  4  5  6  7  8  9  10  ...  775  776  777  778  779  780  781  \\\n",
       "0      0  0  0  0  0  0  0  0  0   0  ...    0    0    0    0    0    0    0   \n",
       "1      0  0  0  0  0  0  0  0  0   0  ...    0    0    0    0    0    0    0   \n",
       "2      0  0  0  0  0  0  0  0  1   0  ...   31    9    0    0    0    0    0   \n",
       "3      0  0  0  0  0  0  0  0  0   0  ...    0    0    0    0    0    0    0   \n",
       "4      0  0  0  0  0  0  0  0  0   0  ...    0    0    0    0    0    0    0   \n",
       "...   .. .. .. .. .. .. .. .. ..  ..  ...  ...  ...  ...  ...  ...  ...  ...   \n",
       "59995  0  0  0  0  0  0  0  0  0   0  ...    0    0    0    0    0    0    0   \n",
       "59996  0  0  0  0  0  0  0  0  0  31  ...    0    0    0    0    0    0    0   \n",
       "59997  0  0  0  0  0  0  0  0  0   0  ...   27    0    0    0    0    0    0   \n",
       "59998  0  0  0  0  0  0  0  0  0   0  ...    0    0    0    0    0    0    0   \n",
       "59999  0  0  0  0  0  0  0  0  0   0  ...    0    0    0    0    0    0    0   \n",
       "\n",
       "       782  783  784  \n",
       "0        0    0    0  \n",
       "1        0    0    0  \n",
       "2        0    0    0  \n",
       "3        0    0    0  \n",
       "4        0    0    0  \n",
       "...    ...  ...  ...  \n",
       "59995    0    0    0  \n",
       "59996    0    0    0  \n",
       "59997    0    0    0  \n",
       "59998    0    0    0  \n",
       "59999    0    0    0  \n",
       "\n",
       "[60000 rows x 784 columns]"
      ]
     },
     "execution_count": 11,
     "metadata": {},
     "output_type": "execute_result"
    }
   ],
   "source": [
    "train_data= df_train.drop(['Label','Id'],axis = 1)\n",
    "train_data"
   ]
  },
  {
   "cell_type": "code",
   "execution_count": 12,
   "metadata": {},
   "outputs": [
    {
     "data": {
      "text/plain": [
       "(60000, 784)"
      ]
     },
     "execution_count": 12,
     "metadata": {},
     "output_type": "execute_result"
    }
   ],
   "source": [
    "train_data.shape\n"
   ]
  },
  {
   "cell_type": "code",
   "execution_count": 13,
   "metadata": {},
   "outputs": [
    {
     "data": {
      "text/html": [
       "<div>\n",
       "<style scoped>\n",
       "    .dataframe tbody tr th:only-of-type {\n",
       "        vertical-align: middle;\n",
       "    }\n",
       "\n",
       "    .dataframe tbody tr th {\n",
       "        vertical-align: top;\n",
       "    }\n",
       "\n",
       "    .dataframe thead th {\n",
       "        text-align: right;\n",
       "    }\n",
       "</style>\n",
       "<table border=\"1\" class=\"dataframe\">\n",
       "  <thead>\n",
       "    <tr style=\"text-align: right;\">\n",
       "      <th></th>\n",
       "      <th>0</th>\n",
       "      <th>1</th>\n",
       "      <th>2</th>\n",
       "      <th>3</th>\n",
       "      <th>4</th>\n",
       "      <th>5</th>\n",
       "      <th>6</th>\n",
       "      <th>7</th>\n",
       "      <th>8</th>\n",
       "      <th>9</th>\n",
       "      <th>...</th>\n",
       "      <th>774</th>\n",
       "      <th>775</th>\n",
       "      <th>776</th>\n",
       "      <th>777</th>\n",
       "      <th>778</th>\n",
       "      <th>779</th>\n",
       "      <th>780</th>\n",
       "      <th>781</th>\n",
       "      <th>782</th>\n",
       "      <th>783</th>\n",
       "    </tr>\n",
       "  </thead>\n",
       "  <tbody>\n",
       "    <tr>\n",
       "      <td>0</td>\n",
       "      <td>0</td>\n",
       "      <td>0</td>\n",
       "      <td>0</td>\n",
       "      <td>0</td>\n",
       "      <td>0</td>\n",
       "      <td>0</td>\n",
       "      <td>0</td>\n",
       "      <td>0</td>\n",
       "      <td>0</td>\n",
       "      <td>0</td>\n",
       "      <td>...</td>\n",
       "      <td>0</td>\n",
       "      <td>0</td>\n",
       "      <td>0</td>\n",
       "      <td>0</td>\n",
       "      <td>0</td>\n",
       "      <td>0</td>\n",
       "      <td>0</td>\n",
       "      <td>0</td>\n",
       "      <td>0</td>\n",
       "      <td>0</td>\n",
       "    </tr>\n",
       "    <tr>\n",
       "      <td>1</td>\n",
       "      <td>0</td>\n",
       "      <td>0</td>\n",
       "      <td>0</td>\n",
       "      <td>0</td>\n",
       "      <td>0</td>\n",
       "      <td>1</td>\n",
       "      <td>0</td>\n",
       "      <td>0</td>\n",
       "      <td>0</td>\n",
       "      <td>0</td>\n",
       "      <td>...</td>\n",
       "      <td>119</td>\n",
       "      <td>114</td>\n",
       "      <td>130</td>\n",
       "      <td>76</td>\n",
       "      <td>0</td>\n",
       "      <td>0</td>\n",
       "      <td>0</td>\n",
       "      <td>0</td>\n",
       "      <td>0</td>\n",
       "      <td>0</td>\n",
       "    </tr>\n",
       "    <tr>\n",
       "      <td>2</td>\n",
       "      <td>0</td>\n",
       "      <td>0</td>\n",
       "      <td>0</td>\n",
       "      <td>0</td>\n",
       "      <td>0</td>\n",
       "      <td>0</td>\n",
       "      <td>0</td>\n",
       "      <td>0</td>\n",
       "      <td>0</td>\n",
       "      <td>22</td>\n",
       "      <td>...</td>\n",
       "      <td>0</td>\n",
       "      <td>0</td>\n",
       "      <td>1</td>\n",
       "      <td>0</td>\n",
       "      <td>0</td>\n",
       "      <td>0</td>\n",
       "      <td>0</td>\n",
       "      <td>0</td>\n",
       "      <td>0</td>\n",
       "      <td>0</td>\n",
       "    </tr>\n",
       "    <tr>\n",
       "      <td>3</td>\n",
       "      <td>0</td>\n",
       "      <td>0</td>\n",
       "      <td>0</td>\n",
       "      <td>0</td>\n",
       "      <td>0</td>\n",
       "      <td>0</td>\n",
       "      <td>0</td>\n",
       "      <td>0</td>\n",
       "      <td>33</td>\n",
       "      <td>96</td>\n",
       "      <td>...</td>\n",
       "      <td>0</td>\n",
       "      <td>0</td>\n",
       "      <td>0</td>\n",
       "      <td>0</td>\n",
       "      <td>0</td>\n",
       "      <td>0</td>\n",
       "      <td>0</td>\n",
       "      <td>0</td>\n",
       "      <td>0</td>\n",
       "      <td>0</td>\n",
       "    </tr>\n",
       "    <tr>\n",
       "      <td>4</td>\n",
       "      <td>0</td>\n",
       "      <td>0</td>\n",
       "      <td>0</td>\n",
       "      <td>0</td>\n",
       "      <td>0</td>\n",
       "      <td>0</td>\n",
       "      <td>0</td>\n",
       "      <td>0</td>\n",
       "      <td>0</td>\n",
       "      <td>0</td>\n",
       "      <td>...</td>\n",
       "      <td>0</td>\n",
       "      <td>0</td>\n",
       "      <td>0</td>\n",
       "      <td>0</td>\n",
       "      <td>0</td>\n",
       "      <td>0</td>\n",
       "      <td>0</td>\n",
       "      <td>0</td>\n",
       "      <td>0</td>\n",
       "      <td>0</td>\n",
       "    </tr>\n",
       "    <tr>\n",
       "      <td>...</td>\n",
       "      <td>...</td>\n",
       "      <td>...</td>\n",
       "      <td>...</td>\n",
       "      <td>...</td>\n",
       "      <td>...</td>\n",
       "      <td>...</td>\n",
       "      <td>...</td>\n",
       "      <td>...</td>\n",
       "      <td>...</td>\n",
       "      <td>...</td>\n",
       "      <td>...</td>\n",
       "      <td>...</td>\n",
       "      <td>...</td>\n",
       "      <td>...</td>\n",
       "      <td>...</td>\n",
       "      <td>...</td>\n",
       "      <td>...</td>\n",
       "      <td>...</td>\n",
       "      <td>...</td>\n",
       "      <td>...</td>\n",
       "      <td>...</td>\n",
       "    </tr>\n",
       "    <tr>\n",
       "      <td>9995</td>\n",
       "      <td>0</td>\n",
       "      <td>0</td>\n",
       "      <td>0</td>\n",
       "      <td>0</td>\n",
       "      <td>0</td>\n",
       "      <td>0</td>\n",
       "      <td>0</td>\n",
       "      <td>0</td>\n",
       "      <td>0</td>\n",
       "      <td>0</td>\n",
       "      <td>...</td>\n",
       "      <td>0</td>\n",
       "      <td>0</td>\n",
       "      <td>0</td>\n",
       "      <td>0</td>\n",
       "      <td>0</td>\n",
       "      <td>0</td>\n",
       "      <td>0</td>\n",
       "      <td>0</td>\n",
       "      <td>0</td>\n",
       "      <td>0</td>\n",
       "    </tr>\n",
       "    <tr>\n",
       "      <td>9996</td>\n",
       "      <td>0</td>\n",
       "      <td>0</td>\n",
       "      <td>0</td>\n",
       "      <td>0</td>\n",
       "      <td>0</td>\n",
       "      <td>0</td>\n",
       "      <td>0</td>\n",
       "      <td>0</td>\n",
       "      <td>0</td>\n",
       "      <td>0</td>\n",
       "      <td>...</td>\n",
       "      <td>0</td>\n",
       "      <td>0</td>\n",
       "      <td>0</td>\n",
       "      <td>0</td>\n",
       "      <td>0</td>\n",
       "      <td>0</td>\n",
       "      <td>0</td>\n",
       "      <td>0</td>\n",
       "      <td>0</td>\n",
       "      <td>0</td>\n",
       "    </tr>\n",
       "    <tr>\n",
       "      <td>9997</td>\n",
       "      <td>0</td>\n",
       "      <td>0</td>\n",
       "      <td>0</td>\n",
       "      <td>0</td>\n",
       "      <td>0</td>\n",
       "      <td>0</td>\n",
       "      <td>0</td>\n",
       "      <td>1</td>\n",
       "      <td>0</td>\n",
       "      <td>0</td>\n",
       "      <td>...</td>\n",
       "      <td>169</td>\n",
       "      <td>131</td>\n",
       "      <td>0</td>\n",
       "      <td>0</td>\n",
       "      <td>0</td>\n",
       "      <td>0</td>\n",
       "      <td>0</td>\n",
       "      <td>0</td>\n",
       "      <td>0</td>\n",
       "      <td>0</td>\n",
       "    </tr>\n",
       "    <tr>\n",
       "      <td>9998</td>\n",
       "      <td>0</td>\n",
       "      <td>0</td>\n",
       "      <td>0</td>\n",
       "      <td>1</td>\n",
       "      <td>0</td>\n",
       "      <td>0</td>\n",
       "      <td>0</td>\n",
       "      <td>0</td>\n",
       "      <td>24</td>\n",
       "      <td>116</td>\n",
       "      <td>...</td>\n",
       "      <td>85</td>\n",
       "      <td>104</td>\n",
       "      <td>138</td>\n",
       "      <td>51</td>\n",
       "      <td>0</td>\n",
       "      <td>3</td>\n",
       "      <td>0</td>\n",
       "      <td>0</td>\n",
       "      <td>0</td>\n",
       "      <td>0</td>\n",
       "    </tr>\n",
       "    <tr>\n",
       "      <td>9999</td>\n",
       "      <td>0</td>\n",
       "      <td>0</td>\n",
       "      <td>0</td>\n",
       "      <td>0</td>\n",
       "      <td>1</td>\n",
       "      <td>0</td>\n",
       "      <td>0</td>\n",
       "      <td>15</td>\n",
       "      <td>77</td>\n",
       "      <td>50</td>\n",
       "      <td>...</td>\n",
       "      <td>2</td>\n",
       "      <td>1</td>\n",
       "      <td>0</td>\n",
       "      <td>0</td>\n",
       "      <td>76</td>\n",
       "      <td>47</td>\n",
       "      <td>0</td>\n",
       "      <td>0</td>\n",
       "      <td>0</td>\n",
       "      <td>0</td>\n",
       "    </tr>\n",
       "  </tbody>\n",
       "</table>\n",
       "<p>10000 rows × 784 columns</p>\n",
       "</div>"
      ],
      "text/plain": [
       "      0  1  2  3  4  5  6   7   8    9  ...  774  775  776  777  778  779  \\\n",
       "0     0  0  0  0  0  0  0   0   0    0  ...    0    0    0    0    0    0   \n",
       "1     0  0  0  0  0  1  0   0   0    0  ...  119  114  130   76    0    0   \n",
       "2     0  0  0  0  0  0  0   0   0   22  ...    0    0    1    0    0    0   \n",
       "3     0  0  0  0  0  0  0   0  33   96  ...    0    0    0    0    0    0   \n",
       "4     0  0  0  0  0  0  0   0   0    0  ...    0    0    0    0    0    0   \n",
       "...  .. .. .. .. .. .. ..  ..  ..  ...  ...  ...  ...  ...  ...  ...  ...   \n",
       "9995  0  0  0  0  0  0  0   0   0    0  ...    0    0    0    0    0    0   \n",
       "9996  0  0  0  0  0  0  0   0   0    0  ...    0    0    0    0    0    0   \n",
       "9997  0  0  0  0  0  0  0   1   0    0  ...  169  131    0    0    0    0   \n",
       "9998  0  0  0  1  0  0  0   0  24  116  ...   85  104  138   51    0    3   \n",
       "9999  0  0  0  0  1  0  0  15  77   50  ...    2    1    0    0   76   47   \n",
       "\n",
       "      780  781  782  783  \n",
       "0       0    0    0    0  \n",
       "1       0    0    0    0  \n",
       "2       0    0    0    0  \n",
       "3       0    0    0    0  \n",
       "4       0    0    0    0  \n",
       "...   ...  ...  ...  ...  \n",
       "9995    0    0    0    0  \n",
       "9996    0    0    0    0  \n",
       "9997    0    0    0    0  \n",
       "9998    0    0    0    0  \n",
       "9999    0    0    0    0  \n",
       "\n",
       "[10000 rows x 784 columns]"
      ]
     },
     "execution_count": 13,
     "metadata": {},
     "output_type": "execute_result"
    }
   ],
   "source": [
    "test_data = df_test.drop(['Id'],axis = 1)\n",
    "test_data"
   ]
  },
  {
   "cell_type": "code",
   "execution_count": 14,
   "metadata": {},
   "outputs": [
    {
     "data": {
      "text/plain": [
       "(10000, 784)"
      ]
     },
     "execution_count": 14,
     "metadata": {},
     "output_type": "execute_result"
    }
   ],
   "source": [
    "test_data.shape"
   ]
  },
  {
   "cell_type": "code",
   "execution_count": 15,
   "metadata": {},
   "outputs": [
    {
     "data": {
      "text/plain": [
       "(60000,)"
      ]
     },
     "execution_count": 15,
     "metadata": {},
     "output_type": "execute_result"
    }
   ],
   "source": [
    "y_train = df_train['Label']\n",
    "y_train.shape"
   ]
  },
  {
   "cell_type": "code",
   "execution_count": 16,
   "metadata": {},
   "outputs": [
    {
     "data": {
      "text/plain": [
       "(10000,)"
      ]
     },
     "execution_count": 16,
     "metadata": {},
     "output_type": "execute_result"
    }
   ],
   "source": [
    "y_test = df_test['Id']\n",
    "y_test.shape"
   ]
  },
  {
   "cell_type": "code",
   "execution_count": 17,
   "metadata": {},
   "outputs": [],
   "source": [
    "X_train, X_val, y_train, y_val = train_test_split(train_data,y_train, test_size=0.20, random_state = 42)"
   ]
  },
  {
   "cell_type": "markdown",
   "metadata": {},
   "source": [
    "# Normalization, Reshape and Label Encoding\n",
    "\n",
    "**Normalization**\n",
    "* We perform a grayscale normalization to reduce the effect of illumination's differences.\n",
    "* If we perform normalization, CNN works faster."
   ]
  },
  {
   "cell_type": "code",
   "execution_count": 18,
   "metadata": {},
   "outputs": [],
   "source": [
    "# Normalize the data\n",
    "X_train = X_train.values.reshape((-1,28,28,1))\n",
    "X_val = X_val.values.reshape((-1,28,28,1))\n",
    "test_data = test_data.values.reshape((-1,28,28,1))"
   ]
  },
  {
   "cell_type": "code",
   "execution_count": 19,
   "metadata": {},
   "outputs": [
    {
     "data": {
      "text/plain": [
       "(48000, 28, 28, 1)"
      ]
     },
     "execution_count": 19,
     "metadata": {},
     "output_type": "execute_result"
    }
   ],
   "source": [
    "X_train.shape"
   ]
  },
  {
   "cell_type": "code",
   "execution_count": 20,
   "metadata": {},
   "outputs": [
    {
     "data": {
      "text/plain": [
       "(12000, 28, 28, 1)"
      ]
     },
     "execution_count": 20,
     "metadata": {},
     "output_type": "execute_result"
    }
   ],
   "source": [
    "X_val.shape"
   ]
  },
  {
   "cell_type": "code",
   "execution_count": 21,
   "metadata": {},
   "outputs": [
    {
     "data": {
      "text/plain": [
       "(10000, 28, 28, 1)"
      ]
     },
     "execution_count": 21,
     "metadata": {},
     "output_type": "execute_result"
    }
   ],
   "source": [
    "test_data.shape"
   ]
  },
  {
   "cell_type": "markdown",
   "metadata": {},
   "source": [
    "#**Reshaping**\n",
    "* Train and test images  pixels size (28 x 28)\n",
    "* Reshaping all data to 28x28x1 3D matrices.\n",
    "* Images are gray scaled in our model so it uses only one channel."
   ]
  },
  {
   "cell_type": "code",
   "execution_count": 22,
   "metadata": {},
   "outputs": [
    {
     "data": {
      "text/plain": [
       "(48000, 28, 28, 1)"
      ]
     },
     "execution_count": 22,
     "metadata": {},
     "output_type": "execute_result"
    }
   ],
   "source": [
    "# changing into float\n",
    "X_train = X_train.astype(int)/255\n",
    "X_val = X_val.astype(int)/255\n",
    "test_data = test_data.astype(int)/255\n",
    "X_train.shape\n"
   ]
  },
  {
   "cell_type": "code",
   "execution_count": 23,
   "metadata": {},
   "outputs": [],
   "source": [
    "from keras.utils import to_categorical\n",
    "\n",
    "y_train = to_categorical(y_train, num_classes=5)\n",
    "y_val = to_categorical(y_val, num_classes=5)\n"
   ]
  },
  {
   "cell_type": "code",
   "execution_count": 24,
   "metadata": {},
   "outputs": [
    {
     "name": "stdout",
     "output_type": "stream",
     "text": [
      "(48000, 5)\n",
      "(12000, 5)\n"
     ]
    }
   ],
   "source": [
    "print(y_train.shape)\n",
    "print(y_val.shape)"
   ]
  },
  {
   "cell_type": "markdown",
   "metadata": {},
   "source": [
    "**Label Encoding**\n",
    "\n",
    "The convolutional neural network cannot deal with categorical labels. Therefore, we transform the labels into binary vectors,\n",
    "* We need to ‘one-hot-encode’  encodes labels/target variable to one hot vectors. This means that a column is created for each output category and a binary variable is inputted for each category. \n",
    "* for example- \n",
    "* 2 => [0,0,1,0,0,0,0,0,0,0]\n",
    "* 4 => [0,0,0,0,1,0,0,0,0,0]"
   ]
  },
  {
   "cell_type": "markdown",
   "metadata": {},
   "source": [
    "# Implementation of General Design Choice"
   ]
  },
  {
   "cell_type": "markdown",
   "metadata": {},
   "source": [
    "#  Building a simple ConvNetwork\n"
   ]
  },
  {
   "cell_type": "markdown",
   "metadata": {},
   "source": [
    "First we have tried simple convolution network,using Sequential Keras which is the easiest way to build a model in Keras. It allows us to build a model layer by layer. We add one layer at a time starting from input.\n",
    "\n",
    "\n",
    "Next We add Convolutional Layers and use the ‘add()’ function to add layers to our model, which are the building blocks. These are convolution layers that deals with the input images, which are seen as 2-dimensional matrices.Kernel size is the size of the filter matrix for the convolution. So a kernel size of 3 means we have a 3x3 filter matrix. Conv2D with the following parameters:\n",
    "* filters: 32\n",
    "* kernel_size : (3 x 3)\n",
    "* activation : relu;\n",
    "* Maxpooling2D\n",
    "* Flatten\n",
    "* Desnse : 64 \n",
    "* optimizer: Adam\n",
    "\n",
    "Lets see how our model performs"
   ]
  },
  {
   "cell_type": "code",
   "execution_count": 25,
   "metadata": {},
   "outputs": [
    {
     "name": "stdout",
     "output_type": "stream",
     "text": [
      "Model: \"sequential_1\"\n",
      "_________________________________________________________________\n",
      "Layer (type)                 Output Shape              Param #   \n",
      "=================================================================\n",
      "conv2d_1 (Conv2D)            (None, 26, 26, 32)        320       \n",
      "_________________________________________________________________\n",
      "max_pooling2d_1 (MaxPooling2 (None, 13, 13, 32)        0         \n",
      "_________________________________________________________________\n",
      "flatten_1 (Flatten)          (None, 5408)              0         \n",
      "_________________________________________________________________\n",
      "dense_1 (Dense)              (None, 64)                346176    \n",
      "_________________________________________________________________\n",
      "dense_2 (Dense)              (None, 5)                 325       \n",
      "=================================================================\n",
      "Total params: 346,821\n",
      "Trainable params: 346,821\n",
      "Non-trainable params: 0\n",
      "_________________________________________________________________\n"
     ]
    }
   ],
   "source": [
    "model_1 = Sequential()\n",
    "model_1.add(Conv2D(filters=32, kernel_size=(3, 3), activation='relu', input_shape=(28,28,1)))\n",
    "model_1.add(MaxPooling2D(pool_size=(2, 2)))\n",
    "model_1.add(Flatten())\n",
    "model_1.add(Dense(64, activation='relu'))\n",
    "model_1.add(Dense(5, activation='softmax'))\n",
    "\n",
    "model_1.summary()"
   ]
  },
  {
   "cell_type": "markdown",
   "metadata": {},
   "source": [
    "# Batch size\n",
    "When training neural networks it controls the accuracy of the error gradient. For instance; A batch size of 64 means that 64 samples from the training dataset will be used to estimate the error gradient before the model weights are updated. Here we have taken 64 batch size.\n",
    "\n",
    "# Epochs\n",
    "One Epoch is when all dataset is processed forward and backward through the neural network only one time.\n",
    "So one epoch is counted when = (batch_size * number_iteration) >= number_data.\n",
    "first we will train our data only for 25 epochs.\n"
   ]
  },
  {
   "cell_type": "code",
   "execution_count": 26,
   "metadata": {},
   "outputs": [],
   "source": [
    "batch_size = 256\n",
    "epochs = 25"
   ]
  },
  {
   "cell_type": "markdown",
   "metadata": {},
   "source": [
    "# Compiling the model"
   ]
  },
  {
   "cell_type": "markdown",
   "metadata": {},
   "source": [
    "Next, we need to compile our model. Compiling the model takes three parameters: optimizer, loss and metrics\n",
    "\n",
    "1) Optimization - Algorithms help us minimize the Error Function and controls the learning rate. We will be using ‘adam’ as our optmizer that is generally a good optimizer to use for many cases. The adam optimizer adjusts the learning rate throughout training.\n",
    "\n",
    "2) Loss Function - for Binary Classification \"binary_crossentropy\" is used and for Multi-class Classification \"categorical_crossentropy\" is used. This is the most common choice for classification. A lower score indicates that the model is performing better. \n",
    "\n",
    "3) Matrics - Matrics we are going to use are following: \n",
    "* Accuracy\n",
    "* F1 score\n",
    "* precision\n",
    "* Recall \n",
    "* Support"
   ]
  },
  {
   "cell_type": "code",
   "execution_count": 27,
   "metadata": {},
   "outputs": [],
   "source": [
    "model_1.compile(optimizer=optimizers.Adam(lr = 0.001), loss=\"categorical_crossentropy\", metrics=[\"accuracy\"])"
   ]
  },
  {
   "cell_type": "markdown",
   "metadata": {},
   "source": [
    "# Fitting the Model\n",
    "Now we will train our model. To train, we will use the ‘fit()’ function on our model with the following parameters: training data (X_train), target data (y_train), and validate it validation data with a 80-20% split. Here, we also compute the computational time to check how effieciently our model performs."
   ]
  },
  {
   "cell_type": "code",
   "execution_count": 28,
   "metadata": {},
   "outputs": [
    {
     "name": "stdout",
     "output_type": "stream",
     "text": [
      "Train on 48000 samples, validate on 12000 samples\n",
      "Epoch 1/20\n",
      "48000/48000 [==============================] - 19s 388us/step - loss: 0.7557 - accuracy: 0.6812 - val_loss: 0.5618 - val_accuracy: 0.7722\n",
      "Epoch 2/20\n",
      "48000/48000 [==============================] - 18s 379us/step - loss: 0.5027 - accuracy: 0.8001 - val_loss: 0.4503 - val_accuracy: 0.8276\n",
      "Epoch 3/20\n",
      "48000/48000 [==============================] - 18s 376us/step - loss: 0.4372 - accuracy: 0.8305 - val_loss: 0.4108 - val_accuracy: 0.8442\n",
      "Epoch 4/20\n",
      "48000/48000 [==============================] - 18s 379us/step - loss: 0.3985 - accuracy: 0.8465 - val_loss: 0.3988 - val_accuracy: 0.8422\n",
      "Epoch 5/20\n",
      "48000/48000 [==============================] - 18s 377us/step - loss: 0.3735 - accuracy: 0.8569 - val_loss: 0.3950 - val_accuracy: 0.8435\n",
      "Epoch 6/20\n",
      "48000/48000 [==============================] - 18s 373us/step - loss: 0.3552 - accuracy: 0.8625 - val_loss: 0.3539 - val_accuracy: 0.8615\n",
      "Epoch 7/20\n",
      "48000/48000 [==============================] - 18s 375us/step - loss: 0.3400 - accuracy: 0.8681 - val_loss: 0.3390 - val_accuracy: 0.8692\n",
      "Epoch 8/20\n",
      "48000/48000 [==============================] - 18s 373us/step - loss: 0.3234 - accuracy: 0.8749 - val_loss: 0.3457 - val_accuracy: 0.8673\n",
      "Epoch 9/20\n",
      "48000/48000 [==============================] - 18s 370us/step - loss: 0.3129 - accuracy: 0.8780 - val_loss: 0.3400 - val_accuracy: 0.8622\n",
      "Epoch 10/20\n",
      "48000/48000 [==============================] - 18s 375us/step - loss: 0.3012 - accuracy: 0.8827 - val_loss: 0.3306 - val_accuracy: 0.8709\n",
      "Epoch 11/20\n",
      "48000/48000 [==============================] - 18s 370us/step - loss: 0.2894 - accuracy: 0.8898 - val_loss: 0.3390 - val_accuracy: 0.8652\n",
      "Epoch 12/20\n",
      "48000/48000 [==============================] - 18s 373us/step - loss: 0.2812 - accuracy: 0.8914 - val_loss: 0.3224 - val_accuracy: 0.8732\n",
      "Epoch 13/20\n",
      "48000/48000 [==============================] - 18s 370us/step - loss: 0.2743 - accuracy: 0.8940 - val_loss: 0.3066 - val_accuracy: 0.8803\n",
      "Epoch 14/20\n",
      "48000/48000 [==============================] - 18s 368us/step - loss: 0.2633 - accuracy: 0.8992 - val_loss: 0.3206 - val_accuracy: 0.8750\n",
      "Epoch 15/20\n",
      "48000/48000 [==============================] - 17s 353us/step - loss: 0.2514 - accuracy: 0.9033 - val_loss: 0.3115 - val_accuracy: 0.8788\n",
      "Epoch 16/20\n",
      "48000/48000 [==============================] - 17s 358us/step - loss: 0.2451 - accuracy: 0.9059 - val_loss: 0.3075 - val_accuracy: 0.8821\n",
      "Epoch 17/20\n",
      "48000/48000 [==============================] - 17s 364us/step - loss: 0.2425 - accuracy: 0.9059 - val_loss: 0.3139 - val_accuracy: 0.8783\n",
      "Epoch 18/20\n",
      "48000/48000 [==============================] - 17s 363us/step - loss: 0.2387 - accuracy: 0.9066 - val_loss: 0.3194 - val_accuracy: 0.8753\n",
      "Epoch 19/20\n",
      "48000/48000 [==============================] - 18s 365us/step - loss: 0.2314 - accuracy: 0.9097 - val_loss: 0.3036 - val_accuracy: 0.8836\n",
      "Epoch 20/20\n",
      "48000/48000 [==============================] - 17s 362us/step - loss: 0.2189 - accuracy: 0.9174 - val_loss: 0.3101 - val_accuracy: 0.8779\n",
      "Total training time is 5.95 minute\n"
     ]
    }
   ],
   "source": [
    "import time\n",
    "start = time.time()\n",
    "History = model_1.fit(X_train, y_train,\n",
    "        validation_data=(X_val, y_val),batch_size= 256, epochs=20)\n",
    "end = time.time()\n",
    "model_time = end-start\n",
    "print(\"Total training time is {:0.2f} minute\".format(model_time/60.0))"
   ]
  },
  {
   "cell_type": "markdown",
   "metadata": {},
   "source": [
    "We have trained our dataset for 20 epochs on 80-20 % validation split. We can see that training on a simple network gives highest 88% accuracy and it takes only 5 minutes time to run the model. \n",
    "\n",
    "Next, we will see the performace of our plots. "
   ]
  },
  {
   "cell_type": "markdown",
   "metadata": {},
   "source": [
    "# Plot 1 - Loss Vs Epochs"
   ]
  },
  {
   "cell_type": "code",
   "execution_count": 29,
   "metadata": {},
   "outputs": [
    {
     "data": {
      "image/png": "[encoded data removed]",
      "text/plain": [
       "<Figure size 432x288 with 1 Axes>"
      ]
     },
     "metadata": {
      "needs_background": "light"
     },
     "output_type": "display_data"
    }
   ],
   "source": [
    "# plot summarize history for loss\n",
    "plt.plot(History.history['loss'])\n",
    "plt.plot(History.history['val_loss'])\n",
    "plt.title('model loss')\n",
    "plt.ylabel('loss')\n",
    "plt.xlabel('epoch')\n",
    "plt.legend(['train', 'Validation'], loc='upper left')\n",
    "plt.show()"
   ]
  },
  {
   "cell_type": "markdown",
   "metadata": {},
   "source": [
    "for the 20 epochs we have trained our dataset, here we can see that the training loss continues to decrease until the end of the training and the plot of validation loss decreases to a point and begins increasing again. This shows that our model is overfitting. \n"
   ]
  },
  {
   "cell_type": "markdown",
   "metadata": {},
   "source": [
    "# Plot 2 - Accuracy Vs Epochs"
   ]
  },
  {
   "cell_type": "code",
   "execution_count": 30,
   "metadata": {},
   "outputs": [
    {
     "data": {
      "image/png": "[encoded data removed]",
      "text/plain": [
       "<Figure size 432x288 with 1 Axes>"
      ]
     },
     "metadata": {
      "needs_background": "light"
     },
     "output_type": "display_data"
    }
   ],
   "source": [
    "plt.plot(History.history['accuracy'])\n",
    "plt.plot(History.history['val_accuracy'])\n",
    "plt.title('Model Accuracy')\n",
    "plt.xlabel('Epochs')\n",
    "plt.ylabel('Accuracy')\n",
    "plt.legend(['Train','Validation'])\n",
    "plt.show()"
   ]
  },
  {
   "cell_type": "markdown",
   "metadata": {},
   "source": [
    "By using this metrics we evaluate how accurate our model's prediction is compared to the train data. Here we can intrepret from the plot that the validtion accuracy is lower than the training accuracy. The gap between training and validation accuracy is a clear indication of overfitting in the model. The larger the gap, the higher the overfitting. "
   ]
  },
  {
   "cell_type": "markdown",
   "metadata": {},
   "source": [
    "# Prediction on Test Data\n",
    "\n",
    "After training the dataset we will test our model performance on the test data by predicting the labels. "
   ]
  },
  {
   "cell_type": "code",
   "execution_count": 31,
   "metadata": {},
   "outputs": [
    {
     "name": "stdout",
     "output_type": "stream",
     "text": [
      "3\n",
      "4\n",
      "0\n",
      "1\n",
      "0\n"
     ]
    }
   ],
   "source": [
    "cnn_pred_mnist_1 = model_1.predict(test_data)\n",
    "for i in range(5):\n",
    "    print(np.argmax(np.round(cnn_pred_mnist_1[i])))\n"
   ]
  },
  {
   "cell_type": "markdown",
   "metadata": {},
   "source": [
    "# Confusion Matrix "
   ]
  },
  {
   "cell_type": "markdown",
   "metadata": {},
   "source": [
    "A confusion matrix is a summary of prediction results on a classification problem. The number of correct and incorrect predictions are summarized with count values and segregated by each class. This is the important key to the confusion matrix. The confusion matrix shows the ways in which the classification model is confused when it makes predictions. It represents not only the errors being made by a classifier but more importantly the types of errors that are being made. Here, we will be discussing about some matrics :\n",
    "\n",
    "Classification Rate/Accuracy:\n",
    "\n",
    "1. Recall:\n",
    "\n",
    "It can be defined as the ratio of the total number of correctly classified positive classes divide to the total number of positive classes. High Recall indicates the class is correctly recognized\n",
    "\n",
    "2. Precision:\n",
    "\n",
    "To get the value of precision we divide the total number of correctly classified positive classes by the total number of predicted positive classes. High Precision indicates a class labeled as positive is indeed positive (a small number of FP)\n",
    "\n",
    "**3. F1 Factor:\n",
    "\n",
    "We calculate an F-measure which uses Harmonic Mean instead of Arithmetic Mean as it punishes the extreme values more. The F-Measure will always be nearer to the smaller value of Precision or Recall.\n",
    "\n",
    "4. Support: **\n",
    "\n",
    "The support is the number of samples of the true response that lie in that dataset. Support doesn’t change between models but instead diagnoses the evaluation process.\n"
   ]
  },
  {
   "cell_type": "code",
   "execution_count": 32,
   "metadata": {},
   "outputs": [],
   "source": [
    "def plot_confusion_matrix(cm, classes,\n",
    "                          normalize=False,\n",
    "                          title='Confusion matrix',\n",
    "                          cmap=plt.cm.Blues):\n",
    "    \n",
    "    plt.imshow(cm, interpolation='nearest', cmap=cmap)\n",
    "    plt.title(title)\n",
    "    plt.colorbar()\n",
    "    tick_marks = np.arange(len(classes))\n",
    "    plt.xticks(tick_marks, classes, rotation=90)\n",
    "    plt.yticks(tick_marks, classes)\n",
    "\n",
    "    if normalize:\n",
    "        cm = cm.astype('float') / cm.sum(axis=1)[:, np.newaxis]\n",
    "\n",
    "    thresh = cm.max() / 2.\n",
    "    for i, j in itertools.product(range(cm.shape[0]), range(cm.shape[1])):\n",
    "        plt.text(j, i, cm[i, j],\n",
    "                 horizontalalignment=\"center\",\n",
    "                 color=\"white\" if cm[i, j] > thresh else \"black\")\n",
    "\n",
    "    plt.tight_layout()\n",
    "    plt.ylabel('True label')\n",
    "    plt.xlabel('Predicted label')"
   ]
  },
  {
   "cell_type": "code",
   "execution_count": 33,
   "metadata": {},
   "outputs": [
    {
     "data": {
      "image/png": "[encoded data removed]",
      "text/plain": [
       "<Figure size 432x288 with 2 Axes>"
      ]
     },
     "metadata": {
      "needs_background": "light"
     },
     "output_type": "display_data"
    }
   ],
   "source": [
    "# Predict the values from the validation dataset\n",
    "y_pred = model_1.predict(X_val)\n",
    "\n",
    "# Convert predictions classes to one hot vectors \n",
    "y_pred_mnist_classes = np.argmax(y_pred,axis = 1) \n",
    "\n",
    "# Convert validation observations to one hot vectors\n",
    "y_true_classes = np.argmax(y_val,axis = 1) \n",
    "\n",
    "# compute the confusion matrix\n",
    "confusion_matrix = confusion_matrix(y_true_classes, y_pred_mnist_classes) \n",
    "\n",
    "# plot the confusion matrix\n",
    "plot_confusion_matrix(confusion_matrix, classes = [0,1,2,3,4])\n"
   ]
  },
  {
   "cell_type": "markdown",
   "metadata": {},
   "source": [
    "We can see that a large number of label 3 is misclassified as label 4, followed by label 2.\n",
    "label 1 is misclassified as label 2, and label 2 is misclassified as label 3. \n"
   ]
  },
  {
   "cell_type": "code",
   "execution_count": 34,
   "metadata": {},
   "outputs": [
    {
     "name": "stdout",
     "output_type": "stream",
     "text": [
      "-----------------Convolutional Neural Network Report---------------\n",
      "F1 score: 0.8840108998191272\n",
      "Accuracy score: 0.8845833333333334\n",
      "              precision    recall  f1-score   support\n",
      "\n",
      "           0       0.93      0.96      0.94      2379\n",
      "           1       0.87      0.89      0.88      2424\n",
      "           2       0.87      0.80      0.83      2364\n",
      "           3       0.84      0.84      0.84      2367\n",
      "           4       0.92      0.92      0.92      2466\n",
      "\n",
      "    accuracy                           0.88     12000\n",
      "   macro avg       0.88      0.88      0.88     12000\n",
      "weighted avg       0.88      0.88      0.88     12000\n",
      "\n"
     ]
    }
   ],
   "source": [
    "cnn_f1_mnist_1 = metrics.f1_score(y_true_classes, y_pred_mnist_classes, average= \"weighted\")\n",
    "cnn_accuracy_mnist_1 = metrics.accuracy_score(y_true_classes, y_pred_mnist_classes)\n",
    "cnn_cm_mnist_1 = metrics.confusion_matrix(y_true_classes, y_pred_mnist_classes)\n",
    "print(\"-----------------Convolutional Neural Network Report---------------\")\n",
    "print(\"F1 score: {}\".format(cnn_f1_mnist_1))\n",
    "print(\"Accuracy score: {}\".format(cnn_accuracy_mnist_1))\n",
    "print(metrics.classification_report(y_true_classes, y_pred_mnist_classes))\n"
   ]
  },
  {
   "cell_type": "markdown",
   "metadata": {},
   "source": [
    "Look at the precision of the class 2, we can see that our model predicted 80% correctly out of the total labels it has predicted. We did conclude the same from the confusion matrix, where we saw that label 2 and label 3 are misclassified. \n",
    "Label 0 and 4 has the highest precision, recall and othe classification report performance. "
   ]
  },
  {
   "cell_type": "code",
   "execution_count": 35,
   "metadata": {},
   "outputs": [
    {
     "name": "stdout",
     "output_type": "stream",
     "text": [
      "Class: 0\n",
      "Number of Wrong Prediction: 90 out of 12000\n",
      "Percentage of True Prediction: 457.80%\n",
      "***********************************************************\n",
      "Class: 1\n",
      "Number of Wrong Prediction: 276 out of 12000\n",
      "Percentage of True Prediction: 429.60%\n",
      "***********************************************************\n",
      "Class: 2\n",
      "Number of Wrong Prediction: 465 out of 12000\n",
      "Percentage of True Prediction: 379.80%\n",
      "***********************************************************\n",
      "Class: 3\n",
      "Number of Wrong Prediction: 369 out of 12000\n",
      "Percentage of True Prediction: 399.60%\n",
      "***********************************************************\n",
      "Class: 4\n",
      "Number of Wrong Prediction: 185 out of 12000\n",
      "Percentage of True Prediction: 456.20%\n",
      "***********************************************************\n"
     ]
    }
   ],
   "source": [
    "for i in range(len(confusion_matrix)):\n",
    "    print(\"Class:\",str(i))\n",
    "    print(\"Number of Wrong Prediction:\", str(sum(confusion_matrix[i])-confusion_matrix[i][i]), \"out of 12000\")\n",
    "    print(\"Percentage of True Prediction: {:.2f}%\".format(confusion_matrix[i][i] / 5))\n",
    "    print(\"***********************************************************\")"
   ]
  },
  {
   "cell_type": "markdown",
   "metadata": {},
   "source": [
    "As shown in the above analysis we can conclude that class 0 has highest accuracy of true prediction followed by class 4, class 2 and class 1. Class 3 got the lowest performance in terms of all classification matrics. "
   ]
  },
  {
   "cell_type": "markdown",
   "metadata": {},
   "source": [
    "# 2.2 Implementation of your Design Choices (CNN three hidden layer)\n",
    "\n",
    "**Building a Convolution Network**\n",
    "\n",
    "The model has two main aspects: the feature extraction front end consists of convolutional and pooling layers, and the classifier backend that will make a prediction.\n",
    "\n",
    "**Feature extraction-** The convolution + pooling layers perform feature extraction and make possible to detect features like two eyes, four legs, two wheels, building, face, roads, vehicle, etc. The convolution layers learn these complex features by building on top of each other. The first layers detect edges, the next layers combine them to detect shapes, to following layers merge this information to infer complete objects.\n",
    "\n",
    "**Classification-\n",
    "\n",
    "The fully connected layers act as a classifier on top of the extracted features, and assign a probability for the input image and represent certain class. "
   ]
  },
  {
   "cell_type": "markdown",
   "metadata": {},
   "source": [
    "# Model 2 Using Dropout Layer \n",
    "\n",
    "In our previous model we saw that our model overfits we will use the dropout layers to reduce it. A single model can be used to simulate having a large number of different network architectures by randomly dropping out nodes during training. This is called dropout and offers a very computationally cheap and remarkably effective regularization method to reduce overfitting and improve generalization error. Dropout is implemented per-layer in a neural network. \n",
    "We can try using different values of dropout rates at the different Conv2D and Dense layers to see if we get better performance,this is part of the hyper-parameter tuning process. I normally use dropout rates between 0.2–0.5.\n",
    "\n",
    "Here I am going to explain our model architecture and design choice- "
   ]
  },
  {
   "cell_type": "markdown",
   "metadata": {},
   "source": [
    "Steps:\n",
    "\n",
    "1) At First, we will use Sequential Keras and add () to add the layers sequentially in the model. Now, we can start building our convolutional neural network. The first layer Conv2D is a convolutional layer that takes a 2-dimensional matrix of 28 by 28 pixels in greyscale (1) as input. We add Conv2D layer with the following parameters:\n",
    "\n",
    "1. filters: 32;\n",
    "2. kernel_size : (3 x 3);\n",
    "3. activation : relu;\n",
    "\n",
    "\n",
    "2) It includes some HyperParameters such as The number of filters, Dimensions of Filter (F), Stride (S), Padding(P) , Activation Function (Rectified Linear Activation. This activation function has been proven to work well in neural networks.) etc. which we must decide manually.\n",
    "\n",
    "* **Strides** - specifies how much we move the convolution filter at each step. We can have bigger strides if we want less overlap between the receptive fields making the resulting feature map smaller\n",
    "\n",
    "* Adding **padding** to the convolutional operation can often result in better model performance. By default, the convolutional operation uses ‘valid’ padding, which means that convolutions are only applied where possible. But we have changed it to ‘same’ padding so that zero values are added around the input such that the output has the same size as the input.\n",
    "\n",
    "\n",
    "3) Next, we add MaxPooling2D layers (pool_size- (2,2)), which are used for dimensionality reduction by outputting the maximum of the part of the input image that is captured by the filter matrix. These are used where we have lot of input features. It reduces the amount of parameters and computational power required, thus reducing Overfitting.\n",
    "\n",
    "4) To avoid overfitting we add 'Dropout' layer. Dropout is implemented per-layer in a neural network and randomly dropping out nodes during training. It offers a very computationally cheap and remarkably effective regularization method to reduce overfitting and improve generalization error in deep neural networks. Dropout can be implemented on any or all hidden layers in the network as well as the input layer. It is not used on the output layer.\n",
    "\n",
    "Parameters are used here: 0.2, 0.4, 0.5\n",
    "\n",
    "5) We add Flatten layer that simply flattens the result from the previous layer into 1D vector. We then add Fully connected Layers after some convolutional/pooling layers. It combines all the Features of the Previous Layers. Flatten serves as a connection between the convolution and dense layers\n",
    "\n",
    "6) Lastly, we add 'Dense’ that is the Output Layer. Dense is a standard layer type that is used in many cases for neural networks. We will have 5 nodes in our output layer, one for each possible outcome (0–4). \n",
    "\n",
    "The activation is ‘softmax’- Softmax makes the output sum up to 1 so the output can be interpreted as probabilities that assigns predicted probabilities to each of the five clothing categories. It has units equal to the number of classes to be identified. Here, use 'softmax' activation function in case of Multi-Class Classification.\n",
    "\n",
    "Lets see how our model performs: "
   ]
  },
  {
   "cell_type": "code",
   "execution_count": 36,
   "metadata": {},
   "outputs": [],
   "source": [
    "model_2 = Sequential()\n",
    "model_2.add(Conv2D(filters=32, kernel_size=(3, 3), activation='relu', input_shape=(28,28,1)))\n",
    "model_2.add(MaxPooling2D(pool_size=(2, 2)))\n",
    "model_2.add(Dropout(0.2))\n",
    "model_2.add(Conv2D(filters=64, kernel_size=(3, 3), activation='relu', input_shape=(28,28,1), strides=1, padding='same'))\n",
    "model_2.add(MaxPooling2D(pool_size=(2, 2)))\n",
    "model_2.add(Dropout(0.4))\n",
    "model_2.add(Conv2D(filters=128, kernel_size=(3, 3), activation='relu', input_shape=(28,28,1), strides=1, padding='same' ))\n",
    "model_2.add(MaxPooling2D(pool_size=(2, 2)))\n",
    "model_2.add(Dropout(0.4))\n",
    "model_2.add(Flatten())\n",
    "model_2.add(Dense(128, activation='relu'))\n",
    "model_2.add(Dense(5, activation='softmax'))"
   ]
  },
  {
   "cell_type": "code",
   "execution_count": 37,
   "metadata": {},
   "outputs": [
    {
     "name": "stdout",
     "output_type": "stream",
     "text": [
      "Model: \"sequential_2\"\n",
      "_________________________________________________________________\n",
      "Layer (type)                 Output Shape              Param #   \n",
      "=================================================================\n",
      "conv2d_2 (Conv2D)            (None, 26, 26, 32)        320       \n",
      "_________________________________________________________________\n",
      "max_pooling2d_2 (MaxPooling2 (None, 13, 13, 32)        0         \n",
      "_________________________________________________________________\n",
      "dropout_1 (Dropout)          (None, 13, 13, 32)        0         \n",
      "_________________________________________________________________\n",
      "conv2d_3 (Conv2D)            (None, 13, 13, 64)        18496     \n",
      "_________________________________________________________________\n",
      "max_pooling2d_3 (MaxPooling2 (None, 6, 6, 64)          0         \n",
      "_________________________________________________________________\n",
      "dropout_2 (Dropout)          (None, 6, 6, 64)          0         \n",
      "_________________________________________________________________\n",
      "conv2d_4 (Conv2D)            (None, 6, 6, 128)         73856     \n",
      "_________________________________________________________________\n",
      "max_pooling2d_4 (MaxPooling2 (None, 3, 3, 128)         0         \n",
      "_________________________________________________________________\n",
      "dropout_3 (Dropout)          (None, 3, 3, 128)         0         \n",
      "_________________________________________________________________\n",
      "flatten_2 (Flatten)          (None, 1152)              0         \n",
      "_________________________________________________________________\n",
      "dense_3 (Dense)              (None, 128)               147584    \n",
      "_________________________________________________________________\n",
      "dense_4 (Dense)              (None, 5)                 645       \n",
      "=================================================================\n",
      "Total params: 240,901\n",
      "Trainable params: 240,901\n",
      "Non-trainable params: 0\n",
      "_________________________________________________________________\n"
     ]
    }
   ],
   "source": [
    "model_2.summary()"
   ]
  },
  {
   "cell_type": "code",
   "execution_count": 38,
   "metadata": {},
   "outputs": [],
   "source": [
    "batch_size = 128\n",
    "epochs = 20"
   ]
  },
  {
   "cell_type": "markdown",
   "metadata": {},
   "source": [
    "# Compiling the model_2"
   ]
  },
  {
   "cell_type": "code",
   "execution_count": 39,
   "metadata": {},
   "outputs": [],
   "source": [
    "model_2.compile(optimizer=optimizers.Adam(lr = 0.001), loss=\"categorical_crossentropy\", metrics=[\"accuracy\"])"
   ]
  },
  {
   "cell_type": "markdown",
   "metadata": {},
   "source": [
    "# Fitting the Model\n",
    "\n",
    "Now we will train our model. To train, we will use the ‘fit()’ function on our model with the following parameters: training data (X_train), target data (y_train), and validate it validation data with a 80-20% split. Here, we also compute the computational time to check how effieciently our model performs."
   ]
  },
  {
   "cell_type": "code",
   "execution_count": 40,
   "metadata": {},
   "outputs": [
    {
     "name": "stdout",
     "output_type": "stream",
     "text": [
      "Train on 48000 samples, validate on 12000 samples\n",
      "Epoch 1/25\n",
      "48000/48000 [==============================] - 35s 734us/step - loss: 0.9591 - accuracy: 0.5745 - val_loss: 0.6723 - val_accuracy: 0.7311\n",
      "Epoch 2/25\n",
      "48000/48000 [==============================] - 32s 667us/step - loss: 0.6438 - accuracy: 0.7309 - val_loss: 0.5495 - val_accuracy: 0.7807\n",
      "Epoch 3/25\n",
      "48000/48000 [==============================] - 33s 678us/step - loss: 0.5672 - accuracy: 0.7684 - val_loss: 0.4841 - val_accuracy: 0.8083\n",
      "Epoch 4/25\n",
      "48000/48000 [==============================] - 32s 662us/step - loss: 0.5212 - accuracy: 0.7888 - val_loss: 0.4458 - val_accuracy: 0.8289\n",
      "Epoch 5/25\n",
      "48000/48000 [==============================] - 32s 670us/step - loss: 0.4852 - accuracy: 0.8039 - val_loss: 0.4376 - val_accuracy: 0.8243\n",
      "Epoch 6/25\n",
      "48000/48000 [==============================] - 32s 662us/step - loss: 0.4646 - accuracy: 0.8149 - val_loss: 0.4748 - val_accuracy: 0.7987\n",
      "Epoch 7/25\n",
      "48000/48000 [==============================] - 32s 673us/step - loss: 0.4487 - accuracy: 0.8189 - val_loss: 0.3819 - val_accuracy: 0.8535\n",
      "Epoch 8/25\n",
      "48000/48000 [==============================] - 32s 662us/step - loss: 0.4292 - accuracy: 0.8296 - val_loss: 0.3790 - val_accuracy: 0.8473\n",
      "Epoch 9/25\n",
      "48000/48000 [==============================] - 32s 671us/step - loss: 0.4139 - accuracy: 0.8342 - val_loss: 0.3819 - val_accuracy: 0.8466\n",
      "Epoch 10/25\n",
      "48000/48000 [==============================] - 32s 668us/step - loss: 0.4085 - accuracy: 0.8348 - val_loss: 0.3714 - val_accuracy: 0.8504\n",
      "Epoch 11/25\n",
      "48000/48000 [==============================] - 32s 661us/step - loss: 0.3978 - accuracy: 0.8409 - val_loss: 0.3353 - val_accuracy: 0.8680\n",
      "Epoch 12/25\n",
      "48000/48000 [==============================] - 33s 695us/step - loss: 0.3890 - accuracy: 0.8410 - val_loss: 0.3529 - val_accuracy: 0.8608\n",
      "Epoch 13/25\n",
      "48000/48000 [==============================] - 32s 662us/step - loss: 0.3731 - accuracy: 0.8489 - val_loss: 0.3269 - val_accuracy: 0.8691\n",
      "Epoch 14/25\n",
      "48000/48000 [==============================] - 32s 674us/step - loss: 0.3693 - accuracy: 0.8520 - val_loss: 0.3236 - val_accuracy: 0.8723\n",
      "Epoch 15/25\n",
      "48000/48000 [==============================] - 32s 661us/step - loss: 0.3712 - accuracy: 0.8506 - val_loss: 0.3175 - val_accuracy: 0.8757\n",
      "Epoch 16/25\n",
      "48000/48000 [==============================] - 32s 672us/step - loss: 0.3601 - accuracy: 0.8544 - val_loss: 0.3134 - val_accuracy: 0.8769\n",
      "Epoch 17/25\n",
      "48000/48000 [==============================] - 32s 663us/step - loss: 0.3564 - accuracy: 0.8576 - val_loss: 0.3321 - val_accuracy: 0.8649\n",
      "Epoch 18/25\n",
      "48000/48000 [==============================] - 32s 672us/step - loss: 0.3495 - accuracy: 0.8591 - val_loss: 0.3126 - val_accuracy: 0.8792\n",
      "Epoch 19/25\n",
      "48000/48000 [==============================] - 32s 661us/step - loss: 0.3404 - accuracy: 0.8631 - val_loss: 0.3125 - val_accuracy: 0.8763\n",
      "Epoch 20/25\n",
      "48000/48000 [==============================] - 32s 671us/step - loss: 0.3366 - accuracy: 0.8620 - val_loss: 0.3052 - val_accuracy: 0.8803\n",
      "Epoch 21/25\n",
      "48000/48000 [==============================] - 32s 659us/step - loss: 0.3369 - accuracy: 0.8636 - val_loss: 0.3126 - val_accuracy: 0.8752\n",
      "Epoch 22/25\n",
      "48000/48000 [==============================] - 32s 671us/step - loss: 0.3322 - accuracy: 0.8659 - val_loss: 0.3386 - val_accuracy: 0.8621\n",
      "Epoch 23/25\n",
      "48000/48000 [==============================] - 32s 663us/step - loss: 0.3264 - accuracy: 0.8673 - val_loss: 0.2998 - val_accuracy: 0.8815\n",
      "Epoch 24/25\n",
      "48000/48000 [==============================] - 32s 665us/step - loss: 0.3268 - accuracy: 0.8673 - val_loss: 0.3085 - val_accuracy: 0.8745\n",
      "Epoch 25/25\n",
      "48000/48000 [==============================] - 32s 667us/step - loss: 0.3195 - accuracy: 0.8709 - val_loss: 0.2877 - val_accuracy: 0.8850\n",
      "Total training time is 13.43 minute\n"
     ]
    }
   ],
   "source": [
    "import time\n",
    "start = time.time()\n",
    "History = model_2.fit(X_train, y_train,\n",
    "        validation_data=(X_val, y_val),batch_size= 128, epochs=20)\n",
    "end = time.time()\n",
    "model_time = end-start\n",
    "print(\"Total training time is {:0.2f} minute\".format(model_time/60.0))"
   ]
  },
  {
   "cell_type": "markdown",
   "metadata": {},
   "source": [
    "We notice that over-fitting has reduced further as the validation accuracy has improved by 2% (to 87–90% range).\n",
    "Now we will be plotting the loss and accuracy graphs to see the performance. "
   ]
  },
  {
   "cell_type": "markdown",
   "metadata": {},
   "source": [
    "# Plot Model_2 - Loss vs Epochs"
   ]
  },
  {
   "cell_type": "code",
   "execution_count": 41,
   "metadata": {},
   "outputs": [
    {
     "data": {
      "image/png": "[encoded data removed]",
      "text/plain": [
       "<Figure size 432x288 with 1 Axes>"
      ]
     },
     "metadata": {
      "needs_background": "light"
     },
     "output_type": "display_data"
    }
   ],
   "source": [
    "# plot summarize history for loss\n",
    "plt.plot(History.history['loss'])\n",
    "plt.plot(History.history['val_loss'])\n",
    "plt.title('model loss')\n",
    "plt.ylabel('loss')\n",
    "plt.xlabel('epoch')\n",
    "plt.legend(['Train', 'Validation'], loc='upper left')\n",
    "plt.show()"
   ]
  },
  {
   "cell_type": "markdown",
   "metadata": {},
   "source": [
    "the validation and train loss bith are sync together, if we increase the  number of epochs there will be higher chance for a good fit model with lower loss. "
   ]
  },
  {
   "cell_type": "markdown",
   "metadata": {},
   "source": [
    "# Plot Model_2 - Accuracy vs Epochs"
   ]
  },
  {
   "cell_type": "code",
   "execution_count": 42,
   "metadata": {},
   "outputs": [
    {
     "data": {
      "image/png": "[encoded data removed]",
      "text/plain": [
       "<Figure size 432x288 with 1 Axes>"
      ]
     },
     "metadata": {
      "needs_background": "light"
     },
     "output_type": "display_data"
    }
   ],
   "source": [
    "# plot summarize history for loss\n",
    "plt.plot(History.history['accuracy'])\n",
    "plt.plot(History.history['val_accuracy'])\n",
    "plt.title('Model Accuracy')\n",
    "plt.ylabel('accuracy')\n",
    "plt.xlabel('epoch')\n",
    "plt.legend(['Train', 'Validation'], loc='upper left')\n",
    "plt.show()"
   ]
  },
  {
   "cell_type": "markdown",
   "metadata": {},
   "source": [
    "From the plot of accuracy we can see that the model could probably be trained a little more as the trend for accuracy on both datasets is still rising for the last few epochs. We can also see that the model has not yet over-learned the training dataset, showing comparable skill on both datasets. So the probability for increasing accuracy is higher with the number of epochs. "
   ]
  },
  {
   "cell_type": "markdown",
   "metadata": {},
   "source": [
    "# Confusion Matrix Model_2\n",
    "\n",
    "Here, we will be plotting confusion matrix for model_2 and compare the results with previous model:\n"
   ]
  },
  {
   "cell_type": "code",
   "execution_count": 43,
   "metadata": {},
   "outputs": [
    {
     "name": "stdout",
     "output_type": "stream",
     "text": [
      "-----------------Convolutional Neural Network Report---------------\n",
      "F1 score: 0.8849587050919293\n",
      "Accuracy score: 0.885\n",
      "Confusion matrix: \n",
      " [[2289   74   16    0    0]\n",
      " [ 124 2149  105   41    5]\n",
      " [  15  218 1926  165   40]\n",
      " [   0   33  208 2031   95]\n",
      " [   3    9   26  203 2225]]\n",
      "Plotting confusion matrix\n"
     ]
    },
    {
     "data": {
      "image/png": "[encoded data removed]",
      "text/plain": [
       "<Figure size 432x288 with 2 Axes>"
      ]
     },
     "metadata": {
      "needs_background": "light"
     },
     "output_type": "display_data"
    },
    {
     "name": "stdout",
     "output_type": "stream",
     "text": [
      "              precision    recall  f1-score   support\n",
      "\n",
      "           0       0.94      0.96      0.95      2379\n",
      "           1       0.87      0.89      0.88      2424\n",
      "           2       0.84      0.81      0.83      2364\n",
      "           3       0.83      0.86      0.85      2367\n",
      "           4       0.94      0.90      0.92      2466\n",
      "\n",
      "    accuracy                           0.89     12000\n",
      "   macro avg       0.88      0.88      0.88     12000\n",
      "weighted avg       0.89      0.89      0.88     12000\n",
      "\n"
     ]
    }
   ],
   "source": [
    "cnn_pred_mnist_2 = model_2.predict(X_val)\n",
    "cnn_pred_mnist_2 = np.argmax(cnn_pred_mnist_2,axis=1)\n",
    "y_true = np.argmax(y_val,axis=1)\n",
    "\n",
    "cnn_f1_mnist_2 = metrics.f1_score(y_true, cnn_pred_mnist_2, average= \"weighted\")\n",
    "cnn_accuracy_mnist_2 = metrics.accuracy_score(y_true, cnn_pred_mnist_2)\n",
    "cnn_cm_mnist_2 = metrics.confusion_matrix(y_true, cnn_pred_mnist_2)\n",
    "print(\"-----------------Convolutional Neural Network Report---------------\")\n",
    "print(\"F1 score: {}\".format(cnn_f1_mnist_2))\n",
    "print(\"Accuracy score: {}\".format(cnn_accuracy_mnist_2))\n",
    "print(\"Confusion matrix: \\n\", cnn_cm_mnist_2)\n",
    "print('Plotting confusion matrix')\n",
    "\n",
    "plt.figure()\n",
    "plot_confusion_matrix(cnn_cm_mnist_2, classes = [0,1,2,3,4])\n",
    "plt.show()\n",
    "\n",
    "print(metrics.classification_report(y_true, cnn_pred_mnist_2))"
   ]
  },
  {
   "cell_type": "markdown",
   "metadata": {},
   "source": [
    "from the above analysis we observe that we have got highest precision, recall, F1 score for class 0 and 4. class 2 and 3 are perfoming lower than other classes. "
   ]
  },
  {
   "cell_type": "code",
   "execution_count": 44,
   "metadata": {},
   "outputs": [
    {
     "name": "stdout",
     "output_type": "stream",
     "text": [
      "Class: 0\n",
      "Number of Wrong Prediction: 90 out of 12000\n",
      "Percentage of True Prediction: 457.80%\n",
      "***********************************************************\n",
      "Class: 1\n",
      "Number of Wrong Prediction: 276 out of 12000\n",
      "Percentage of True Prediction: 429.60%\n",
      "***********************************************************\n",
      "Class: 2\n",
      "Number of Wrong Prediction: 465 out of 12000\n",
      "Percentage of True Prediction: 379.80%\n",
      "***********************************************************\n",
      "Class: 3\n",
      "Number of Wrong Prediction: 369 out of 12000\n",
      "Percentage of True Prediction: 399.60%\n",
      "***********************************************************\n",
      "Class: 4\n",
      "Number of Wrong Prediction: 185 out of 12000\n",
      "Percentage of True Prediction: 456.20%\n",
      "***********************************************************\n"
     ]
    }
   ],
   "source": [
    "for i in range(len(confusion_matrix)):\n",
    "    print(\"Class:\",str(i))\n",
    "    print(\"Number of Wrong Prediction:\", str(sum(confusion_matrix[i])-confusion_matrix[i][i]), \"out of 12000\")\n",
    "    print(\"Percentage of True Prediction: {:.2f}%\".format(confusion_matrix[i][i] / 5))\n",
    "    print(\"***********************************************************\")"
   ]
  },
  {
   "cell_type": "markdown",
   "metadata": {},
   "source": [
    "# ROC Curve"
   ]
  },
  {
   "cell_type": "code",
   "execution_count": 45,
   "metadata": {},
   "outputs": [],
   "source": [
    "import numpy as np\n",
    "from scipy import interp\n",
    "import matplotlib.pyplot as plt\n",
    "from itertools import cycle\n",
    "from sklearn.metrics import roc_curve, auc\n",
    "\n",
    "# Plot linewidth.\n",
    "lw = 2\n",
    "classes=5\n",
    "# Compute ROC curve and ROC area for each class\n",
    "fpr = dict()\n",
    "tpr = dict()\n",
    "y_score = model_2.predict_proba(X_val)\n",
    "roc_auc = dict()\n",
    "for i in range(classes):\n",
    "    fpr[i], tpr[i], _ = roc_curve(y_val[:,i], y_score[:,i],pos_label = 1)\n",
    "    roc_auc[i] = auc(fpr[i], tpr[i])\n"
   ]
  },
  {
   "cell_type": "code",
   "execution_count": 46,
   "metadata": {},
   "outputs": [],
   "source": [
    "# Compute micro-average ROC curve and ROC area\n",
    "fpr[\"micro\"], tpr[\"micro\"], _ = roc_curve(y_val.ravel(), y_score.ravel())\n",
    "roc_auc[\"micro\"] = auc(fpr[\"micro\"], tpr[\"micro\"])\n",
    "\n",
    "# Compute macro-average ROC curve and ROC area\n",
    "\n",
    "# First aggregate all false positive rates\n",
    "all_fpr = np.unique(np.concatenate([fpr[i] for i in range(classes)]))\n",
    "\n",
    "# Then interpolate all ROC curves at this points\n",
    "mean_tpr = np.zeros_like(all_fpr)\n",
    "for i in range(classes):\n",
    "    mean_tpr = interp(all_fpr, fpr[i], tpr[i])"
   ]
  },
  {
   "cell_type": "code",
   "execution_count": 47,
   "metadata": {},
   "outputs": [
    {
     "data": {
      "image/png": "[encoded data removed]",
      "text/plain": [
       "<Figure size 432x288 with 1 Axes>"
      ]
     },
     "metadata": {
      "needs_background": "light"
     },
     "output_type": "display_data"
    }
   ],
   "source": [
    "# Plot all ROC curves\n",
    "plt.figure(1)\n",
    "plt.plot(fpr[\"micro\"], tpr[\"micro\"],\n",
    "         label='micro-average ROC curve (area = {0:0.2f})'\n",
    "               ''.format(roc_auc[\"micro\"]),\n",
    "         color='deeppink', linestyle=':', linewidth=4)\n",
    "fpr[\"macro\"] = all_fpr\n",
    "tpr[\"macro\"] = mean_tpr\n",
    "roc_auc[\"macro\"] = auc(fpr[\"macro\"], tpr[\"macro\"])\n",
    "plt.plot(fpr[\"macro\"], tpr[\"macro\"],\n",
    "         label='macro-average ROC curve (area = {0:0.2f})'\n",
    "               ''.format(roc_auc[\"macro\"]),\n",
    "         color='navy', linestyle=':', linewidth=4)\n",
    "\n",
    "colors = cycle(['aqua', 'darkorange', 'cornflowerblue'])\n",
    "for i, color in zip(range(classes), colors):\n",
    "    plt.plot(fpr[i], tpr[i], color=color, lw=lw,\n",
    "             label='ROC curve of class {0} (area = {1:0.2f})'\n",
    "             ''.format(i, roc_auc[i]))\n",
    "\n",
    "plt.plot([0, 1], [0, 1], 'k--', lw=lw)\n",
    "plt.xlim([0.0, 1.0])\n",
    "plt.ylim([0.0, 1.05])\n",
    "plt.xlabel('False Positive Rate')\n",
    "plt.ylabel('True Positive Rate')\n",
    "plt.title('Some extension of Receiver operating characteristic to multi-class')\n",
    "plt.legend(loc=\"lower right\")\n",
    "plt.show()"
   ]
  },
  {
   "cell_type": "markdown",
   "metadata": {},
   "source": [
    "From the above graph, we have plotted ROC curve for our best designed model which is CNN model_2. We have got more than 0.90 for all 5 classes which is accurate. So it is a natural measure of separability between the two estimated probability distributions thus for class_0 and class_4 has the highest AUC value (1) and for class_1, class_2 and class_3 has less AUC value when compared to other classes. AUC near to the 0 which means it has worst measure of separability."
   ]
  },
  {
   "cell_type": "markdown",
   "metadata": {},
   "source": [
    "# Prediction on Test Data\n",
    "Here, model is predicted on test data and compare these predictions to the labels in the data set."
   ]
  },
  {
   "cell_type": "code",
   "execution_count": 48,
   "metadata": {},
   "outputs": [],
   "source": [
    "cnn_pred_mnist_2 = model_2.predict(test_data)\n",
    "X = []\n",
    "for i in range(10000):\n",
    "    X.append(np.argmax(np.round(cnn_pred_mnist_2[i]))) \n",
    "    "
   ]
  },
  {
   "cell_type": "code",
   "execution_count": 49,
   "metadata": {},
   "outputs": [],
   "source": [
    "X = pd.DataFrame(X)"
   ]
  },
  {
   "cell_type": "code",
   "execution_count": 50,
   "metadata": {},
   "outputs": [
    {
     "data": {
      "text/plain": [
       "(10000,)"
      ]
     },
     "execution_count": 50,
     "metadata": {},
     "output_type": "execute_result"
    }
   ],
   "source": [
    "y_id = df_test['Id']\n",
    "y_id.shape"
   ]
  },
  {
   "cell_type": "code",
   "execution_count": 51,
   "metadata": {},
   "outputs": [],
   "source": [
    "y_id = pd.DataFrame(y_id)"
   ]
  },
  {
   "cell_type": "code",
   "execution_count": 52,
   "metadata": {},
   "outputs": [],
   "source": [
    "y_id.insert(1,'Label',X)"
   ]
  },
  {
   "cell_type": "code",
   "execution_count": 53,
   "metadata": {},
   "outputs": [],
   "source": [
    "y_id.to_csv(\"Predicted_Labels_CNN_2.csv\",index=False)"
   ]
  },
  {
   "cell_type": "code",
   "execution_count": 54,
   "metadata": {},
   "outputs": [
    {
     "name": "stdout",
     "output_type": "stream",
     "text": [
      "prediction  0:  3\n",
      "Actual  0:  [0. 1. 0. 0. 0.]\n",
      "prediction  1:  4\n",
      "Actual  1:  [1. 0. 0. 0. 0.]\n",
      "prediction  2:  0\n",
      "Actual  2:  [0. 0. 1. 0. 0.]\n",
      "prediction  3:  1\n",
      "Actual  3:  [0. 1. 0. 0. 0.]\n",
      "prediction  4:  1\n",
      "Actual  4:  [0. 0. 0. 0. 1.]\n"
     ]
    }
   ],
   "source": [
    "predictions = model_2.predict(test_data)\n",
    "for i in range(5):\n",
    "    print('prediction  '   +  str(i) +  ':  '   +   str(np.argmax(np.round(predictions[i]))))\n",
    "    print('Actual  '   + str(i) + ':  '   +   str(y_val[i]))"
   ]
  },
  {
   "cell_type": "markdown",
   "metadata": {},
   "source": [
    "# Comparison of the different algorithms and parameters you tried"
   ]
  },
  {
   "cell_type": "markdown",
   "metadata": {},
   "source": [
    "# Exploring other ML methods and Deep Neural Network variants to solve the problem - "
   ]
  },
  {
   "cell_type": "markdown",
   "metadata": {},
   "source": [
    "# 1-  Autoencoder\n",
    " \n",
    "Autoencoders are considered an unsupervised learning technique because they don’t need explicit labels to train on. But to be more precise they are self-supervised because they can generate their own labels from the training data. \n",
    "\n",
    "Autoencoders outperform linear dimensionality reduction approaches (for example: Principle Component Analysis (PCA),) applying non-linear transformations using multiple layers and non-linear activation functions. An autoencoder is a neural network model that seeks to learn a compressed representation of an input. \n",
    "\n",
    "Autoencoders are data-specific, which means that they will only be able to compress data similar to what they have been trained on. To build an autoencoder, we need three things: an encoding function, a decoding function, and a \"loss\" function. A straight-forward task could be to compress a given image into discrete bits of information, and reconstruct the image back from these discrete bits.\n",
    "\n",
    "Here, I am going to show you how to build a convolutional autoencoder from scratch, and then we provide one-hot encoded data for training. After training, we save the model, and finally, we will load and test the model on test data.\n"
   ]
  },
  {
   "cell_type": "code",
   "execution_count": 55,
   "metadata": {},
   "outputs": [],
   "source": [
    "x_train = X_train.reshape(-1, 28, 28, 1)\n",
    "x_test = X_val.reshape(-1, 28, 28, 1)\n"
   ]
  },
  {
   "cell_type": "code",
   "execution_count": 56,
   "metadata": {},
   "outputs": [],
   "source": [
    "batch_size = 64\n",
    "epochs = 10\n",
    "inChannel = 1\n",
    "x, y = 28, 28\n",
    "input_image = Input(shape = (x, y, inChannel))\n",
    "num_classes = 5"
   ]
  },
  {
   "cell_type": "markdown",
   "metadata": {},
   "source": [
    "# Explanation of Design and Implementation Choices of the Model"
   ]
  },
  {
   "cell_type": "markdown",
   "metadata": {},
   "source": [
    "An autoencoder is made of two modules: encoder and decoder\n",
    "\n",
    "**Encoder:**\n",
    "\n",
    "*     The encoder learns the underlying features of a process. These features are typically in a reduced dimension.\n",
    "*     It has 2 Convolution blocks, each has a convolution layer after the first and second convolution blocks Max-pooling layer is used.\n",
    "*     The first convolution block will have 256 filters of size 3 x 3, followed by a max-pooling layer\n",
    "*     The second block will have 128 filters of size 3 x 3, followed by another max-pooling layer . The max-pooling layer downsample the   input by two times each time when it is used\n",
    "\n"
   ]
  },
  {
   "cell_type": "code",
   "execution_count": 57,
   "metadata": {},
   "outputs": [],
   "source": [
    "\n",
    "learning_rate = 0.001\n",
    "#checkpointer = ModelCheckpoint(filepath, verbose=0, save_best_only=True) # save best model\n",
    "#monitor = EarlyStopping(monitor='val_loss', min_delta=1e-5, patience=5, verbose=1, mode='auto')\n",
    "\n",
    "input_size = (28, 28, 1)\n",
    "\n",
    "input_image = Input(shape=input_size)\n",
    "\n",
    "# Encoder\n",
    "x_encoder = Conv2D(256, (3, 3), activation='relu', padding='same')(input_image)\n",
    "x_encoder = MaxPooling2D((2, 2), padding='same')(x_encoder)\n",
    "x_encoder = Conv2D(128, (3, 3), activation='relu', padding='same')(x_encoder)\n",
    "encoded = MaxPooling2D((2, 2), padding='same', name='encoded_layer')(x_encoder)\n"
   ]
  },
  {
   "cell_type": "markdown",
   "metadata": {},
   "source": [
    "**Decoder:**\n",
    "\n",
    "The decoder can recreate the original data from these underlying features.\n",
    "\n",
    "*     It has 2 Convolution blocks, each has a convolution layer followed by Max-pooling layer\n",
    "*     The first block will have 128 filters of size 3 x 3,\n",
    "*     The second block will have 256 filters of size 3 x 3 followed by upsampling layer,\n",
    "*     The final layer of encoder will have 1 filter of size 3 x 3 which will reconstruct back the input having a single channel.\n",
    "*     upsampling layer will upsample the input by two times each time it is used.\n",
    "\n"
   ]
  },
  {
   "cell_type": "code",
   "execution_count": 58,
   "metadata": {},
   "outputs": [],
   "source": [
    "# Decoder\n",
    "x_decoder = Conv2D(128, (3, 3), activation='relu', padding='same')(encoded)\n",
    "x_decoder = UpSampling2D((2, 2))(x_decoder)\n",
    "x_decoder = Conv2D(256, (3, 3), activation='relu', padding='same')(x_decoder)\n",
    "x_decoder = UpSampling2D((2, 2))(x_decoder)\n",
    "decoded = Conv2D(1, (3, 3), padding='same')(x_decoder)"
   ]
  },
  {
   "cell_type": "markdown",
   "metadata": {},
   "source": [
    "Autoencoder training parameters:•\n",
    "\n",
    "* Code size– Size of compressed data (amount of nodes in the middle layer)\n",
    "\n",
    "* Number of Layers– Could be as deep as we want them to be\n",
    "* Loss Function– Mean square error or binary cross entropy (if the input values in the range [0,1])\n",
    "* Number of Nodes per Layers– Usually layers structure is symmetric for encoder and decoder, and amounts of nodes reduce the code. \n"
   ]
  },
  {
   "cell_type": "markdown",
   "metadata": {},
   "source": [
    "The max pooling is applied on each layer after the convolutional layer. The number of filters, the filter size, the number of layers, number of epochs we train our model, are all hyperparameters and should be decided based on our own intuition and measure the performance of our model. Activation function 'ReLu' is used here. optimizer we have used Adam with 0.001learning rate. We will be considering \"Mean Squared Error\" loss function. \n",
    "\n",
    "Lets see how our model performs: "
   ]
  },
  {
   "cell_type": "code",
   "execution_count": 59,
   "metadata": {},
   "outputs": [
    {
     "name": "stdout",
     "output_type": "stream",
     "text": [
      "Model: \"model_1\"\n",
      "_________________________________________________________________\n",
      "Layer (type)                 Output Shape              Param #   \n",
      "=================================================================\n",
      "input_2 (InputLayer)         (None, 28, 28, 1)         0         \n",
      "_________________________________________________________________\n",
      "conv2d_5 (Conv2D)            (None, 28, 28, 256)       2560      \n",
      "_________________________________________________________________\n",
      "max_pooling2d_5 (MaxPooling2 (None, 14, 14, 256)       0         \n",
      "_________________________________________________________________\n",
      "conv2d_6 (Conv2D)            (None, 14, 14, 128)       295040    \n",
      "_________________________________________________________________\n",
      "encoded_layer (MaxPooling2D) (None, 7, 7, 128)         0         \n",
      "_________________________________________________________________\n",
      "conv2d_7 (Conv2D)            (None, 7, 7, 128)         147584    \n",
      "_________________________________________________________________\n",
      "up_sampling2d_1 (UpSampling2 (None, 14, 14, 128)       0         \n",
      "_________________________________________________________________\n",
      "conv2d_8 (Conv2D)            (None, 14, 14, 256)       295168    \n",
      "_________________________________________________________________\n",
      "up_sampling2d_2 (UpSampling2 (None, 28, 28, 256)       0         \n",
      "_________________________________________________________________\n",
      "conv2d_9 (Conv2D)            (None, 28, 28, 1)         2305      \n",
      "=================================================================\n",
      "Total params: 742,657\n",
      "Trainable params: 742,657\n",
      "Non-trainable params: 0\n",
      "_________________________________________________________________\n"
     ]
    }
   ],
   "source": [
    "learning_rate = 0.001\n",
    "autoencoder = Model(input_image, decoded)\n",
    "\n",
    "autoencoder.compile(optimizer=Adam(lr=learning_rate),loss='mse')\n",
    "autoencoder.summary()"
   ]
  },
  {
   "cell_type": "markdown",
   "metadata": {},
   "source": [
    "# Fit the Model\n",
    "\n",
    "It's finally time to train the model with Keras fit() function. The model trains for 10 epochs (Because it gives 0.15 % validation loss, we tried to increase the epochs but it look more computation time to run the model) on x_train data and validate it on x_test data. The fit() function will return a history object. By storying the result of this function, we will use it later to plot the loss function plot between training and validation which will help us to analyze our model's performance visually. Using time we can calculate the computational time. "
   ]
  },
  {
   "cell_type": "code",
   "execution_count": 60,
   "metadata": {},
   "outputs": [
    {
     "name": "stdout",
     "output_type": "stream",
     "text": [
      "Train on 48000 samples, validate on 12000 samples\n",
      "Epoch 1/10\n",
      "48000/48000 [==============================] - 655s 14ms/step - loss: 0.0119 - val_loss: 0.0047\n",
      "Epoch 2/10\n",
      "48000/48000 [==============================] - 663s 14ms/step - loss: 0.0038 - val_loss: 0.0035\n",
      "Epoch 3/10\n",
      "48000/48000 [==============================] - 644s 13ms/step - loss: 0.0030 - val_loss: 0.0027\n",
      "Epoch 4/10\n",
      "48000/48000 [==============================] - 645s 13ms/step - loss: 0.0026 - val_loss: 0.0024\n",
      "Epoch 5/10\n",
      "48000/48000 [==============================] - 643s 13ms/step - loss: 0.0024 - val_loss: 0.0022\n",
      "Epoch 6/10\n",
      "48000/48000 [==============================] - 643s 13ms/step - loss: 0.0022 - val_loss: 0.0020\n",
      "Epoch 7/10\n",
      "48000/48000 [==============================] - 662s 14ms/step - loss: 0.0020 - val_loss: 0.0019\n",
      "Epoch 8/10\n",
      "48000/48000 [==============================] - 669s 14ms/step - loss: 0.0019 - val_loss: 0.0018\n",
      "Epoch 9/10\n",
      "48000/48000 [==============================] - 659s 14ms/step - loss: 0.0018 - val_loss: 0.0017\n",
      "Epoch 10/10\n",
      "48000/48000 [==============================] - 658s 14ms/step - loss: 0.0017 - val_loss: 0.0016\n",
      "Total training time is 109.06 minute\n"
     ]
    }
   ],
   "source": [
    "import time\n",
    "start = time.time()\n",
    "\n",
    "history = autoencoder.fit(x_train, x_train, batch_size=batch_size,epochs=10,verbose=1,validation_data=(x_test, x_test))    \n",
    "\n",
    "end = time.time()\n",
    "autoencoder_time = end-start\n",
    "print(\"Total training time is {:0.2f} minute\".format(autoencoder_time/60.0))"
   ]
  },
  {
   "cell_type": "markdown",
   "metadata": {},
   "source": [
    "# Plot 1 - Epoch Vs Loss"
   ]
  },
  {
   "cell_type": "code",
   "execution_count": 61,
   "metadata": {},
   "outputs": [
    {
     "data": {
      "image/png": "[encoded data removed]",
      "text/plain": [
       "<Figure size 432x288 with 1 Axes>"
      ]
     },
     "metadata": {
      "needs_background": "light"
     },
     "output_type": "display_data"
    }
   ],
   "source": [
    "# plot summarize history for loss\n",
    "plt.plot(history.history['loss'])\n",
    "plt.plot(history.history['val_loss'])\n",
    "plt.title('model loss')\n",
    "plt.ylabel('loss')\n",
    "plt.xlabel('epoch')\n",
    "plt.legend(['train', 'validation'], loc='upper left')\n",
    "plt.show()"
   ]
  },
  {
   "cell_type": "markdown",
   "metadata": {},
   "source": [
    "Finally, we can see that the validation loss and the training loss both are sync together. It shows that the model is not overfitting: the validation loss is decreasing and not increasing, and there rarely any gap between training and validation loss. Therefore, we can say that our model's generalization capability is good. \n",
    "\n",
    "Finally, it's time to reconstruct the test data using the predict() function of Keras and see how well our model is able reconstruct on the test data."
   ]
  },
  {
   "cell_type": "markdown",
   "metadata": {},
   "source": [
    "# Applications of Autoencoder \n",
    "\n",
    "We have total control over the architecture of the autoencoder. We can make it very powerful by increasing the number of layers, nodes per layer and most importantly the size of model. Increasing these hyperparameters will let the autoencoder handle more complex codings. But we should be careful to not make it too powerful.\n",
    "\n",
    "Unfortunately autoencoders are not widely used in real-world applications. As a compression method, they don’t perform better than its alternatives, for example jpeg compress photos better than an autoencoder. And the fact that autoencoders are data-specific makes them impractical as a general technique. Though, it can be used as following: "
   ]
  },
  {
   "cell_type": "markdown",
   "metadata": {},
   "source": [
    "1.\tData compression\n",
    "2.\tDimensionality Reduction\n",
    "3.\tImage reconstruction\n",
    "4.\tImage coloring\n",
    "5.\tFeature variation and Denoising\n",
    "6.\tGenerating higher resolution images\n",
    "7.\tImage search and information retrieval\n"
   ]
  },
  {
   "cell_type": "markdown",
   "metadata": {},
   "source": [
    "# Conclusion\n",
    "\n",
    "Autoencoders are a very useful dimensionality reduction technique. Visualizing high-dimensional data is challenging. T-SNE and PCA are most commonly used methods but T-SNE struggles with large number of dimensions. So autoencoders are used as a preprocessing step to reduce the dimensionality, and this compressed representation is used by t-SNE to visualize the data in 2D space. "
   ]
  },
  {
   "cell_type": "markdown",
   "metadata": {},
   "source": [
    "# 2-  ResNet (Residual Network) "
   ]
  },
  {
   "cell_type": "markdown",
   "metadata": {},
   "source": [
    "Residual Network (ResNet) is a Convolutional Neural Network (CNN)  architecture which was designed to enable hundreds or thousands of convolutional layers. While previous CNN architectures had a drop off in the effectiveness of additional layers, ResNet can add a large number of layers with strong performance. The core idea of ResNet is introducing a “identity shortcut connection” that uses skip connection to add the output from an earlier layer to a later layer. This helps it mitigating the vanishing gradient problem. \n",
    "\n",
    "Neural Networks are trained via the backpropagation process, which relies on gradient descent, reducing the loss function to find the weights that minimize it. If there are too many layers and repeated multiplication makes the gradient smaller and smaller, until it “disappears”, causing performance to saturate or even degrade with each additional layer.\n",
    "\n",
    " "
   ]
  },
  {
   "cell_type": "markdown",
   "metadata": {},
   "source": [
    "# 2 - Building a Residual Network\n",
    "\n",
    "In ResNets, a \"shortcut\" or a \"skip connection\" allows the gradient to be directly backpropagated to earlier layers: There are two components in there one is without skip connection (\"main path\") and other one is with skip connection (\"shortcut to the main path\") through the network. By stacking these ResNet blocks on top of each other, We are going to form a very deep network.\n",
    "\n",
    "Two main types of blocks are used in a ResNet, depending mainly on whether the input/output dimensions are same or different. We are going to implement both of them. "
   ]
  },
  {
   "cell_type": "code",
   "execution_count": 63,
   "metadata": {},
   "outputs": [],
   "source": [
    "from __future__ import print_function\n",
    "import keras\n",
    "from keras.layers import Dense, Conv2D, BatchNormalization, Activation\n",
    "from keras.layers import MaxPooling2D, AveragePooling2D, Input, Flatten\n",
    "from keras.optimizers import Adam\n",
    "from keras.callbacks import ModelCheckpoint, ReduceLROnPlateau\n",
    "from keras.preprocessing.image import ImageDataGenerator\n",
    "from keras.regularizers import l2\n",
    "from keras import backend as K\n",
    "from keras.models import Model\n",
    "import numpy as np\n",
    "import os\n",
    "import pandas as pd\n",
    "import matplotlib.pyplot as plt\n",
    "%matplotlib inline\n",
    "\n",
    "from urllib.request import urlopen,urlretrieve\n",
    "from PIL import Image\n",
    "from tqdm import tqdm_notebook\n",
    "\n",
    "from sklearn.utils import shuffle\n",
    "import cv2\n",
    "from keras import applications\n",
    "from keras.models import load_model\n",
    "from sklearn.datasets import load_files   \n",
    "from keras.utils import np_utils\n",
    "from glob import glob\n",
    "from keras.regularizers import l2\n",
    "from keras import backend as K\n",
    "from keras.models import Model"
   ]
  },
  {
   "cell_type": "code",
   "execution_count": 64,
   "metadata": {},
   "outputs": [],
   "source": [
    "epochs = 10\n",
    "batch_size = 128\n",
    "data_augmentation = False\n",
    "image_size = 28\n",
    "\n",
    "number_classes = 5\n",
    "number_filters = 64\n",
    "number_of_blocks = 4\n",
    "number_of_sub_blocks = 2\n",
    "use_max_pool = False"
   ]
  },
  {
   "cell_type": "markdown",
   "metadata": {},
   "source": [
    "# 2.1 - The identity block \n",
    "\n",
    "The identity block is the standard block used in ResNets, and corresponds to the case where the input activation has the same dimension as the output activation.\n",
    "1. First component of main path: \n",
    "\n",
    "    The first CONV2D has filters of shape (1,1) and a stride of (1,1). Its padding is \"same\".\n",
    "    The first BatchNorm is normalizing the channels axis. \n",
    "    Then apply the ReLU activation function.\n",
    "    Kernel regularizer L2 is used here\n",
    "    Now we will check for the maxpooling layer\n"
   ]
  },
  {
   "cell_type": "code",
   "execution_count": 65,
   "metadata": {},
   "outputs": [],
   "source": [
    "#Creating model based on ResNet trained model\n",
    "\n",
    "inputs = Input(shape=(28,28,1))\n",
    "x = Conv2D(number_filters, padding='same', kernel_initializer='he_normal', kernel_size=7, strides=(1,1), kernel_regularizer=l2(1e-4))(inputs)\n",
    "x = BatchNormalization()(x)\n",
    "x = Activation('relu')(x)\n",
    "\n",
    "#Check by applying max pooling later \n",
    "if use_max_pool:\n",
    "    x = MaxPooling2D(pool_size=3,padding='same', strides=2)(x)\n",
    "    num_blocks =3"
   ]
  },
  {
   "cell_type": "markdown",
   "metadata": {},
   "source": [
    "# 2.2 - The convolutional block\n",
    "* Stacks of (1 x 1)-(3 x 3)-(1 x 1) BN-ReLU-Conv2D or also known as bottleneck layer\n",
    "* First shortcut connection per layer is 1 x 1 Conv2D.\n",
    "* Second and onwards shortcut connection is identity\n",
    "* At the beginning of each stage, the feature map size is halved (downsampled)\n",
    "* by a convolutional layer with strides=2, while the number of filter maps is doubled. Within each stage, the layers have the same number filters and the same filter map sizes.\n",
    "    "
   ]
  },
  {
   "cell_type": "code",
   "execution_count": 66,
   "metadata": {},
   "outputs": [],
   "source": [
    "# convolutional base (stack of blocks).\n",
    "\n",
    "for stack in range(number_of_blocks):\n",
    "    for res_block in range(number_of_sub_blocks):\n",
    "        strides = 1\n",
    "        layer_1 = res_block == 0 and stack > 0 #(first layer but not first stack)\n",
    "        if layer_1:\n",
    "            strides = 2 # it downsamples\n",
    "            \n",
    " #Creating bottleneck residual mapping using y\n",
    "    \n",
    "        y = Conv2D(number_filters, kernel_size=3,padding='same',strides=strides, kernel_initializer='he_normal',\n",
    "                   kernel_regularizer=l2(1e-4))(x)\n",
    "        y = BatchNormalization()(y)\n",
    "        y = Activation('relu')(y)\n",
    "        y = Conv2D(number_filters,kernel_size=3, padding='same', kernel_initializer='he_normal',\n",
    "                   kernel_regularizer=l2(1e-4))(y)\n",
    "        y = BatchNormalization()(y)\n",
    "        \n",
    "        if layer_1:\n",
    "            x = Conv2D(number_filters, kernel_size=1, padding='same',strides=2, kernel_initializer='he_normal',\n",
    "                       kernel_regularizer=l2(1e-4))(x)    "
   ]
  },
  {
   "cell_type": "markdown",
   "metadata": {},
   "source": [
    "The shortcut and the convolution path values are added together. Then apply the ReLU activation function. Number of filters are doubled in size. Now we will be adding classifier on top and add flatten layer. he flatten doesn't have any hyperparameters. The Fully Connected (Dense) layer reduces its input to the number of classes using a softmax activation with he_normal initializer.  "
   ]
  },
  {
   "cell_type": "code",
   "execution_count": 67,
   "metadata": {},
   "outputs": [],
   "source": [
    " #Adding back residual mapping\n",
    "x = keras.layers.add([x, y])\n",
    "x = Activation('relu')(x)\n",
    "\n",
    "number_filters = 2 * number_filters"
   ]
  },
  {
   "cell_type": "code",
   "execution_count": 68,
   "metadata": {},
   "outputs": [],
   "source": [
    "# Add classifier on top.\n",
    "x = AveragePooling2D()(x)\n",
    "y = Flatten()(x)\n",
    "outputs = Dense(5, activation='softmax',kernel_initializer='he_normal')(y)\n"
   ]
  },
  {
   "cell_type": "markdown",
   "metadata": {},
   "source": [
    "# Compile the model\n",
    "Now we will be compiling our model using adam optimizer. and save the best model. "
   ]
  },
  {
   "cell_type": "code",
   "execution_count": 69,
   "metadata": {},
   "outputs": [
    {
     "name": "stdout",
     "output_type": "stream",
     "text": [
      "Model: \"model_2\"\n",
      "__________________________________________________________________________________________________\n",
      "Layer (type)                    Output Shape         Param #     Connected to                     \n",
      "==================================================================================================\n",
      "input_3 (InputLayer)            (None, 28, 28, 1)    0                                            \n",
      "__________________________________________________________________________________________________\n",
      "conv2d_10 (Conv2D)              (None, 28, 28, 64)   3200        input_3[0][0]                    \n",
      "__________________________________________________________________________________________________\n",
      "batch_normalization_1 (BatchNor (None, 28, 28, 64)   256         conv2d_10[0][0]                  \n",
      "__________________________________________________________________________________________________\n",
      "activation_1 (Activation)       (None, 28, 28, 64)   0           batch_normalization_1[0][0]      \n",
      "__________________________________________________________________________________________________\n",
      "conv2d_17 (Conv2D)              (None, 14, 14, 64)   4160        activation_1[0][0]               \n",
      "__________________________________________________________________________________________________\n",
      "conv2d_22 (Conv2D)              (None, 7, 7, 64)     4160        conv2d_17[0][0]                  \n",
      "__________________________________________________________________________________________________\n",
      "conv2d_27 (Conv2D)              (None, 4, 4, 64)     4160        conv2d_22[0][0]                  \n",
      "__________________________________________________________________________________________________\n",
      "conv2d_28 (Conv2D)              (None, 4, 4, 64)     36928       conv2d_27[0][0]                  \n",
      "__________________________________________________________________________________________________\n",
      "batch_normalization_16 (BatchNo (None, 4, 4, 64)     256         conv2d_28[0][0]                  \n",
      "__________________________________________________________________________________________________\n",
      "activation_9 (Activation)       (None, 4, 4, 64)     0           batch_normalization_16[0][0]     \n",
      "__________________________________________________________________________________________________\n",
      "conv2d_29 (Conv2D)              (None, 4, 4, 64)     36928       activation_9[0][0]               \n",
      "__________________________________________________________________________________________________\n",
      "batch_normalization_17 (BatchNo (None, 4, 4, 64)     256         conv2d_29[0][0]                  \n",
      "__________________________________________________________________________________________________\n",
      "add_1 (Add)                     (None, 4, 4, 64)     0           conv2d_27[0][0]                  \n",
      "                                                                 batch_normalization_17[0][0]     \n",
      "__________________________________________________________________________________________________\n",
      "activation_10 (Activation)      (None, 4, 4, 64)     0           add_1[0][0]                      \n",
      "__________________________________________________________________________________________________\n",
      "average_pooling2d_1 (AveragePoo (None, 2, 2, 64)     0           activation_10[0][0]              \n",
      "__________________________________________________________________________________________________\n",
      "flatten_3 (Flatten)             (None, 256)          0           average_pooling2d_1[0][0]        \n",
      "__________________________________________________________________________________________________\n",
      "dense_5 (Dense)                 (None, 5)            1285        flatten_3[0][0]                  \n",
      "==================================================================================================\n",
      "Total params: 91,589\n",
      "Trainable params: 91,205\n",
      "Non-trainable params: 384\n",
      "__________________________________________________________________________________________________\n"
     ]
    }
   ],
   "source": [
    "# compile model.\n",
    "model = Model(inputs=inputs, outputs=outputs)\n",
    "model.compile(loss='categorical_crossentropy',\n",
    "              optimizer=Adam(),\n",
    "              metrics=['accuracy'])\n",
    "model.summary()"
   ]
  },
  {
   "cell_type": "code",
   "execution_count": 70,
   "metadata": {},
   "outputs": [
    {
     "name": "stdout",
     "output_type": "stream",
     "text": [
      "/kaggle/working/saved_model/resnet_model.h5\n"
     ]
    }
   ],
   "source": [
    "save_dir = os.path.join(os.getcwd(), 'saved_model')\n",
    "model_name = 'resnet_model.h5'\n",
    "if not os.path.isdir(save_dir):\n",
    "    os.makedirs(save_dir)\n",
    "filepath = os.path.join(save_dir,model_name)\n",
    "print(filepath)"
   ]
  },
  {
   "cell_type": "markdown",
   "metadata": {},
   "source": [
    "ReduceLROnPlateau - Use Reduce learning rate when a metric has stopped improving. This callback monitors a quantity and if no improvement is seen for a 'patience' number of epochs, the learning rate is reduced. checkpoint will save the best model and use it again to perform after reducing the learning rate when any improvement is shown. Finally, when model shows no improvement on training the model early stopping stop the model."
   ]
  },
  {
   "cell_type": "code",
   "execution_count": 71,
   "metadata": {},
   "outputs": [],
   "source": [
    "# Prepare callbacks for model saving and for learning rate adjustment\n",
    "checkpoint = ModelCheckpoint(filepath=filepath,\n",
    "                             verbose=1,\n",
    "                             save_best_only=True)\n",
    "lr_reducer = ReduceLROnPlateau(factor=np.sqrt(0.1),\n",
    "                               cooldown=0,\n",
    "                               patience=5,\n",
    "                               min_lr=0.5e-6)\n",
    "callbacks = [checkpoint, lr_reducer]"
   ]
  },
  {
   "cell_type": "markdown",
   "metadata": {},
   "source": [
    "# Fitting the model\n",
    "\n",
    "using fit() function fit the model to train it on traing data and validate it on the validation data of 80-20 % validation split."
   ]
  },
  {
   "cell_type": "code",
   "execution_count": 72,
   "metadata": {},
   "outputs": [
    {
     "name": "stdout",
     "output_type": "stream",
     "text": [
      "Train on 48000 samples, validate on 12000 samples\n",
      "Epoch 1/10\n",
      "48000/48000 [==============================] - 53s 1ms/step - loss: 0.6939 - accuracy: 0.7446 - val_loss: 0.6281 - val_accuracy: 0.7732\n",
      "\n",
      "Epoch 00001: val_loss improved from inf to 0.62809, saving model to /kaggle/working/saved_model/resnet_model.h5\n",
      "Epoch 2/10\n",
      "48000/48000 [==============================] - 53s 1ms/step - loss: 0.5240 - accuracy: 0.8195 - val_loss: 0.4714 - val_accuracy: 0.8425\n",
      "\n",
      "Epoch 00002: val_loss improved from 0.62809 to 0.47138, saving model to /kaggle/working/saved_model/resnet_model.h5\n",
      "Epoch 3/10\n",
      "48000/48000 [==============================] - 53s 1ms/step - loss: 0.4873 - accuracy: 0.8353 - val_loss: 0.5737 - val_accuracy: 0.7979\n",
      "\n",
      "Epoch 00003: val_loss did not improve from 0.47138\n",
      "Epoch 4/10\n",
      "48000/48000 [==============================] - 53s 1ms/step - loss: 0.4528 - accuracy: 0.8495 - val_loss: 0.4573 - val_accuracy: 0.8478\n",
      "\n",
      "Epoch 00004: val_loss improved from 0.47138 to 0.45731, saving model to /kaggle/working/saved_model/resnet_model.h5\n",
      "Epoch 5/10\n",
      "48000/48000 [==============================] - 53s 1ms/step - loss: 0.4350 - accuracy: 0.8560 - val_loss: 0.4784 - val_accuracy: 0.8409\n",
      "\n",
      "Epoch 00005: val_loss did not improve from 0.45731\n",
      "Epoch 6/10\n",
      "48000/48000 [==============================] - 52s 1ms/step - loss: 0.4152 - accuracy: 0.8624 - val_loss: 0.4298 - val_accuracy: 0.8593\n",
      "\n",
      "Epoch 00006: val_loss improved from 0.45731 to 0.42978, saving model to /kaggle/working/saved_model/resnet_model.h5\n",
      "Epoch 7/10\n",
      "48000/48000 [==============================] - 53s 1ms/step - loss: 0.4013 - accuracy: 0.8692 - val_loss: 0.4365 - val_accuracy: 0.8562\n",
      "\n",
      "Epoch 00007: val_loss did not improve from 0.42978\n",
      "Epoch 8/10\n",
      "48000/48000 [==============================] - 52s 1ms/step - loss: 0.3840 - accuracy: 0.8752 - val_loss: 0.4204 - val_accuracy: 0.8621\n",
      "\n",
      "Epoch 00008: val_loss improved from 0.42978 to 0.42040, saving model to /kaggle/working/saved_model/resnet_model.h5\n",
      "Epoch 9/10\n",
      "48000/48000 [==============================] - 53s 1ms/step - loss: 0.3753 - accuracy: 0.8784 - val_loss: 0.4196 - val_accuracy: 0.8622\n",
      "\n",
      "Epoch 00009: val_loss improved from 0.42040 to 0.41961, saving model to /kaggle/working/saved_model/resnet_model.h5\n",
      "Epoch 10/10\n",
      "48000/48000 [==============================] - 52s 1ms/step - loss: 0.3613 - accuracy: 0.8849 - val_loss: 0.4262 - val_accuracy: 0.8579\n",
      "\n",
      "Epoch 00010: val_loss did not improve from 0.41961\n",
      "Total training time is 8.81 minute\n"
     ]
    }
   ],
   "source": [
    "import time\n",
    "start = time.time()\n",
    "\n",
    "History=  model.fit(X_train, y_train,\n",
    "              batch_size=batch_size,\n",
    "              epochs=epochs,\n",
    "              validation_data=(X_val, y_val),\n",
    "              shuffle=True,\n",
    "              callbacks=callbacks)\n",
    "end = time.time()\n",
    "model_time = end-start\n",
    "print(\"Total training time is {:0.2f} minute\".format(model_time/60.0))"
   ]
  },
  {
   "cell_type": "markdown",
   "metadata": {},
   "source": [
    "Here we have trained our model on 10 epochs, and validtion loss reduced from 42 % to 41%. Therefore we can get better validation loss by increasing the number of epochs and using early stoppnig to get the best model. The computation time is low for resent model nearly 9 minutes for 10 epochs. it gives 85 % accuracy on the data. "
   ]
  },
  {
   "cell_type": "markdown",
   "metadata": {},
   "source": [
    "# Plot 1 - Loss Vs Epochs"
   ]
  },
  {
   "cell_type": "code",
   "execution_count": 73,
   "metadata": {},
   "outputs": [
    {
     "data": {
      "image/png": "[encoded data removed]",
      "text/plain": [
       "<Figure size 432x288 with 1 Axes>"
      ]
     },
     "metadata": {
      "needs_background": "light"
     },
     "output_type": "display_data"
    }
   ],
   "source": [
    "# plot summarize history for loss\n",
    "plt.plot(History.history['loss'])\n",
    "plt.plot(History.history['val_loss'])\n",
    "plt.title('model loss')\n",
    "plt.ylabel('loss')\n",
    "plt.xlabel('epoch')\n",
    "plt.legend(['Train', 'Validation'], loc='upper left')\n",
    "plt.show()"
   ]
  },
  {
   "cell_type": "markdown",
   "metadata": {},
   "source": [
    "# Plot  -2 Accuracy Vs Epochs"
   ]
  },
  {
   "cell_type": "code",
   "execution_count": 74,
   "metadata": {},
   "outputs": [
    {
     "data": {
      "image/png": "[encoded data removed]",
      "text/plain": [
       "<Figure size 432x288 with 1 Axes>"
      ]
     },
     "metadata": {
      "needs_background": "light"
     },
     "output_type": "display_data"
    }
   ],
   "source": [
    "plt.plot(History.history['accuracy'])\n",
    "plt.plot(History.history['val_accuracy'])\n",
    "plt.title('Model Accuracy')\n",
    "plt.xlabel('Epochs')\n",
    "plt.ylabel('Accuracy')\n",
    "plt.legend(['Train','Validation'])\n",
    "plt.show()"
   ]
  },
  {
   "cell_type": "markdown",
   "metadata": {},
   "source": [
    "Here we have trained our model on 10 epochs, and validtion loss reduced from 42 % to 41%. Therefore we can get better validation loss by increasing the number of epochs. the computation time is low for resent model nearly 9 minutes for 10 epochs. it gives 85 % accuracy on the data. "
   ]
  },
  {
   "cell_type": "markdown",
   "metadata": {},
   "source": [
    "# Prediction on Test Data\n"
   ]
  },
  {
   "cell_type": "code",
   "execution_count": 75,
   "metadata": {},
   "outputs": [
    {
     "name": "stdout",
     "output_type": "stream",
     "text": [
      "3\n",
      "4\n",
      "1\n",
      "1\n",
      "0\n"
     ]
    }
   ],
   "source": [
    "resnet_pred_mnist = model.predict(test_data)\n",
    "for i in range(5):\n",
    "    print(np.argmax(np.round(resnet_pred_mnist[i])))\n"
   ]
  },
  {
   "cell_type": "markdown",
   "metadata": {},
   "source": [
    "# Confusion Matrix\n",
    "\n",
    "Now we will se our model's performace on confusion matrix :"
   ]
  },
  {
   "cell_type": "code",
   "execution_count": 78,
   "metadata": {},
   "outputs": [
    {
     "name": "stdout",
     "output_type": "stream",
     "text": [
      "-----------------Convolutional Neural Network Report---------------\n",
      "F1 score: 0.8578390855375605\n",
      "Accuracy score: 0.8579166666666667\n",
      "Confusion matrix: \n",
      " [[2179  139   56    2    3]\n",
      " [ 157 1878  323   57    9]\n",
      " [  16   96 1963  243   46]\n",
      " [   0   22  170 1977  198]\n",
      " [   4    7   36  121 2298]]\n",
      "Plotting confusion matrix\n"
     ]
    },
    {
     "data": {
      "image/png": "[encoded data removed]",
      "text/plain": [
       "<Figure size 432x288 with 2 Axes>"
      ]
     },
     "metadata": {
      "needs_background": "light"
     },
     "output_type": "display_data"
    },
    {
     "name": "stdout",
     "output_type": "stream",
     "text": [
      "              precision    recall  f1-score   support\n",
      "\n",
      "           0       0.92      0.92      0.92      2379\n",
      "           1       0.88      0.77      0.82      2424\n",
      "           2       0.77      0.83      0.80      2364\n",
      "           3       0.82      0.84      0.83      2367\n",
      "           4       0.90      0.93      0.92      2466\n",
      "\n",
      "    accuracy                           0.86     12000\n",
      "   macro avg       0.86      0.86      0.86     12000\n",
      "weighted avg       0.86      0.86      0.86     12000\n",
      "\n"
     ]
    }
   ],
   "source": [
    "resnet_pred_mnist = model.predict(X_val)\n",
    "resnet_pred_mnist = np.argmax(resnet_pred_mnist,axis=1)\n",
    "y_true = np.argmax(y_val,axis=1)\n",
    "\n",
    "resnet_f1_mnist = metrics.f1_score(y_true, resnet_pred_mnist, average= \"weighted\")\n",
    "resnet_accuracy_mnist = metrics.accuracy_score(y_true, resnet_pred_mnist)\n",
    "resnet_cm_mnist = metrics.confusion_matrix(y_true, resnet_pred_mnist)\n",
    "print(\"-----------------Convolutional Neural Network Report---------------\")\n",
    "print(\"F1 score: {}\".format(resnet_f1_mnist))\n",
    "print(\"Accuracy score: {}\".format(resnet_accuracy_mnist))\n",
    "print(\"Confusion matrix: \\n\", resnet_cm_mnist)\n",
    "print('Plotting confusion matrix')\n",
    "\n",
    "plt.figure()\n",
    "plot_confusion_matrix(resnet_cm_mnist, classes = [0,1,2,3,4])\n",
    "plt.show()\n",
    "\n",
    "print(metrics.classification_report(y_true, resnet_pred_mnist))"
   ]
  },
  {
   "cell_type": "markdown",
   "metadata": {},
   "source": [
    "Look at the precision of the class 2, we can see that our model predicted 77 % correctly out of the total labels it has predicted. We did conclude the same from the confusion matrix, where we saw that label 2 and label 3 are misclassified. Label 0 and 4 has the highest precision, recall and othe classification report performance. "
   ]
  },
  {
   "cell_type": "code",
   "execution_count": 79,
   "metadata": {},
   "outputs": [
    {
     "name": "stdout",
     "output_type": "stream",
     "text": [
      "Class: 0\n",
      "Number of Wrong Prediction: 90 out of 12000\n",
      "Percentage of True Prediction: 457.80%\n",
      "***********************************************************\n",
      "Class: 1\n",
      "Number of Wrong Prediction: 276 out of 12000\n",
      "Percentage of True Prediction: 429.60%\n",
      "***********************************************************\n",
      "Class: 2\n",
      "Number of Wrong Prediction: 465 out of 12000\n",
      "Percentage of True Prediction: 379.80%\n",
      "***********************************************************\n",
      "Class: 3\n",
      "Number of Wrong Prediction: 369 out of 12000\n",
      "Percentage of True Prediction: 399.60%\n",
      "***********************************************************\n",
      "Class: 4\n",
      "Number of Wrong Prediction: 185 out of 12000\n",
      "Percentage of True Prediction: 456.20%\n",
      "***********************************************************\n"
     ]
    }
   ],
   "source": [
    "for i in range(len(confusion_matrix)):\n",
    "    print(\"Class:\",str(i))\n",
    "    print(\"Number of Wrong Prediction:\", str(sum(confusion_matrix[i])-confusion_matrix[i][i]), \"out of 12000\")\n",
    "    print(\"Percentage of True Prediction: {:.2f}%\".format(confusion_matrix[i][i] / 5))\n",
    "    print(\"***********************************************************\")"
   ]
  },
  {
   "cell_type": "markdown",
   "metadata": {},
   "source": [
    "from the confusion marix and classification report we can say that our model has predicted class 0 and class 4 with highest accuracy. "
   ]
  },
  {
   "cell_type": "markdown",
   "metadata": {},
   "source": [
    "# 2.4: Kaggle Competition Score\n",
    "\n",
    "We have scored the highest test data prediction score on kaggle using CNN model is approax 89.08 %."
   ]
  },
  {
   "cell_type": "markdown",
   "metadata": {},
   "source": [
    "# Comparison of the different algorithms and parameters you tried\n",
    "\n",
    "We have applied the methods which are stated below as well as the parameters on data \n",
    "\n",
    "In this we have used different algorithms to find out the best method which can be used to predict the test data:\n",
    "\n",
    "1. CNN (Convolution Neural Network)\n",
    "2. Autoencoder\n",
    "3. ResNet (Residual Network)"
   ]
  },
  {
   "cell_type": "markdown",
   "metadata": {},
   "source": [
    "Parameters which we have used to find the best method are:\n",
    "\n",
    "1. Computation Time\n",
    "2. Accuracy \n",
    "3. F1 Score \n",
    "4. Precision\n",
    "5. Recall\n",
    "6. Confusion Matrix"
   ]
  },
  {
   "cell_type": "markdown",
   "metadata": {},
   "source": [
    "# 2.5: Runtime performance for training and testing - \n",
    "\n",
    "We have trained our model with different number of epochs and batchsize. the run time performance for these models are\n",
    "* 1. The run time performance of CNN model_1 - 4 minute\n",
    "* 2. The run time performance of CNN Model_2 - 13 minutes\n",
    "* 3. The run time performance of Autoencoder - 109 minutes\n",
    "* 4. The run time performance of Resnet - 9 minutes\n",
    "\n",
    "There is significant decrease of the time in CNN and ResNet when we have not applied the image data generator(Data Augmentation)."
   ]
  },
  {
   "cell_type": "markdown",
   "metadata": {},
   "source": [
    "# 2.6: Evaluate your code with other metrics on the training data (by using some of it as test data) and argue for the benefit of your approach."
   ]
  },
  {
   "cell_type": "markdown",
   "metadata": {},
   "source": [
    "By considering the above metrics for all the classifier we can depict that CNN built model has the best accuracy and metrics values when compared with all the classifiers. The risk of over-fitting and under-fititngis less in this model and it has the property of scaling relatively well to high dimensional data."
   ]
  },
  {
   "cell_type": "markdown",
   "metadata": {},
   "source": [
    "# Explanation of your model (algorithms, design choices, numbers of parameters)\n",
    "\n",
    "All the methods as well as the design chose and number parameters are explained above in the question."
   ]
  },
  {
   "cell_type": "markdown",
   "metadata": {},
   "source": [
    "# References- \n",
    "\n",
    "1. https://www.kaggle.com/fuzzywizard/fashion-mnist-cnn-keras-accuracy-93/\n",
    "2. https://www.kaggle.com/zalando-research/fashionmnist\n",
    "3. “A Gentle Introduction to LSTM Autoencoders” , https://machinelearningmastery.com \n",
    "4. https://towardsdatascience.com/applied-deep-learning-part-3-autoencoders\n",
    "5. https://towardsdatascience.com/understanding-and-coding-a-resnet-in-keras-446d7ff84d33\n",
    "6. https://keras.io/examples/cifar10_resnet/\n",
    "7. https://keras.io/layers/convolutional/"
   ]
  }
 ],
 "metadata": {
  "kernelspec": {
   "display_name": "Python 3",
   "language": "python",
   "name": "python3"
  },
  "language_info": {
   "codemirror_mode": {
    "name": "ipython",
    "version": 3
   },
   "file_extension": ".py",
   "mimetype": "text/x-python",
   "name": "python",
   "nbconvert_exporter": "python",
   "pygments_lexer": "ipython3",
   "version": "3.7.4"
  }
 },
 "nbformat": 4,
 "nbformat_minor": 4
}
