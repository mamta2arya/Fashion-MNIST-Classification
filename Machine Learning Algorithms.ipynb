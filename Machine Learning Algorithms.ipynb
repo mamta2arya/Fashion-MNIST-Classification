{
 "cells": [
  {
   "cell_type": "markdown",
   "metadata": {},
   "source": [
    "# Assignment-3 "
   ]
  },
  {
   "cell_type": "markdown",
   "metadata": {},
   "source": [
    "# Question-1"
   ]
  },
  {
   "cell_type": "markdown",
   "metadata": {},
   "source": [
    "## Importing the Liberaries "
   ]
  },
  {
   "cell_type": "code",
   "execution_count": 1,
   "metadata": {
    "_cell_guid": "b1076dfc-b9ad-4769-8c92-a6c4dae69d19",
    "_uuid": "8f2839f25d086af736a60e9eeb907d3b93b6e0e5"
   },
   "outputs": [],
   "source": [
    "# This Python 3 environment comes with many helpful analytics libraries installed\n",
    "# It is defined by the kaggle/python docker image: https://github.com/kaggle/docker-python\n",
    "# For example, here's several helpful packages to load in \n",
    "\n",
    "import numpy as np # linear algebra\n",
    "import pandas as pd # data processing, CSV file I/O (e.g. pd.read_csv)\n",
    "\n",
    "# Input data files are available in the \"../input/\" directory.\n",
    "# For example, running this (by clicking run or pressing Shift+Enter) will list all files under the input directory\n",
    "\n",
    "import os\n",
    "for dirname, _, filenames in os.walk('/kaggle/input'):\n",
    "    for filename in filenames:\n",
    "        print(os.path.join(dirname, filename))\n",
    "\n",
    "# Any results you write to the current directory are saved as output."
   ]
  },
  {
   "cell_type": "code",
   "execution_count": 2,
   "metadata": {},
   "outputs": [],
   "source": [
    "from sklearn import neighbors\n",
    "from sklearn.model_selection import train_test_split\n",
    "from sklearn.metrics import accuracy_score\n",
    "import matplotlib.pyplot as plt\n",
    "from sklearn.metrics import confusion_matrix\n",
    "from sklearn import metrics\n",
    "from IPython.display import Markdown, display\n",
    "import random"
   ]
  },
  {
   "cell_type": "markdown",
   "metadata": {},
   "source": [
    "## Helper function for ploting the confusion matrix"
   ]
  },
  {
   "cell_type": "code",
   "execution_count": 3,
   "metadata": {},
   "outputs": [],
   "source": [
    "# Helper function\n",
    "# Print markdown style\n",
    "def printmd(string):\n",
    "    display(Markdown(string))\n",
    "    \n",
    "# cm is the confusion matrix, names are the names of the classes.\n",
    "def plot_confusion_matrix(cm, names, title='Confusion matrix', cmap=plt.cm.Blues):\n",
    "    plt.imshow(cm, interpolation='nearest', cmap=cmap)\n",
    "    plt.title(title)\n",
    "    plt.colorbar()\n",
    "    tick_marks = np.arange(len(names))\n",
    "    plt.xticks(tick_marks, names, rotation=90)\n",
    "    plt.yticks(tick_marks, names)\n",
    "    plt.tight_layout()\n",
    "    plt.ylabel('True label')\n",
    "    plt.xlabel('Predicted label')"
   ]
  },
  {
   "cell_type": "markdown",
   "metadata": {},
   "source": [
    "The above Helping function is made to print the confusion matrix which is formed for the each classification for analysis."
   ]
  },
  {
   "cell_type": "markdown",
   "metadata": {},
   "source": [
    "## Importing the Train and test Data "
   ]
  },
  {
   "cell_type": "code",
   "execution_count": 4,
   "metadata": {
    "_cell_guid": "79c7e3d0-c299-4dcb-8224-4455121ee9b0",
    "_uuid": "d629ff2d2480ee46fbb7e2d37f6b5fab8052498a"
   },
   "outputs": [],
   "source": [
    "train = pd.read_csv('train.csv')\n",
    "test = pd.read_csv('testX.csv')\n",
    "df_train = train.copy()\n",
    "df_test = test.copy()"
   ]
  },
  {
   "cell_type": "markdown",
   "metadata": {},
   "source": [
    "Importing the Fashion MNIST data set with twist as in th eoriginal data set there are 10 labels and the dataset which we have used is having 5 labels for analysis. "
   ]
  },
  {
   "cell_type": "code",
   "execution_count": 5,
   "metadata": {},
   "outputs": [
    {
     "data": {
      "text/html": [
       "<div>\n",
       "<style scoped>\n",
       "    .dataframe tbody tr th:only-of-type {\n",
       "        vertical-align: middle;\n",
       "    }\n",
       "\n",
       "    .dataframe tbody tr th {\n",
       "        vertical-align: top;\n",
       "    }\n",
       "\n",
       "    .dataframe thead th {\n",
       "        text-align: right;\n",
       "    }\n",
       "</style>\n",
       "<table border=\"1\" class=\"dataframe\">\n",
       "  <thead>\n",
       "    <tr style=\"text-align: right;\">\n",
       "      <th></th>\n",
       "      <th>Id</th>\n",
       "      <th>Label</th>\n",
       "      <th>1</th>\n",
       "      <th>2</th>\n",
       "      <th>3</th>\n",
       "      <th>4</th>\n",
       "      <th>5</th>\n",
       "      <th>6</th>\n",
       "      <th>7</th>\n",
       "      <th>8</th>\n",
       "      <th>...</th>\n",
       "      <th>775</th>\n",
       "      <th>776</th>\n",
       "      <th>777</th>\n",
       "      <th>778</th>\n",
       "      <th>779</th>\n",
       "      <th>780</th>\n",
       "      <th>781</th>\n",
       "      <th>782</th>\n",
       "      <th>783</th>\n",
       "      <th>784</th>\n",
       "    </tr>\n",
       "  </thead>\n",
       "  <tbody>\n",
       "    <tr>\n",
       "      <td>0</td>\n",
       "      <td>10000</td>\n",
       "      <td>4</td>\n",
       "      <td>0</td>\n",
       "      <td>0</td>\n",
       "      <td>0</td>\n",
       "      <td>0</td>\n",
       "      <td>0</td>\n",
       "      <td>0</td>\n",
       "      <td>0</td>\n",
       "      <td>0</td>\n",
       "      <td>...</td>\n",
       "      <td>0</td>\n",
       "      <td>0</td>\n",
       "      <td>0</td>\n",
       "      <td>0</td>\n",
       "      <td>0</td>\n",
       "      <td>0</td>\n",
       "      <td>0</td>\n",
       "      <td>0</td>\n",
       "      <td>0</td>\n",
       "      <td>0</td>\n",
       "    </tr>\n",
       "    <tr>\n",
       "      <td>1</td>\n",
       "      <td>10001</td>\n",
       "      <td>0</td>\n",
       "      <td>0</td>\n",
       "      <td>0</td>\n",
       "      <td>0</td>\n",
       "      <td>0</td>\n",
       "      <td>0</td>\n",
       "      <td>0</td>\n",
       "      <td>0</td>\n",
       "      <td>0</td>\n",
       "      <td>...</td>\n",
       "      <td>0</td>\n",
       "      <td>0</td>\n",
       "      <td>0</td>\n",
       "      <td>0</td>\n",
       "      <td>0</td>\n",
       "      <td>0</td>\n",
       "      <td>0</td>\n",
       "      <td>0</td>\n",
       "      <td>0</td>\n",
       "      <td>0</td>\n",
       "    </tr>\n",
       "    <tr>\n",
       "      <td>2</td>\n",
       "      <td>10002</td>\n",
       "      <td>0</td>\n",
       "      <td>0</td>\n",
       "      <td>0</td>\n",
       "      <td>0</td>\n",
       "      <td>0</td>\n",
       "      <td>0</td>\n",
       "      <td>0</td>\n",
       "      <td>0</td>\n",
       "      <td>0</td>\n",
       "      <td>...</td>\n",
       "      <td>31</td>\n",
       "      <td>9</td>\n",
       "      <td>0</td>\n",
       "      <td>0</td>\n",
       "      <td>0</td>\n",
       "      <td>0</td>\n",
       "      <td>0</td>\n",
       "      <td>0</td>\n",
       "      <td>0</td>\n",
       "      <td>0</td>\n",
       "    </tr>\n",
       "    <tr>\n",
       "      <td>3</td>\n",
       "      <td>10003</td>\n",
       "      <td>4</td>\n",
       "      <td>0</td>\n",
       "      <td>0</td>\n",
       "      <td>0</td>\n",
       "      <td>0</td>\n",
       "      <td>0</td>\n",
       "      <td>0</td>\n",
       "      <td>0</td>\n",
       "      <td>0</td>\n",
       "      <td>...</td>\n",
       "      <td>0</td>\n",
       "      <td>0</td>\n",
       "      <td>0</td>\n",
       "      <td>0</td>\n",
       "      <td>0</td>\n",
       "      <td>0</td>\n",
       "      <td>0</td>\n",
       "      <td>0</td>\n",
       "      <td>0</td>\n",
       "      <td>0</td>\n",
       "    </tr>\n",
       "    <tr>\n",
       "      <td>4</td>\n",
       "      <td>10004</td>\n",
       "      <td>1</td>\n",
       "      <td>0</td>\n",
       "      <td>0</td>\n",
       "      <td>0</td>\n",
       "      <td>0</td>\n",
       "      <td>0</td>\n",
       "      <td>0</td>\n",
       "      <td>0</td>\n",
       "      <td>0</td>\n",
       "      <td>...</td>\n",
       "      <td>0</td>\n",
       "      <td>0</td>\n",
       "      <td>0</td>\n",
       "      <td>0</td>\n",
       "      <td>0</td>\n",
       "      <td>0</td>\n",
       "      <td>0</td>\n",
       "      <td>0</td>\n",
       "      <td>0</td>\n",
       "      <td>0</td>\n",
       "    </tr>\n",
       "  </tbody>\n",
       "</table>\n",
       "<p>5 rows × 786 columns</p>\n",
       "</div>"
      ],
      "text/plain": [
       "      Id  Label  1  2  3  4  5  6  7  8  ...  775  776  777  778  779  780  \\\n",
       "0  10000      4  0  0  0  0  0  0  0  0  ...    0    0    0    0    0    0   \n",
       "1  10001      0  0  0  0  0  0  0  0  0  ...    0    0    0    0    0    0   \n",
       "2  10002      0  0  0  0  0  0  0  0  0  ...   31    9    0    0    0    0   \n",
       "3  10003      4  0  0  0  0  0  0  0  0  ...    0    0    0    0    0    0   \n",
       "4  10004      1  0  0  0  0  0  0  0  0  ...    0    0    0    0    0    0   \n",
       "\n",
       "   781  782  783  784  \n",
       "0    0    0    0    0  \n",
       "1    0    0    0    0  \n",
       "2    0    0    0    0  \n",
       "3    0    0    0    0  \n",
       "4    0    0    0    0  \n",
       "\n",
       "[5 rows x 786 columns]"
      ]
     },
     "execution_count": 5,
     "metadata": {},
     "output_type": "execute_result"
    }
   ],
   "source": [
    "df_train.head()"
   ]
  },
  {
   "cell_type": "code",
   "execution_count": 6,
   "metadata": {},
   "outputs": [
    {
     "data": {
      "text/plain": [
       "array([4, 0, 1, 2, 3], dtype=int64)"
      ]
     },
     "execution_count": 6,
     "metadata": {},
     "output_type": "execute_result"
    }
   ],
   "source": [
    "df_train.Label.unique()"
   ]
  },
  {
   "cell_type": "markdown",
   "metadata": {},
   "source": [
    "Unique Labels which are present in the dataset."
   ]
  },
  {
   "cell_type": "code",
   "execution_count": 7,
   "metadata": {},
   "outputs": [
    {
     "data": {
      "text/html": [
       "<div>\n",
       "<style scoped>\n",
       "    .dataframe tbody tr th:only-of-type {\n",
       "        vertical-align: middle;\n",
       "    }\n",
       "\n",
       "    .dataframe tbody tr th {\n",
       "        vertical-align: top;\n",
       "    }\n",
       "\n",
       "    .dataframe thead th {\n",
       "        text-align: right;\n",
       "    }\n",
       "</style>\n",
       "<table border=\"1\" class=\"dataframe\">\n",
       "  <thead>\n",
       "    <tr style=\"text-align: right;\">\n",
       "      <th></th>\n",
       "      <th>Id</th>\n",
       "      <th>0</th>\n",
       "      <th>1</th>\n",
       "      <th>2</th>\n",
       "      <th>3</th>\n",
       "      <th>4</th>\n",
       "      <th>5</th>\n",
       "      <th>6</th>\n",
       "      <th>7</th>\n",
       "      <th>8</th>\n",
       "      <th>...</th>\n",
       "      <th>774</th>\n",
       "      <th>775</th>\n",
       "      <th>776</th>\n",
       "      <th>777</th>\n",
       "      <th>778</th>\n",
       "      <th>779</th>\n",
       "      <th>780</th>\n",
       "      <th>781</th>\n",
       "      <th>782</th>\n",
       "      <th>783</th>\n",
       "    </tr>\n",
       "  </thead>\n",
       "  <tbody>\n",
       "    <tr>\n",
       "      <td>0</td>\n",
       "      <td>0</td>\n",
       "      <td>0</td>\n",
       "      <td>0</td>\n",
       "      <td>0</td>\n",
       "      <td>0</td>\n",
       "      <td>0</td>\n",
       "      <td>0</td>\n",
       "      <td>0</td>\n",
       "      <td>0</td>\n",
       "      <td>0</td>\n",
       "      <td>...</td>\n",
       "      <td>0</td>\n",
       "      <td>0</td>\n",
       "      <td>0</td>\n",
       "      <td>0</td>\n",
       "      <td>0</td>\n",
       "      <td>0</td>\n",
       "      <td>0</td>\n",
       "      <td>0</td>\n",
       "      <td>0</td>\n",
       "      <td>0</td>\n",
       "    </tr>\n",
       "    <tr>\n",
       "      <td>1</td>\n",
       "      <td>1</td>\n",
       "      <td>0</td>\n",
       "      <td>0</td>\n",
       "      <td>0</td>\n",
       "      <td>0</td>\n",
       "      <td>0</td>\n",
       "      <td>1</td>\n",
       "      <td>0</td>\n",
       "      <td>0</td>\n",
       "      <td>0</td>\n",
       "      <td>...</td>\n",
       "      <td>119</td>\n",
       "      <td>114</td>\n",
       "      <td>130</td>\n",
       "      <td>76</td>\n",
       "      <td>0</td>\n",
       "      <td>0</td>\n",
       "      <td>0</td>\n",
       "      <td>0</td>\n",
       "      <td>0</td>\n",
       "      <td>0</td>\n",
       "    </tr>\n",
       "    <tr>\n",
       "      <td>2</td>\n",
       "      <td>2</td>\n",
       "      <td>0</td>\n",
       "      <td>0</td>\n",
       "      <td>0</td>\n",
       "      <td>0</td>\n",
       "      <td>0</td>\n",
       "      <td>0</td>\n",
       "      <td>0</td>\n",
       "      <td>0</td>\n",
       "      <td>0</td>\n",
       "      <td>...</td>\n",
       "      <td>0</td>\n",
       "      <td>0</td>\n",
       "      <td>1</td>\n",
       "      <td>0</td>\n",
       "      <td>0</td>\n",
       "      <td>0</td>\n",
       "      <td>0</td>\n",
       "      <td>0</td>\n",
       "      <td>0</td>\n",
       "      <td>0</td>\n",
       "    </tr>\n",
       "    <tr>\n",
       "      <td>3</td>\n",
       "      <td>3</td>\n",
       "      <td>0</td>\n",
       "      <td>0</td>\n",
       "      <td>0</td>\n",
       "      <td>0</td>\n",
       "      <td>0</td>\n",
       "      <td>0</td>\n",
       "      <td>0</td>\n",
       "      <td>0</td>\n",
       "      <td>33</td>\n",
       "      <td>...</td>\n",
       "      <td>0</td>\n",
       "      <td>0</td>\n",
       "      <td>0</td>\n",
       "      <td>0</td>\n",
       "      <td>0</td>\n",
       "      <td>0</td>\n",
       "      <td>0</td>\n",
       "      <td>0</td>\n",
       "      <td>0</td>\n",
       "      <td>0</td>\n",
       "    </tr>\n",
       "    <tr>\n",
       "      <td>4</td>\n",
       "      <td>4</td>\n",
       "      <td>0</td>\n",
       "      <td>0</td>\n",
       "      <td>0</td>\n",
       "      <td>0</td>\n",
       "      <td>0</td>\n",
       "      <td>0</td>\n",
       "      <td>0</td>\n",
       "      <td>0</td>\n",
       "      <td>0</td>\n",
       "      <td>...</td>\n",
       "      <td>0</td>\n",
       "      <td>0</td>\n",
       "      <td>0</td>\n",
       "      <td>0</td>\n",
       "      <td>0</td>\n",
       "      <td>0</td>\n",
       "      <td>0</td>\n",
       "      <td>0</td>\n",
       "      <td>0</td>\n",
       "      <td>0</td>\n",
       "    </tr>\n",
       "  </tbody>\n",
       "</table>\n",
       "<p>5 rows × 785 columns</p>\n",
       "</div>"
      ],
      "text/plain": [
       "   Id  0  1  2  3  4  5  6  7   8  ...  774  775  776  777  778  779  780  \\\n",
       "0   0  0  0  0  0  0  0  0  0   0  ...    0    0    0    0    0    0    0   \n",
       "1   1  0  0  0  0  0  1  0  0   0  ...  119  114  130   76    0    0    0   \n",
       "2   2  0  0  0  0  0  0  0  0   0  ...    0    0    1    0    0    0    0   \n",
       "3   3  0  0  0  0  0  0  0  0  33  ...    0    0    0    0    0    0    0   \n",
       "4   4  0  0  0  0  0  0  0  0   0  ...    0    0    0    0    0    0    0   \n",
       "\n",
       "   781  782  783  \n",
       "0    0    0    0  \n",
       "1    0    0    0  \n",
       "2    0    0    0  \n",
       "3    0    0    0  \n",
       "4    0    0    0  \n",
       "\n",
       "[5 rows x 785 columns]"
      ]
     },
     "execution_count": 7,
     "metadata": {},
     "output_type": "execute_result"
    }
   ],
   "source": [
    "df_test.head()"
   ]
  },
  {
   "cell_type": "markdown",
   "metadata": {},
   "source": [
    "To check if there is any Null Element present in the Test and Train Data "
   ]
  },
  {
   "cell_type": "code",
   "execution_count": 8,
   "metadata": {},
   "outputs": [
    {
     "data": {
      "text/plain": [
       "0"
      ]
     },
     "execution_count": 8,
     "metadata": {},
     "output_type": "execute_result"
    }
   ],
   "source": [
    "# Train\n",
    "df_train.isnull().any().sum()"
   ]
  },
  {
   "cell_type": "code",
   "execution_count": 9,
   "metadata": {},
   "outputs": [
    {
     "data": {
      "text/plain": [
       "0"
      ]
     },
     "execution_count": 9,
     "metadata": {},
     "output_type": "execute_result"
    }
   ],
   "source": [
    "# Test\n",
    "df_test.isnull().any().sum()"
   ]
  },
  {
   "cell_type": "markdown",
   "metadata": {},
   "source": [
    "## Data Visualisation\n",
    "\n",
    "Visiualization of the data having imahges iof clothing. Each example is a 28x28 grayscale image, associated with a label from 5 classes. We intend Fashion-MNIST to serve as a direct drop-in replacement for the original MNIST dataset for benchmarking machine learning algorithms. It shares the same image size and structure of training and testing splits."
   ]
  },
  {
   "cell_type": "code",
   "execution_count": 10,
   "metadata": {},
   "outputs": [],
   "source": [
    "# Mapping Classes\n",
    "clothing = {0 : 'T-shirt/top',\n",
    "            1 : 'Trouser',\n",
    "            2 : 'Pullover',\n",
    "            3 : 'Dress',\n",
    "            4 : 'Coat'}"
   ]
  },
  {
   "cell_type": "code",
   "execution_count": 11,
   "metadata": {},
   "outputs": [
    {
     "data": {
      "image/png": "[encoded data removed]",
      "text/plain": [
       "<Figure size 1080x1080 with 16 Axes>"
      ]
     },
     "metadata": {
      "needs_background": "light"
     },
     "output_type": "display_data"
    }
   ],
   "source": [
    "fig, axes = plt.subplots(4, 4, figsize = (15,15))\n",
    "for row in axes:\n",
    "    for axe in row:\n",
    "        index = np.random.randint(60000)\n",
    "        img = df_train.drop(['Label','Id'], axis=1).values[index].reshape(28,28)\n",
    "        cloths = df_train['Label'][index]\n",
    "        axe.imshow(img, cmap='gray')\n",
    "        axe.set_title(clothing[cloths])\n",
    "        axe.set_axis_off()"
   ]
  },
  {
   "cell_type": "code",
   "execution_count": 12,
   "metadata": {},
   "outputs": [
    {
     "data": {
      "text/html": [
       "<div>\n",
       "<style scoped>\n",
       "    .dataframe tbody tr th:only-of-type {\n",
       "        vertical-align: middle;\n",
       "    }\n",
       "\n",
       "    .dataframe tbody tr th {\n",
       "        vertical-align: top;\n",
       "    }\n",
       "\n",
       "    .dataframe thead th {\n",
       "        text-align: right;\n",
       "    }\n",
       "</style>\n",
       "<table border=\"1\" class=\"dataframe\">\n",
       "  <thead>\n",
       "    <tr style=\"text-align: right;\">\n",
       "      <th></th>\n",
       "      <th>1</th>\n",
       "      <th>2</th>\n",
       "      <th>3</th>\n",
       "      <th>4</th>\n",
       "      <th>5</th>\n",
       "      <th>6</th>\n",
       "      <th>7</th>\n",
       "      <th>8</th>\n",
       "      <th>9</th>\n",
       "      <th>10</th>\n",
       "      <th>...</th>\n",
       "      <th>775</th>\n",
       "      <th>776</th>\n",
       "      <th>777</th>\n",
       "      <th>778</th>\n",
       "      <th>779</th>\n",
       "      <th>780</th>\n",
       "      <th>781</th>\n",
       "      <th>782</th>\n",
       "      <th>783</th>\n",
       "      <th>784</th>\n",
       "    </tr>\n",
       "  </thead>\n",
       "  <tbody>\n",
       "    <tr>\n",
       "      <td>0</td>\n",
       "      <td>0</td>\n",
       "      <td>0</td>\n",
       "      <td>0</td>\n",
       "      <td>0</td>\n",
       "      <td>0</td>\n",
       "      <td>0</td>\n",
       "      <td>0</td>\n",
       "      <td>0</td>\n",
       "      <td>0</td>\n",
       "      <td>0</td>\n",
       "      <td>...</td>\n",
       "      <td>0</td>\n",
       "      <td>0</td>\n",
       "      <td>0</td>\n",
       "      <td>0</td>\n",
       "      <td>0</td>\n",
       "      <td>0</td>\n",
       "      <td>0</td>\n",
       "      <td>0</td>\n",
       "      <td>0</td>\n",
       "      <td>0</td>\n",
       "    </tr>\n",
       "    <tr>\n",
       "      <td>1</td>\n",
       "      <td>0</td>\n",
       "      <td>0</td>\n",
       "      <td>0</td>\n",
       "      <td>0</td>\n",
       "      <td>0</td>\n",
       "      <td>0</td>\n",
       "      <td>0</td>\n",
       "      <td>0</td>\n",
       "      <td>0</td>\n",
       "      <td>0</td>\n",
       "      <td>...</td>\n",
       "      <td>0</td>\n",
       "      <td>0</td>\n",
       "      <td>0</td>\n",
       "      <td>0</td>\n",
       "      <td>0</td>\n",
       "      <td>0</td>\n",
       "      <td>0</td>\n",
       "      <td>0</td>\n",
       "      <td>0</td>\n",
       "      <td>0</td>\n",
       "    </tr>\n",
       "    <tr>\n",
       "      <td>2</td>\n",
       "      <td>0</td>\n",
       "      <td>0</td>\n",
       "      <td>0</td>\n",
       "      <td>0</td>\n",
       "      <td>0</td>\n",
       "      <td>0</td>\n",
       "      <td>0</td>\n",
       "      <td>0</td>\n",
       "      <td>1</td>\n",
       "      <td>0</td>\n",
       "      <td>...</td>\n",
       "      <td>31</td>\n",
       "      <td>9</td>\n",
       "      <td>0</td>\n",
       "      <td>0</td>\n",
       "      <td>0</td>\n",
       "      <td>0</td>\n",
       "      <td>0</td>\n",
       "      <td>0</td>\n",
       "      <td>0</td>\n",
       "      <td>0</td>\n",
       "    </tr>\n",
       "    <tr>\n",
       "      <td>3</td>\n",
       "      <td>0</td>\n",
       "      <td>0</td>\n",
       "      <td>0</td>\n",
       "      <td>0</td>\n",
       "      <td>0</td>\n",
       "      <td>0</td>\n",
       "      <td>0</td>\n",
       "      <td>0</td>\n",
       "      <td>0</td>\n",
       "      <td>0</td>\n",
       "      <td>...</td>\n",
       "      <td>0</td>\n",
       "      <td>0</td>\n",
       "      <td>0</td>\n",
       "      <td>0</td>\n",
       "      <td>0</td>\n",
       "      <td>0</td>\n",
       "      <td>0</td>\n",
       "      <td>0</td>\n",
       "      <td>0</td>\n",
       "      <td>0</td>\n",
       "    </tr>\n",
       "    <tr>\n",
       "      <td>4</td>\n",
       "      <td>0</td>\n",
       "      <td>0</td>\n",
       "      <td>0</td>\n",
       "      <td>0</td>\n",
       "      <td>0</td>\n",
       "      <td>0</td>\n",
       "      <td>0</td>\n",
       "      <td>0</td>\n",
       "      <td>0</td>\n",
       "      <td>0</td>\n",
       "      <td>...</td>\n",
       "      <td>0</td>\n",
       "      <td>0</td>\n",
       "      <td>0</td>\n",
       "      <td>0</td>\n",
       "      <td>0</td>\n",
       "      <td>0</td>\n",
       "      <td>0</td>\n",
       "      <td>0</td>\n",
       "      <td>0</td>\n",
       "      <td>0</td>\n",
       "    </tr>\n",
       "    <tr>\n",
       "      <td>...</td>\n",
       "      <td>...</td>\n",
       "      <td>...</td>\n",
       "      <td>...</td>\n",
       "      <td>...</td>\n",
       "      <td>...</td>\n",
       "      <td>...</td>\n",
       "      <td>...</td>\n",
       "      <td>...</td>\n",
       "      <td>...</td>\n",
       "      <td>...</td>\n",
       "      <td>...</td>\n",
       "      <td>...</td>\n",
       "      <td>...</td>\n",
       "      <td>...</td>\n",
       "      <td>...</td>\n",
       "      <td>...</td>\n",
       "      <td>...</td>\n",
       "      <td>...</td>\n",
       "      <td>...</td>\n",
       "      <td>...</td>\n",
       "      <td>...</td>\n",
       "    </tr>\n",
       "    <tr>\n",
       "      <td>59995</td>\n",
       "      <td>0</td>\n",
       "      <td>0</td>\n",
       "      <td>0</td>\n",
       "      <td>0</td>\n",
       "      <td>0</td>\n",
       "      <td>0</td>\n",
       "      <td>0</td>\n",
       "      <td>0</td>\n",
       "      <td>0</td>\n",
       "      <td>0</td>\n",
       "      <td>...</td>\n",
       "      <td>0</td>\n",
       "      <td>0</td>\n",
       "      <td>0</td>\n",
       "      <td>0</td>\n",
       "      <td>0</td>\n",
       "      <td>0</td>\n",
       "      <td>0</td>\n",
       "      <td>0</td>\n",
       "      <td>0</td>\n",
       "      <td>0</td>\n",
       "    </tr>\n",
       "    <tr>\n",
       "      <td>59996</td>\n",
       "      <td>0</td>\n",
       "      <td>0</td>\n",
       "      <td>0</td>\n",
       "      <td>0</td>\n",
       "      <td>0</td>\n",
       "      <td>0</td>\n",
       "      <td>0</td>\n",
       "      <td>0</td>\n",
       "      <td>0</td>\n",
       "      <td>31</td>\n",
       "      <td>...</td>\n",
       "      <td>0</td>\n",
       "      <td>0</td>\n",
       "      <td>0</td>\n",
       "      <td>0</td>\n",
       "      <td>0</td>\n",
       "      <td>0</td>\n",
       "      <td>0</td>\n",
       "      <td>0</td>\n",
       "      <td>0</td>\n",
       "      <td>0</td>\n",
       "    </tr>\n",
       "    <tr>\n",
       "      <td>59997</td>\n",
       "      <td>0</td>\n",
       "      <td>0</td>\n",
       "      <td>0</td>\n",
       "      <td>0</td>\n",
       "      <td>0</td>\n",
       "      <td>0</td>\n",
       "      <td>0</td>\n",
       "      <td>0</td>\n",
       "      <td>0</td>\n",
       "      <td>0</td>\n",
       "      <td>...</td>\n",
       "      <td>27</td>\n",
       "      <td>0</td>\n",
       "      <td>0</td>\n",
       "      <td>0</td>\n",
       "      <td>0</td>\n",
       "      <td>0</td>\n",
       "      <td>0</td>\n",
       "      <td>0</td>\n",
       "      <td>0</td>\n",
       "      <td>0</td>\n",
       "    </tr>\n",
       "    <tr>\n",
       "      <td>59998</td>\n",
       "      <td>0</td>\n",
       "      <td>0</td>\n",
       "      <td>0</td>\n",
       "      <td>0</td>\n",
       "      <td>0</td>\n",
       "      <td>0</td>\n",
       "      <td>0</td>\n",
       "      <td>0</td>\n",
       "      <td>0</td>\n",
       "      <td>0</td>\n",
       "      <td>...</td>\n",
       "      <td>0</td>\n",
       "      <td>0</td>\n",
       "      <td>0</td>\n",
       "      <td>0</td>\n",
       "      <td>0</td>\n",
       "      <td>0</td>\n",
       "      <td>0</td>\n",
       "      <td>0</td>\n",
       "      <td>0</td>\n",
       "      <td>0</td>\n",
       "    </tr>\n",
       "    <tr>\n",
       "      <td>59999</td>\n",
       "      <td>0</td>\n",
       "      <td>0</td>\n",
       "      <td>0</td>\n",
       "      <td>0</td>\n",
       "      <td>0</td>\n",
       "      <td>0</td>\n",
       "      <td>0</td>\n",
       "      <td>0</td>\n",
       "      <td>0</td>\n",
       "      <td>0</td>\n",
       "      <td>...</td>\n",
       "      <td>0</td>\n",
       "      <td>0</td>\n",
       "      <td>0</td>\n",
       "      <td>0</td>\n",
       "      <td>0</td>\n",
       "      <td>0</td>\n",
       "      <td>0</td>\n",
       "      <td>0</td>\n",
       "      <td>0</td>\n",
       "      <td>0</td>\n",
       "    </tr>\n",
       "  </tbody>\n",
       "</table>\n",
       "<p>60000 rows × 784 columns</p>\n",
       "</div>"
      ],
      "text/plain": [
       "       1  2  3  4  5  6  7  8  9  10  ...  775  776  777  778  779  780  781  \\\n",
       "0      0  0  0  0  0  0  0  0  0   0  ...    0    0    0    0    0    0    0   \n",
       "1      0  0  0  0  0  0  0  0  0   0  ...    0    0    0    0    0    0    0   \n",
       "2      0  0  0  0  0  0  0  0  1   0  ...   31    9    0    0    0    0    0   \n",
       "3      0  0  0  0  0  0  0  0  0   0  ...    0    0    0    0    0    0    0   \n",
       "4      0  0  0  0  0  0  0  0  0   0  ...    0    0    0    0    0    0    0   \n",
       "...   .. .. .. .. .. .. .. .. ..  ..  ...  ...  ...  ...  ...  ...  ...  ...   \n",
       "59995  0  0  0  0  0  0  0  0  0   0  ...    0    0    0    0    0    0    0   \n",
       "59996  0  0  0  0  0  0  0  0  0  31  ...    0    0    0    0    0    0    0   \n",
       "59997  0  0  0  0  0  0  0  0  0   0  ...   27    0    0    0    0    0    0   \n",
       "59998  0  0  0  0  0  0  0  0  0   0  ...    0    0    0    0    0    0    0   \n",
       "59999  0  0  0  0  0  0  0  0  0   0  ...    0    0    0    0    0    0    0   \n",
       "\n",
       "       782  783  784  \n",
       "0        0    0    0  \n",
       "1        0    0    0  \n",
       "2        0    0    0  \n",
       "3        0    0    0  \n",
       "4        0    0    0  \n",
       "...    ...  ...  ...  \n",
       "59995    0    0    0  \n",
       "59996    0    0    0  \n",
       "59997    0    0    0  \n",
       "59998    0    0    0  \n",
       "59999    0    0    0  \n",
       "\n",
       "[60000 rows x 784 columns]"
      ]
     },
     "execution_count": 12,
     "metadata": {},
     "output_type": "execute_result"
    }
   ],
   "source": [
    "X_train= df_train.drop(['Label','Id'],axis = 1)\n",
    "X_train"
   ]
  },
  {
   "cell_type": "code",
   "execution_count": 13,
   "metadata": {},
   "outputs": [
    {
     "data": {
      "text/plain": [
       "(60000, 784)"
      ]
     },
     "execution_count": 13,
     "metadata": {},
     "output_type": "execute_result"
    }
   ],
   "source": [
    "X_train.shape"
   ]
  },
  {
   "cell_type": "code",
   "execution_count": 14,
   "metadata": {},
   "outputs": [
    {
     "data": {
      "text/plain": [
       "0        4\n",
       "1        0\n",
       "2        0\n",
       "3        4\n",
       "4        1\n",
       "        ..\n",
       "59995    3\n",
       "59996    0\n",
       "59997    4\n",
       "59998    0\n",
       "59999    2\n",
       "Name: Label, Length: 60000, dtype: int64"
      ]
     },
     "execution_count": 14,
     "metadata": {},
     "output_type": "execute_result"
    }
   ],
   "source": [
    "X_test = df_train['Label']\n",
    "X_test"
   ]
  },
  {
   "cell_type": "code",
   "execution_count": 15,
   "metadata": {},
   "outputs": [
    {
     "data": {
      "text/html": [
       "<div>\n",
       "<style scoped>\n",
       "    .dataframe tbody tr th:only-of-type {\n",
       "        vertical-align: middle;\n",
       "    }\n",
       "\n",
       "    .dataframe tbody tr th {\n",
       "        vertical-align: top;\n",
       "    }\n",
       "\n",
       "    .dataframe thead th {\n",
       "        text-align: right;\n",
       "    }\n",
       "</style>\n",
       "<table border=\"1\" class=\"dataframe\">\n",
       "  <thead>\n",
       "    <tr style=\"text-align: right;\">\n",
       "      <th></th>\n",
       "      <th>Id</th>\n",
       "    </tr>\n",
       "  </thead>\n",
       "  <tbody>\n",
       "    <tr>\n",
       "      <td>0</td>\n",
       "      <td>0</td>\n",
       "    </tr>\n",
       "    <tr>\n",
       "      <td>1</td>\n",
       "      <td>1</td>\n",
       "    </tr>\n",
       "    <tr>\n",
       "      <td>2</td>\n",
       "      <td>2</td>\n",
       "    </tr>\n",
       "    <tr>\n",
       "      <td>3</td>\n",
       "      <td>3</td>\n",
       "    </tr>\n",
       "    <tr>\n",
       "      <td>4</td>\n",
       "      <td>4</td>\n",
       "    </tr>\n",
       "    <tr>\n",
       "      <td>...</td>\n",
       "      <td>...</td>\n",
       "    </tr>\n",
       "    <tr>\n",
       "      <td>9995</td>\n",
       "      <td>9995</td>\n",
       "    </tr>\n",
       "    <tr>\n",
       "      <td>9996</td>\n",
       "      <td>9996</td>\n",
       "    </tr>\n",
       "    <tr>\n",
       "      <td>9997</td>\n",
       "      <td>9997</td>\n",
       "    </tr>\n",
       "    <tr>\n",
       "      <td>9998</td>\n",
       "      <td>9998</td>\n",
       "    </tr>\n",
       "    <tr>\n",
       "      <td>9999</td>\n",
       "      <td>9999</td>\n",
       "    </tr>\n",
       "  </tbody>\n",
       "</table>\n",
       "<p>10000 rows × 1 columns</p>\n",
       "</div>"
      ],
      "text/plain": [
       "        Id\n",
       "0        0\n",
       "1        1\n",
       "2        2\n",
       "3        3\n",
       "4        4\n",
       "...    ...\n",
       "9995  9995\n",
       "9996  9996\n",
       "9997  9997\n",
       "9998  9998\n",
       "9999  9999\n",
       "\n",
       "[10000 rows x 1 columns]"
      ]
     },
     "execution_count": 15,
     "metadata": {},
     "output_type": "execute_result"
    }
   ],
   "source": [
    "test_ID = df_test['Id']\n",
    "test_ID = pd.DataFrame(X_ID)\n",
    "test_ID "
   ]
  },
  {
   "cell_type": "code",
   "execution_count": 16,
   "metadata": {},
   "outputs": [
    {
     "data": {
      "text/plain": [
       "(60000,)"
      ]
     },
     "execution_count": 16,
     "metadata": {},
     "output_type": "execute_result"
    }
   ],
   "source": [
    "X_test.shape"
   ]
  },
  {
   "cell_type": "code",
   "execution_count": 17,
   "metadata": {},
   "outputs": [
    {
     "data": {
      "text/plain": [
       "(10000, 784)"
      ]
     },
     "execution_count": 17,
     "metadata": {},
     "output_type": "execute_result"
    }
   ],
   "source": [
    "y_test = df_test.drop(['Id'],axis = 1)\n",
    "y_test.shape"
   ]
  },
  {
   "cell_type": "code",
   "execution_count": 18,
   "metadata": {},
   "outputs": [
    {
     "data": {
      "text/plain": [
       "(10000, 784)"
      ]
     },
     "execution_count": 18,
     "metadata": {},
     "output_type": "execute_result"
    }
   ],
   "source": [
    "y_test.shape"
   ]
  },
  {
   "cell_type": "markdown",
   "metadata": {},
   "source": [
    "## Normalisation of the Data \n",
    "\n",
    "We are normalizing the data so that the data can be converted into same scale and it is easy to do analysis for the given Data set"
   ]
  },
  {
   "cell_type": "code",
   "execution_count": 19,
   "metadata": {},
   "outputs": [],
   "source": [
    "# Normalize the data\n",
    "X_train = X_train.astype('float32')\n",
    "y_test = y_test.astype('float32')\n",
    "X_train /= 255.0\n",
    "y_test /=255.0"
   ]
  },
  {
   "cell_type": "markdown",
   "metadata": {},
   "source": [
    "## Splitting the data \n",
    "\n",
    "We are spitting the data in train and validation data in 90% and 10% respectively so that we can evaluate the model with different parameters and find out which is the best model for analysis. "
   ]
  },
  {
   "cell_type": "code",
   "execution_count": 20,
   "metadata": {},
   "outputs": [],
   "source": [
    "seed = 99\n",
    "np.random.seed(seed)\n",
    "X_train, X_val, y_train, y_val = train_test_split(X_train, X_test, test_size=0.1, random_state = seed)"
   ]
  },
  {
   "cell_type": "markdown",
   "metadata": {},
   "source": [
    "## Question 1:  Classification:  Feature Extraction +Classical Methods \n",
    "## 1.1\tExtraction of Design and Implementation choices of your model.\n",
    "## Describe the underlying algorithms you are using, how they work and why you chose them.\n"
   ]
  },
  {
   "cell_type": "markdown",
   "metadata": {},
   "source": [
    "The algorithms which we are using for classification and analysis of the data are:\n",
    "1)\tSVM\n",
    "\n",
    "2)\tKNN\n",
    "\n",
    "3)\tDecision Tree\n",
    "\n",
    "4)\tRandom Forest\n",
    "\n",
    "5)\tGradient Boosting  \n",
    "\n",
    "For comparison we are first performing all the classification methods on data without feature extraction and then after that we are performing all the algorithms after feature extraction.\n",
    "\n",
    "How the algorithms work:\n",
    "\n",
    "1)\tSVM (Support Vector Machine): SVM is highly preferred classification which is used as it produces the significant accuracy with less computation power. The objective of the SVM algorithm is to find out the hyperplane in N-dimensional space that distinctly classify the data points.\n",
    "\n",
    "2)\tKNN (K-Nearest Neighbour): KNN method is the supervised learning method which is easy to implement. The algorithm of this method works on the similarity of the objects i.e. how similar things are near to each other.\n",
    "\n",
    "3)\tDecision Tree: It is also one of the supervised learning methods which is used for classification the data. In decision analysis, decision tree can be visually used and explicitly represents the decisions. As, the name suggests it is tree like model having Root, Node and Leaf.\n",
    "\n",
    "\n",
    "4)\tRandom Forest: Random forest, as the name suggests consists of large number of individual decision tree that operate as an ensemble. Each individual tree in the random forest spits out a class prediction and the class with the most votes becomes our model’s prediction. The fundamental concept behind random forest is a simple but powerful for the crowded data set. A large number of relatively uncorrelated models(trees) operating as a committee will outperform any of the individual constituent models.\n",
    "\n",
    "5)\tGradient Boosting: It Is the machine learning technique for regression and classification problems, which produces a prediction model in the form of an ensemble of weak prediction models, typically in decision trees. It builds the model in a stage-wise fashion like boosting methods do, and it generalizes them by allowing optimization of an ordinary loss function. \n",
    "\n",
    "\n",
    "\n",
    "\n",
    "\n"
   ]
  },
  {
   "cell_type": "markdown",
   "metadata": {},
   "source": [
    "In this problem we are using the above classification techniques for analysis of data. For the comparison we are first applying all the methods without performing feature extraction and them after applying feature extraction.\n",
    "\n",
    "We have to apply feature extraction as the data set is too large, so it is difficult to analyse the complete data as it takes more computation time."
   ]
  },
  {
   "cell_type": "markdown",
   "metadata": {},
   "source": [
    "In this problem we are applying PCA for feature extraction because it the linear method for feature extraction and in non-linear methods the computation time taken by the methods is very large which is not desired whereas by using PCA we are reducing the computation time.\n",
    "\n",
    "For the analysis of all the methods we have generated the report of each classification methods by using different attributes.\n",
    "1)\tComputation Time: How much time it takes before feature extraction and after feature extraction. It can be noted that before feature extraction it takes more time in comparison to after feature extraction.\n",
    "\n",
    "2)\tAccuracy: The algorithm is how much accurate in both the scenarios i.e. before and after feature extraction.\n",
    "\n",
    "3)\tF1 score: From this we can find the balance between the precision and recall of the method.\n",
    "\n",
    "4)\t Confusion Matrix: It is the matrix in which the diagonal elements represent the number of points for which the predicted label is equal to the true label, while off-diagonal elements are those which are mislabeled. The higher the diagonal values of the confusion matrix the better, indicating there are how many predictions.  \n",
    "\n",
    "5)\t Receiver Operating Characteristics (ROC) Curve: A ROC curve is a graph with x-axis values as the False Positive Rate (FPR) and y-axis values as the True Positive Rate (TPR). The Area Under Curve (AUC) for ROC represents how capable a model is to classify the data correctly.\n"
   ]
  },
  {
   "cell_type": "markdown",
   "metadata": {},
   "source": [
    "## 1.2\tImplementation of your Design choices:\n",
    "## Show some of the important code blocks to implement your model. We will also consult your full code  on  LEARN,  so  this  is  your  chance  to  guide  us  to understand your code and how you achieved your result.\n"
   ]
  },
  {
   "cell_type": "markdown",
   "metadata": {},
   "source": [
    "## Classification Methods Analysis and Report without Diemnsion Reduction "
   ]
  },
  {
   "cell_type": "code",
   "execution_count": 23,
   "metadata": {},
   "outputs": [
    {
     "name": "stdout",
     "output_type": "stream",
     "text": [
      "SVM Time: 170.72 minute\n",
      "KNN Time: 17.73 minute\n",
      "Random Forest Time: 2.20 minute\n",
      "Decision Tree Time: 0.83 minute\n",
      "Gradient Boosting Time: 32.42 minute\n"
     ]
    }
   ],
   "source": [
    "from sklearn.svm import SVC\n",
    "from sklearn.neighbors import KNeighborsClassifier\n",
    "from sklearn.ensemble import RandomForestClassifier\n",
    "from sklearn.tree import DecisionTreeClassifier\n",
    "from sklearn import ensemble\n",
    "import time\n",
    "\n",
    "# SVM Model\n",
    "start1 = time.time()\n",
    "\n",
    "svc = SVC(C=1, kernel='rbf', gamma=\"auto\",probability=True,random_state=42)\n",
    "svc.fit(X_train, y_train)\n",
    "\n",
    "end1 = time.time()\n",
    "svm_time = end1-start1\n",
    "\n",
    "# KNN Model\n",
    "start2 = time.time()\n",
    "\n",
    "knn = KNeighborsClassifier(n_neighbors=21,random_state=42)\n",
    "knn.fit(X_train, y_train)\n",
    "y_pred_knn = knn.predict(X_val)\n",
    "\n",
    "end2 = time.time()\n",
    "knn_time = end2-start2\n",
    "\n",
    "# Random Forest\n",
    "start3 = time.time()\n",
    "\n",
    "random_forest = RandomForestClassifier(criterion='entropy', max_depth=70, n_estimators=100,random_state=42)\n",
    "random_forest.fit(X_train, y_train)\n",
    "\n",
    "end3 = time.time()\n",
    "forest_time = end3-start3\n",
    "\n",
    "# Decision Tree\n",
    "start4 = time.time()\n",
    "\n",
    "tree = DecisionTreeClassifier(max_depth=100, criterion='entropy',random_state=42)\n",
    "tree.fit(X_train, y_train)\n",
    "\n",
    "end4 = time.time()\n",
    "tree_time = end4-start4\n",
    "\n",
    "#Gradient Boosting Method \n",
    "start5 = time.time()\n",
    "\n",
    "Gradient = ensemble.GradientBoostingClassifier(n_estimators=100,random_state=42)\n",
    "Gradient.fit(X_train, y_train)\n",
    "\n",
    "end5 = time.time()\n",
    "gradient_time = end5-start5\n",
    "\n",
    "\n",
    "print(\"SVM Time: {:0.2f} minute\".format(svm_time/60.0))\n",
    "print(\"KNN Time: {:0.2f} minute\".format(knn_time/60.0))\n",
    "print(\"Random Forest Time: {:0.2f} minute\".format(forest_time/60.0))\n",
    "print(\"Decision Tree Time: {:0.2f} minute\".format(tree_time/60.0))\n",
    "print(\"Gradient Boosting Time: {:0.2f} minute\".format(gradient_time/60.0))"
   ]
  },
  {
   "cell_type": "markdown",
   "metadata": {},
   "source": []
  },
  {
   "cell_type": "markdown",
   "metadata": {},
   "source": [
    "## SVM Report and Analysis"
   ]
  },
  {
   "cell_type": "code",
   "execution_count": 24,
   "metadata": {},
   "outputs": [
    {
     "name": "stdout",
     "output_type": "stream",
     "text": [
      "-----------------SVM Report---------------\n",
      "F1 score: 0.8716827123654463\n",
      "Accuracy score: 0.8719166666666667\n",
      "Confusion matrix: \n",
      " [[2256  101   20    0    2]\n",
      " [ 144 2067  177   27    9]\n",
      " [  37  199 1893  194   41]\n",
      " [   0   38  217 1981  131]\n",
      " [   5   12   26  157 2266]]\n",
      "Plotting confusion matrix\n"
     ]
    },
    {
     "data": {
      "image/png": "[encoded data removed]",
      "text/plain": [
       "<Figure size 432x288 with 2 Axes>"
      ]
     },
     "metadata": {
      "needs_background": "light"
     },
     "output_type": "display_data"
    },
    {
     "name": "stdout",
     "output_type": "stream",
     "text": [
      "              precision    recall  f1-score   support\n",
      "\n",
      "           0       0.92      0.95      0.94      2379\n",
      "           1       0.86      0.85      0.85      2424\n",
      "           2       0.81      0.80      0.81      2364\n",
      "           3       0.84      0.84      0.84      2367\n",
      "           4       0.93      0.92      0.92      2466\n",
      "\n",
      "    accuracy                           0.87     12000\n",
      "   macro avg       0.87      0.87      0.87     12000\n",
      "weighted avg       0.87      0.87      0.87     12000\n",
      "\n"
     ]
    }
   ],
   "source": [
    "# SVM report and analysis\n",
    "y_pred_svc = svc.predict(X_val)\n",
    "svc_f1 = metrics.f1_score(y_val, y_pred_svc, average= \"weighted\")\n",
    "svc_accuracy = metrics.accuracy_score(y_val, y_pred_svc)\n",
    "svc_cm = metrics.confusion_matrix(y_val, y_pred_svc)\n",
    "print(\"-----------------SVM Report---------------\")\n",
    "print(\"F1 score: {}\".format(svc_f1))\n",
    "print(\"Accuracy score: {}\".format(svc_accuracy))\n",
    "print(\"Confusion matrix: \\n\", svc_cm)\n",
    "print('Plotting confusion matrix')\n",
    "\n",
    "plt.figure()\n",
    "plot_confusion_matrix(svc_cm, clothing)\n",
    "plt.show()\n",
    "\n",
    "print(metrics.classification_report(y_val, y_pred_svc))"
   ]
  },
  {
   "cell_type": "code",
   "execution_count": null,
   "metadata": {},
   "outputs": [],
   "source": []
  },
  {
   "cell_type": "code",
   "execution_count": 25,
   "metadata": {},
   "outputs": [
    {
     "data": {
      "text/plain": [
       "(12000, 5)"
      ]
     },
     "execution_count": 25,
     "metadata": {},
     "output_type": "execute_result"
    }
   ],
   "source": [
    "y_pred_svc = svc.predict_proba((X_val))\n",
    "y_pred_svc.shape\n"
   ]
  },
  {
   "cell_type": "code",
   "execution_count": 27,
   "metadata": {},
   "outputs": [],
   "source": [
    "#plotting ROC curve\n",
    "from sklearn.metrics import roc_curve, auc\n",
    "from scipy import interp\n",
    "from sklearn.metrics import roc_auc_score\n",
    "# Compute ROC curve and ROC area for each class\n",
    "n_classes = 5\n",
    "fpr = dict()\n",
    "\n",
    "tpr = dict()\n",
    "\n",
    "roc_auc = dict()\n",
    "\n",
    "for i in range(n_classes):\n",
    "    fpr[i], tpr[i], _ = roc_curve(y_val, y_pred_svc[:,i], pos_label = 1)\n",
    "    roc_auc[i] = auc(fpr[i], tpr[i])"
   ]
  },
  {
   "cell_type": "code",
   "execution_count": 28,
   "metadata": {},
   "outputs": [],
   "source": [
    "# First aggregate all false positive rates\n",
    "all_fpr = np.unique(np.concatenate([fpr[i] for i in range(n_classes)]))"
   ]
  },
  {
   "cell_type": "code",
   "execution_count": 29,
   "metadata": {},
   "outputs": [],
   "source": [
    "# Then interpolate all ROC curves at this points\n",
    "mean_tpr = np.zeros_like(all_fpr)\n",
    "for i in range(n_classes):\n",
    "    mean_tpr += interp(all_fpr, fpr[i], tpr[i])\n",
    "\n",
    "# Finally average it and compute AUC\n",
    "mean_tpr /= n_classes\n",
    "\n",
    "fpr[\"weighted\"] = all_fpr\n",
    "tpr[\"weighted\"] = mean_tpr\n",
    "roc_auc[\"weighted\"] = auc(fpr[\"weighted\"], tpr[\"weighted\"])"
   ]
  },
  {
   "cell_type": "code",
   "execution_count": 30,
   "metadata": {},
   "outputs": [
    {
     "data": {
      "image/png": "[encoded data removed]",
      "text/plain": [
       "<Figure size 432x288 with 1 Axes>"
      ]
     },
     "metadata": {
      "needs_background": "light"
     },
     "output_type": "display_data"
    }
   ],
   "source": [
    "#plotting ROc for all classes\n",
    "\n",
    "colors = ['aqua', 'darkorange', 'cornflowerblue', 'black','red']\n",
    "for i, color in zip(range(n_classes), colors):\n",
    "    plt.plot(fpr[i], tpr[i], color=color,\n",
    "             label='ROC curve of class {0} (area = {1:0.2f})'\n",
    "             ''.format(i, roc_auc[i]))\n",
    "\n",
    "plt.plot([0, 1], [0, 1])\n",
    "plt.xlim([0.0, 1.0])\n",
    "plt.ylim([0.0, 1.05])\n",
    "plt.xlabel('False Positive Rate')\n",
    "plt.ylabel('True Positive Rate')\n",
    "plt.title('Some extension of Receiver operating characteristic to multi-class')\n",
    "plt.legend(loc=\"lower right\")\n",
    "plt.show()\n"
   ]
  },
  {
   "cell_type": "markdown",
   "metadata": {},
   "source": [
    "The above ROC curve is drawn for True Positive Rate vs False Positive Rate. The area under the curve for all the labels (0,1,2,3,4) is shown in the curve which means that how many true positive values are predicted by the method for each curve as well as the False Positive values. The straight Line passing through Origin states us the AUC which is 0.5 which is used to discriminate the values. So, in the above curve we can see that label 1 is having the maximum True Positive rate whereas label 4 is having minimum True Positive Rate."
   ]
  },
  {
   "cell_type": "markdown",
   "metadata": {},
   "source": [
    "## KNN Report and Analysis"
   ]
  },
  {
   "cell_type": "code",
   "execution_count": 31,
   "metadata": {},
   "outputs": [
    {
     "name": "stdout",
     "output_type": "stream",
     "text": [
      "-----------------K-nearest neighbors Report---------------\n",
      "F1 score: 0.8328931548275391\n",
      "Accuracy score: 0.8338333333333333\n",
      "Confusion matrix: \n",
      " [[2291   80    7    1    0]\n",
      " [ 236 1985  157   43    3]\n",
      " [ 120  288 1718  207   31]\n",
      " [   3   50  269 1910  135]\n",
      " [  31   25   41  267 2102]]\n",
      "Plotting confusion matrix\n"
     ]
    },
    {
     "data": {
      "image/png": "[encoded data removed]",
      "text/plain": [
       "<Figure size 432x288 with 2 Axes>"
      ]
     },
     "metadata": {
      "needs_background": "light"
     },
     "output_type": "display_data"
    },
    {
     "name": "stdout",
     "output_type": "stream",
     "text": [
      "              precision    recall  f1-score   support\n",
      "\n",
      "           0       0.85      0.96      0.91      2379\n",
      "           1       0.82      0.82      0.82      2424\n",
      "           2       0.78      0.73      0.75      2364\n",
      "           3       0.79      0.81      0.80      2367\n",
      "           4       0.93      0.85      0.89      2466\n",
      "\n",
      "    accuracy                           0.83     12000\n",
      "   macro avg       0.83      0.83      0.83     12000\n",
      "weighted avg       0.83      0.83      0.83     12000\n",
      "\n"
     ]
    }
   ],
   "source": [
    "# KNN report and analysis\n",
    "knn_f1 = metrics.f1_score(y_val, y_pred_knn, average= \"weighted\")\n",
    "knn_accuracy = metrics.accuracy_score(y_val, y_pred_knn)\n",
    "knn_cm = metrics.confusion_matrix(y_val, y_pred_knn)\n",
    "print(\"-----------------K-nearest neighbors Report---------------\")\n",
    "print(\"F1 score: {}\".format(knn_f1))\n",
    "print(\"Accuracy score: {}\".format(knn_accuracy))\n",
    "print(\"Confusion matrix: \\n\", knn_cm)\n",
    "print('Plotting confusion matrix')\n",
    "\n",
    "plt.figure()\n",
    "plot_confusion_matrix(knn_cm , clothing)\n",
    "plt.show()\n",
    "\n",
    "print(metrics.classification_report(y_val, y_pred_knn))"
   ]
  },
  {
   "cell_type": "code",
   "execution_count": 32,
   "metadata": {},
   "outputs": [
    {
     "data": {
      "text/plain": [
       "(12000, 5)"
      ]
     },
     "execution_count": 32,
     "metadata": {},
     "output_type": "execute_result"
    }
   ],
   "source": [
    "y_pred_knn = knn.predict_proba((X_val))\n",
    "y_pred_knn.shape"
   ]
  },
  {
   "cell_type": "code",
   "execution_count": 34,
   "metadata": {},
   "outputs": [],
   "source": [
    "#plotting ROC curve\n",
    "from sklearn.metrics import roc_curve, auc\n",
    "from scipy import interp\n",
    "from sklearn.metrics import roc_auc_score\n",
    "# Compute ROC curve and ROC area for each class\n",
    "n_classes = 5\n",
    "fpr = dict()\n",
    "\n",
    "tpr = dict()\n",
    "\n",
    "roc_auc = dict()\n",
    "\n",
    "for i in range(n_classes):\n",
    "    fpr[i], tpr[i], _ = roc_curve(y_val, y_pred_knn[:,i], pos_label = 1)\n",
    "    roc_auc[i] = auc(fpr[i], tpr[i])"
   ]
  },
  {
   "cell_type": "code",
   "execution_count": 35,
   "metadata": {},
   "outputs": [],
   "source": [
    "# First aggregate all false positive rates\n",
    "all_fpr = np.unique(np.concatenate([fpr[i] for i in range(n_classes)]))"
   ]
  },
  {
   "cell_type": "code",
   "execution_count": 36,
   "metadata": {},
   "outputs": [],
   "source": [
    "# Then interpolate all ROC curves at this points\n",
    "mean_tpr = np.zeros_like(all_fpr)\n",
    "for i in range(n_classes):\n",
    "    mean_tpr += interp(all_fpr, fpr[i], tpr[i])\n",
    "\n",
    "# Finally average it and compute AUC\n",
    "mean_tpr /= n_classes\n",
    "\n",
    "fpr[\"weighted\"] = all_fpr\n",
    "tpr[\"weighted\"] = mean_tpr\n",
    "roc_auc[\"weighted\"] = auc(fpr[\"weighted\"], tpr[\"weighted\"])"
   ]
  },
  {
   "cell_type": "code",
   "execution_count": 37,
   "metadata": {},
   "outputs": [
    {
     "data": {
      "image/png": "[encoded data removed]",
      "text/plain": [
       "<Figure size 432x288 with 1 Axes>"
      ]
     },
     "metadata": {
      "needs_background": "light"
     },
     "output_type": "display_data"
    }
   ],
   "source": [
    "#plotting ROC for all classes\n",
    "\n",
    "colors = ['aqua', 'darkorange', 'cornflowerblue', 'black','red']\n",
    "for i, color in zip(range(n_classes), colors):\n",
    "    plt.plot(fpr[i], tpr[i], color=color,\n",
    "             label='ROC curve of class {0} (area = {1:0.2f})'\n",
    "             ''.format(i, roc_auc[i]))\n",
    "\n",
    "plt.plot([0, 1], [0, 1])\n",
    "plt.xlim([0.0, 1.0])\n",
    "plt.ylim([0.0, 1.05])\n",
    "plt.xlabel('False Positive Rate')\n",
    "plt.ylabel('True Positive Rate')\n",
    "plt.title('Some extension of Receiver operating characteristic to multi-class')\n",
    "plt.legend(loc=\"lower right\")\n",
    "plt.show()"
   ]
  },
  {
   "cell_type": "markdown",
   "metadata": {},
   "source": [
    "The above ROC curve is drawn for True Positive Rate vs False Positive Rate. The area under the curve for all the labels (0,1,2,3,4) is shown in the curve which means that how many true positive values are predicted by the method for each curve as well as the False Positive values. The straight Line passing through Origin states us the AUC which is 0.5 which is used to discriminate the values. So, in the above curve we can see that label 1 is having the maximum True Positive rate whereas label 3 is having minimum True Positive Rate."
   ]
  },
  {
   "cell_type": "markdown",
   "metadata": {},
   "source": [
    "## Random Forest and Analysis "
   ]
  },
  {
   "cell_type": "code",
   "execution_count": 38,
   "metadata": {},
   "outputs": [
    {
     "name": "stdout",
     "output_type": "stream",
     "text": [
      "-----------------Random Forest Report---------------\n",
      "F1 score: 0.845653776603606\n",
      "Accuracy score: 0.8455833333333334\n",
      "Confusion matrix: \n",
      " [[2235  124   19    0    1]\n",
      " [ 143 1981  259   33    8]\n",
      " [  34  211 1830  246   43]\n",
      " [   0   36  256 1904  171]\n",
      " [   9   11   29  220 2197]]\n",
      "Plotting confusion matrix\n"
     ]
    },
    {
     "data": {
      "image/png": "[encoded data removed]",
      "text/plain": [
       "<Figure size 432x288 with 2 Axes>"
      ]
     },
     "metadata": {
      "needs_background": "light"
     },
     "output_type": "display_data"
    },
    {
     "name": "stdout",
     "output_type": "stream",
     "text": [
      "              precision    recall  f1-score   support\n",
      "\n",
      "           0       0.92      0.94      0.93      2379\n",
      "           1       0.84      0.82      0.83      2424\n",
      "           2       0.76      0.77      0.77      2364\n",
      "           3       0.79      0.80      0.80      2367\n",
      "           4       0.91      0.89      0.90      2466\n",
      "\n",
      "    accuracy                           0.85     12000\n",
      "   macro avg       0.85      0.85      0.85     12000\n",
      "weighted avg       0.85      0.85      0.85     12000\n",
      "\n"
     ]
    }
   ],
   "source": [
    "# Random Forest report and analysis\n",
    "y_pred_forest = random_forest.predict(X_val)\n",
    "random_forest_f1 = metrics.f1_score(y_val, y_pred_forest, average= \"weighted\")\n",
    "random_forest_accuracy = metrics.accuracy_score(y_val, y_pred_forest)\n",
    "random_forest_cm = metrics.confusion_matrix(y_val, y_pred_forest)\n",
    "print(\"-----------------Random Forest Report---------------\")\n",
    "print(\"F1 score: {}\".format(random_forest_f1))\n",
    "print(\"Accuracy score: {}\".format(random_forest_accuracy))\n",
    "print(\"Confusion matrix: \\n\", random_forest_cm)\n",
    "print('Plotting confusion matrix')\n",
    "\n",
    "plt.figure()\n",
    "plot_confusion_matrix(random_forest_cm,clothing)\n",
    "plt.show()\n",
    "\n",
    "print(metrics.classification_report(y_val, y_pred_forest))\n",
    "\n",
    "\n"
   ]
  },
  {
   "cell_type": "code",
   "execution_count": 40,
   "metadata": {},
   "outputs": [
    {
     "data": {
      "text/plain": [
       "(12000, 5)"
      ]
     },
     "execution_count": 40,
     "metadata": {},
     "output_type": "execute_result"
    }
   ],
   "source": [
    "y_pred_forest = random_forest.predict_proba((X_val))\n",
    "y_pred_forest.shape"
   ]
  },
  {
   "cell_type": "code",
   "execution_count": 41,
   "metadata": {},
   "outputs": [],
   "source": [
    "#plotting ROC curve\n",
    "from sklearn.metrics import roc_curve, auc\n",
    "from scipy import interp\n",
    "from sklearn.metrics import roc_auc_score\n",
    "# Compute ROC curve and ROC area for each class\n",
    "n_classes = 5\n",
    "fpr = dict()\n",
    "\n",
    "tpr = dict()\n",
    "\n",
    "roc_auc = dict()\n",
    "\n",
    "for i in range(n_classes):\n",
    "    fpr[i], tpr[i], _ = roc_curve(y_val, y_pred_forest[:,i], pos_label = 1)\n",
    "    roc_auc[i] = auc(fpr[i], tpr[i])"
   ]
  },
  {
   "cell_type": "code",
   "execution_count": 42,
   "metadata": {},
   "outputs": [],
   "source": [
    "# First aggregate all false positive rates\n",
    "all_fpr = np.unique(np.concatenate([fpr[i] for i in range(n_classes)]))"
   ]
  },
  {
   "cell_type": "code",
   "execution_count": 43,
   "metadata": {},
   "outputs": [],
   "source": [
    "# Then interpolate all ROC curves at this points\n",
    "mean_tpr = np.zeros_like(all_fpr)\n",
    "for i in range(n_classes):\n",
    "    mean_tpr += interp(all_fpr, fpr[i], tpr[i])\n",
    "\n",
    "# Finally average it and compute AUC\n",
    "mean_tpr /= n_classes\n",
    "\n",
    "fpr[\"weighted\"] = all_fpr\n",
    "tpr[\"weighted\"] = mean_tpr\n",
    "roc_auc[\"weighted\"] = auc(fpr[\"weighted\"], tpr[\"weighted\"])"
   ]
  },
  {
   "cell_type": "code",
   "execution_count": 44,
   "metadata": {},
   "outputs": [
    {
     "data": {
      "image/png": "[encoded data removed]",
      "text/plain": [
       "<Figure size 432x288 with 1 Axes>"
      ]
     },
     "metadata": {
      "needs_background": "light"
     },
     "output_type": "display_data"
    }
   ],
   "source": [
    "#plotting ROC for all classes\n",
    "\n",
    "colors = ['aqua', 'darkorange', 'cornflowerblue', 'black','red']\n",
    "for i, color in zip(range(n_classes), colors):\n",
    "    plt.plot(fpr[i], tpr[i], color=color,\n",
    "             label='ROC curve of class {0} (area = {1:0.2f})'\n",
    "             ''.format(i, roc_auc[i]))\n",
    "\n",
    "plt.plot([0, 1], [0, 1])\n",
    "plt.xlim([0.0, 1.0])\n",
    "plt.ylim([0.0, 1.05])\n",
    "plt.xlabel('False Positive Rate')\n",
    "plt.ylabel('True Positive Rate')\n",
    "plt.title('Some extension of Receiver operating characteristic to multi-class')\n",
    "plt.legend(loc=\"lower right\")\n",
    "plt.show()"
   ]
  },
  {
   "cell_type": "markdown",
   "metadata": {},
   "source": [
    "The above ROC curve is drawn for True Positive Rate vs False Positive Rate. The area under the curve for all the labels (0,1,2,3,4) is shown in the curve which means that how many true positive values are predicted by the method for each curve as well as the False Positive values. The straight Line passing through Origin states us the AUC which is 0.5 which is used to discriminate the values. So, in the above curve we can see that label 1 is having the maximum True Positive rate whereas label 4 is having minimum True Positive Rate."
   ]
  },
  {
   "cell_type": "markdown",
   "metadata": {},
   "source": [
    "## Decision Tree report and analysis"
   ]
  },
  {
   "cell_type": "code",
   "execution_count": 45,
   "metadata": {},
   "outputs": [
    {
     "name": "stdout",
     "output_type": "stream",
     "text": [
      "-----------------Decision Tree Report---------------\n",
      "F1 score: 0.7211936843801465\n",
      "Accuracy score: 0.72075\n",
      "Confusion matrix: \n",
      " [[2032  255   74    6   12]\n",
      " [ 255 1636  415   85   33]\n",
      " [  89  399 1414  398   64]\n",
      " [   6   69  389 1602  301]\n",
      " [  18   30   79  374 1965]]\n",
      "Plotting confusion matrix\n"
     ]
    },
    {
     "data": {
      "image/png": "[encoded data removed]",
      "text/plain": [
       "<Figure size 432x288 with 2 Axes>"
      ]
     },
     "metadata": {
      "needs_background": "light"
     },
     "output_type": "display_data"
    },
    {
     "name": "stdout",
     "output_type": "stream",
     "text": [
      "              precision    recall  f1-score   support\n",
      "\n",
      "           0       0.85      0.85      0.85      2379\n",
      "           1       0.68      0.67      0.68      2424\n",
      "           2       0.60      0.60      0.60      2364\n",
      "           3       0.65      0.68      0.66      2367\n",
      "           4       0.83      0.80      0.81      2466\n",
      "\n",
      "    accuracy                           0.72     12000\n",
      "   macro avg       0.72      0.72      0.72     12000\n",
      "weighted avg       0.72      0.72      0.72     12000\n",
      "\n"
     ]
    }
   ],
   "source": [
    "# Decision Tree report and analysis\n",
    "y_pred_tree = tree.predict(X_val)\n",
    "tree_f1 = metrics.f1_score(y_val, y_pred_tree, average= \"weighted\")\n",
    "tree_accuracy = metrics.accuracy_score(y_val, y_pred_tree)\n",
    "tree_cm = metrics.confusion_matrix(y_val, y_pred_tree)\n",
    "print(\"-----------------Decision Tree Report---------------\")\n",
    "print(\"F1 score: {}\".format(tree_f1))\n",
    "print(\"Accuracy score: {}\".format(tree_accuracy))\n",
    "print(\"Confusion matrix: \\n\", tree_cm)\n",
    "print('Plotting confusion matrix')\n",
    "\n",
    "plt.figure()\n",
    "plot_confusion_matrix(tree_cm, clothing)\n",
    "plt.show()\n",
    "\n",
    "print(metrics.classification_report(y_val, y_pred_tree))"
   ]
  },
  {
   "cell_type": "code",
   "execution_count": 46,
   "metadata": {},
   "outputs": [
    {
     "data": {
      "text/plain": [
       "(12000, 5)"
      ]
     },
     "execution_count": 46,
     "metadata": {},
     "output_type": "execute_result"
    }
   ],
   "source": [
    "y_pred_tree = tree.predict_proba((X_val))\n",
    "y_pred_tree.shape"
   ]
  },
  {
   "cell_type": "code",
   "execution_count": 47,
   "metadata": {},
   "outputs": [],
   "source": [
    "#plotting ROC curve\n",
    "from sklearn.metrics import roc_curve, auc\n",
    "from scipy import interp\n",
    "from sklearn.metrics import roc_auc_score\n",
    "# Compute ROC curve and ROC area for each class\n",
    "n_classes = 5\n",
    "fpr = dict()\n",
    "\n",
    "tpr = dict()\n",
    "\n",
    "roc_auc = dict()\n",
    "\n",
    "for i in range(n_classes):\n",
    "    fpr[i], tpr[i], _ = roc_curve(y_val, y_pred_tree[:,i], pos_label = 1)\n",
    "    roc_auc[i] = auc(fpr[i], tpr[i])"
   ]
  },
  {
   "cell_type": "code",
   "execution_count": 48,
   "metadata": {},
   "outputs": [],
   "source": [
    "# First aggregate all false positive rates\n",
    "all_fpr = np.unique(np.concatenate([fpr[i] for i in range(n_classes)]))"
   ]
  },
  {
   "cell_type": "code",
   "execution_count": 49,
   "metadata": {},
   "outputs": [],
   "source": [
    "# Then interpolate all ROC curves at this points\n",
    "mean_tpr = np.zeros_like(all_fpr)\n",
    "for i in range(n_classes):\n",
    "    mean_tpr += interp(all_fpr, fpr[i], tpr[i])\n",
    "\n",
    "# Finally average it and compute AUC\n",
    "mean_tpr /= n_classes\n",
    "\n",
    "fpr[\"weighted\"] = all_fpr\n",
    "tpr[\"weighted\"] = mean_tpr\n",
    "roc_auc[\"weighted\"] = auc(fpr[\"weighted\"], tpr[\"weighted\"])"
   ]
  },
  {
   "cell_type": "code",
   "execution_count": 50,
   "metadata": {},
   "outputs": [
    {
     "data": {
      "image/png": "[encoded data removed]",
      "text/plain": [
       "<Figure size 432x288 with 1 Axes>"
      ]
     },
     "metadata": {
      "needs_background": "light"
     },
     "output_type": "display_data"
    }
   ],
   "source": [
    "#plotting ROC for all classes\n",
    "\n",
    "colors = ['aqua', 'darkorange', 'cornflowerblue', 'black','red']\n",
    "for i, color in zip(range(n_classes), colors):\n",
    "    plt.plot(fpr[i], tpr[i], color=color,\n",
    "             label='ROC curve of class {0} (area = {1:0.2f})'\n",
    "             ''.format(i, roc_auc[i]))\n",
    "\n",
    "plt.plot([0, 1], [0, 1])\n",
    "plt.xlim([0.0, 1.0])\n",
    "plt.ylim([0.0, 1.05])\n",
    "plt.xlabel('False Positive Rate')\n",
    "plt.ylabel('True Positive Rate')\n",
    "plt.title('Some extension of Receiver operating characteristic to multi-class')\n",
    "plt.legend(loc=\"lower right\")\n",
    "plt.show()"
   ]
  },
  {
   "cell_type": "markdown",
   "metadata": {},
   "source": [
    "The above ROC curve is drawn for True Positive Rate vs False Positive Rate. The area under the curve for all the labels (0,1,2,3,4) is shown in the curve which means that how many true positive values are predicted by the method for each curve as well as the False Positive values. The straight Line passing through Origin states us the AUC which is 0.5 which is used to discriminate the values. So, in the above curve we can see that label 1 is having the maximum True Positive rate whereas label 4 is having minimum True Positive Rate."
   ]
  },
  {
   "cell_type": "markdown",
   "metadata": {},
   "source": [
    "##  Gradient Boosting and analysis"
   ]
  },
  {
   "cell_type": "code",
   "execution_count": 53,
   "metadata": {},
   "outputs": [
    {
     "name": "stdout",
     "output_type": "stream",
     "text": [
      "-----------------Gradient boosting Report---------------\n",
      "F1 score: 0.8016866423460315\n",
      "Accuracy score: 0.80125\n",
      "Confusion matrix: \n",
      " [[2153  207   18    0    1]\n",
      " [ 194 1861  318   37   14]\n",
      " [  41  324 1633  322   44]\n",
      " [   0   29  334 1849  155]\n",
      " [  16   26   30  275 2119]]\n",
      "Plotting confusion matrix\n"
     ]
    },
    {
     "data": {
      "image/png": "[encoded data removed]",
      "text/plain": [
       "<Figure size 432x288 with 2 Axes>"
      ]
     },
     "metadata": {
      "needs_background": "light"
     },
     "output_type": "display_data"
    },
    {
     "name": "stdout",
     "output_type": "stream",
     "text": [
      "              precision    recall  f1-score   support\n",
      "\n",
      "           0       0.90      0.91      0.90      2379\n",
      "           1       0.76      0.77      0.76      2424\n",
      "           2       0.70      0.69      0.70      2364\n",
      "           3       0.74      0.78      0.76      2367\n",
      "           4       0.91      0.86      0.88      2466\n",
      "\n",
      "    accuracy                           0.80     12000\n",
      "   macro avg       0.80      0.80      0.80     12000\n",
      "weighted avg       0.80      0.80      0.80     12000\n",
      "\n"
     ]
    }
   ],
   "source": [
    "# Gradient Boosting report and analysis\n",
    "y_pred_gradient = Gradient.predict(X_val)\n",
    "gradient_f1 = metrics.f1_score(y_val, y_pred_gradient, average= \"weighted\")\n",
    "gradient_accuracy = metrics.accuracy_score(y_val, y_pred_gradient)\n",
    "gradient_cm = metrics.confusion_matrix(y_val, y_pred_gradient)\n",
    "print(\"-----------------Gradient boosting Report---------------\")\n",
    "print(\"F1 score: {}\".format(gradient_f1))\n",
    "print(\"Accuracy score: {}\".format(gradient_accuracy))\n",
    "print(\"Confusion matrix: \\n\", gradient_cm)\n",
    "print('Plotting confusion matrix')\n",
    "\n",
    "plt.figure()\n",
    "plot_confusion_matrix(gradient_cm, clothing)\n",
    "plt.show()\n",
    "\n",
    "print(metrics.classification_report(y_val, y_pred_gradient))"
   ]
  },
  {
   "cell_type": "code",
   "execution_count": 54,
   "metadata": {},
   "outputs": [
    {
     "data": {
      "text/plain": [
       "(12000, 5)"
      ]
     },
     "execution_count": 54,
     "metadata": {},
     "output_type": "execute_result"
    }
   ],
   "source": [
    "y_pred_gradient = Gradient.predict_proba((X_val))\n",
    "y_pred_gradient.shape"
   ]
  },
  {
   "cell_type": "code",
   "execution_count": 55,
   "metadata": {},
   "outputs": [],
   "source": [
    "#plotting ROC curve\n",
    "from sklearn.metrics import roc_curve, auc\n",
    "from scipy import interp\n",
    "from sklearn.metrics import roc_auc_score\n",
    "# Compute ROC curve and ROC area for each class\n",
    "n_classes = 5\n",
    "fpr = dict()\n",
    "\n",
    "tpr = dict()\n",
    "\n",
    "roc_auc = dict()\n",
    "\n",
    "for i in range(n_classes):\n",
    "    fpr[i], tpr[i], _ = roc_curve(y_val, y_pred_gradient[:,i], pos_label = 1)\n",
    "    roc_auc[i] = auc(fpr[i], tpr[i])"
   ]
  },
  {
   "cell_type": "code",
   "execution_count": 56,
   "metadata": {},
   "outputs": [],
   "source": [
    "# First aggregate all false positive rates\n",
    "all_fpr = np.unique(np.concatenate([fpr[i] for i in range(n_classes)]))"
   ]
  },
  {
   "cell_type": "code",
   "execution_count": 57,
   "metadata": {},
   "outputs": [],
   "source": [
    "# Then interpolate all ROC curves at this points\n",
    "mean_tpr = np.zeros_like(all_fpr)\n",
    "for i in range(n_classes):\n",
    "    mean_tpr += interp(all_fpr, fpr[i], tpr[i])\n",
    "\n",
    "# Finally average it and compute AUC\n",
    "mean_tpr /= n_classes\n",
    "\n",
    "fpr[\"weighted\"] = all_fpr\n",
    "tpr[\"weighted\"] = mean_tpr\n",
    "roc_auc[\"weighted\"] = auc(fpr[\"weighted\"], tpr[\"weighted\"])"
   ]
  },
  {
   "cell_type": "code",
   "execution_count": 58,
   "metadata": {},
   "outputs": [
    {
     "data": {
      "image/png": "[encoded data removed]",
      "text/plain": [
       "<Figure size 432x288 with 1 Axes>"
      ]
     },
     "metadata": {
      "needs_background": "light"
     },
     "output_type": "display_data"
    }
   ],
   "source": [
    "#plotting ROC for all classes\n",
    "\n",
    "colors = ['aqua', 'darkorange', 'cornflowerblue', 'black','red']\n",
    "for i, color in zip(range(n_classes), colors):\n",
    "    plt.plot(fpr[i], tpr[i], color=color,\n",
    "             label='ROC curve of class {0} (area = {1:0.2f})'\n",
    "             ''.format(i, roc_auc[i]))\n",
    "\n",
    "plt.plot([0, 1], [0, 1])\n",
    "plt.xlim([0.0, 1.0])\n",
    "plt.ylim([0.0, 1.05])\n",
    "plt.xlabel('False Positive Rate')\n",
    "plt.ylabel('True Positive Rate')\n",
    "plt.title('Some extension of Receiver operating characteristic to multi-class')\n",
    "plt.legend(loc=\"lower right\")\n",
    "plt.show()"
   ]
  },
  {
   "cell_type": "markdown",
   "metadata": {},
   "source": [
    "The above ROC curve is drawn for True Positive Rate vs False Positive Rate. The area under the curve for all the labels (0,1,2,3,4) is shown in the curve which means that how many true positive values are predicted by the method for each curve as well as the False Positive values. The straight Line passing through Origin states us the AUC which is 0.5 which is used to discriminate the values. So, in the above curve we can see that label 1 is having the maximum True Positive rate whereas label 4 is having minimum True Positive Rate."
   ]
  },
  {
   "cell_type": "markdown",
   "metadata": {},
   "source": [
    "# Feature Extraction\n",
    "\n",
    "Now above we have done the analysis without feature extraction now we will be doing the analysis using Feature Extraction and comapare the resukts for both the analysis in the end."
   ]
  },
  {
   "cell_type": "markdown",
   "metadata": {},
   "source": [
    "## PCA Analysis and Performing the classification methods \n",
    "\n",
    "We are using PCA for Feature Extraction which is the linear method as and takes comparitively less computation time in comparision to non-linear methods as the dataset is very large so it is taking too much time for computation."
   ]
  },
  {
   "cell_type": "code",
   "execution_count": 25,
   "metadata": {},
   "outputs": [],
   "source": [
    "# Performing PCA \n",
    "from sklearn.decomposition import PCA\n",
    "pca = PCA(n_components=20, random_state=42)\n",
    "X_train_pca =pca.fit_transform(X_train)\n",
    "X_test_pca = pca.transform(X_val)\n",
    "y_test_pca =pca.transform(y_test)"
   ]
  },
  {
   "cell_type": "code",
   "execution_count": 26,
   "metadata": {},
   "outputs": [
    {
     "data": {
      "text/plain": [
       "(54000, 20)"
      ]
     },
     "execution_count": 26,
     "metadata": {},
     "output_type": "execute_result"
    }
   ],
   "source": [
    "X_train_pca.shape"
   ]
  },
  {
   "cell_type": "code",
   "execution_count": 27,
   "metadata": {},
   "outputs": [
    {
     "data": {
      "text/html": [
       "<div>\n",
       "<style scoped>\n",
       "    .dataframe tbody tr th:only-of-type {\n",
       "        vertical-align: middle;\n",
       "    }\n",
       "\n",
       "    .dataframe tbody tr th {\n",
       "        vertical-align: top;\n",
       "    }\n",
       "\n",
       "    .dataframe thead th {\n",
       "        text-align: right;\n",
       "    }\n",
       "</style>\n",
       "<table border=\"1\" class=\"dataframe\">\n",
       "  <thead>\n",
       "    <tr style=\"text-align: right;\">\n",
       "      <th></th>\n",
       "      <th>0</th>\n",
       "      <th>1</th>\n",
       "      <th>2</th>\n",
       "      <th>3</th>\n",
       "      <th>4</th>\n",
       "      <th>5</th>\n",
       "      <th>6</th>\n",
       "      <th>7</th>\n",
       "      <th>8</th>\n",
       "      <th>9</th>\n",
       "      <th>10</th>\n",
       "      <th>11</th>\n",
       "      <th>12</th>\n",
       "      <th>13</th>\n",
       "      <th>14</th>\n",
       "      <th>15</th>\n",
       "      <th>16</th>\n",
       "      <th>17</th>\n",
       "      <th>18</th>\n",
       "      <th>19</th>\n",
       "    </tr>\n",
       "  </thead>\n",
       "  <tbody>\n",
       "    <tr>\n",
       "      <td>0</td>\n",
       "      <td>7.930918</td>\n",
       "      <td>2.932807</td>\n",
       "      <td>-1.893060</td>\n",
       "      <td>-0.977458</td>\n",
       "      <td>0.663089</td>\n",
       "      <td>-2.527497</td>\n",
       "      <td>-2.096613</td>\n",
       "      <td>0.119818</td>\n",
       "      <td>0.710871</td>\n",
       "      <td>0.895814</td>\n",
       "      <td>0.761333</td>\n",
       "      <td>0.113093</td>\n",
       "      <td>-0.452113</td>\n",
       "      <td>0.557060</td>\n",
       "      <td>0.282450</td>\n",
       "      <td>-0.745237</td>\n",
       "      <td>0.011659</td>\n",
       "      <td>0.236203</td>\n",
       "      <td>0.326121</td>\n",
       "      <td>-0.668195</td>\n",
       "    </tr>\n",
       "    <tr>\n",
       "      <td>1</td>\n",
       "      <td>-6.471186</td>\n",
       "      <td>-1.638698</td>\n",
       "      <td>-1.331555</td>\n",
       "      <td>-0.329385</td>\n",
       "      <td>0.244570</td>\n",
       "      <td>0.140477</td>\n",
       "      <td>0.087647</td>\n",
       "      <td>0.045231</td>\n",
       "      <td>0.447244</td>\n",
       "      <td>-0.701444</td>\n",
       "      <td>0.920300</td>\n",
       "      <td>0.166795</td>\n",
       "      <td>-0.113971</td>\n",
       "      <td>0.166775</td>\n",
       "      <td>-0.467000</td>\n",
       "      <td>-0.700208</td>\n",
       "      <td>0.828226</td>\n",
       "      <td>0.189347</td>\n",
       "      <td>0.212386</td>\n",
       "      <td>0.239392</td>\n",
       "    </tr>\n",
       "    <tr>\n",
       "      <td>2</td>\n",
       "      <td>2.447989</td>\n",
       "      <td>1.769704</td>\n",
       "      <td>-3.950919</td>\n",
       "      <td>1.607801</td>\n",
       "      <td>-0.337273</td>\n",
       "      <td>-2.180662</td>\n",
       "      <td>0.737468</td>\n",
       "      <td>-0.307470</td>\n",
       "      <td>-0.905666</td>\n",
       "      <td>-0.520892</td>\n",
       "      <td>-1.717978</td>\n",
       "      <td>0.664124</td>\n",
       "      <td>-0.504243</td>\n",
       "      <td>0.454012</td>\n",
       "      <td>-0.327327</td>\n",
       "      <td>0.839867</td>\n",
       "      <td>-0.539295</td>\n",
       "      <td>-0.746008</td>\n",
       "      <td>-0.158263</td>\n",
       "      <td>0.197403</td>\n",
       "    </tr>\n",
       "    <tr>\n",
       "      <td>3</td>\n",
       "      <td>-3.293750</td>\n",
       "      <td>6.070544</td>\n",
       "      <td>4.276641</td>\n",
       "      <td>-0.350756</td>\n",
       "      <td>-1.287390</td>\n",
       "      <td>0.198865</td>\n",
       "      <td>-2.120989</td>\n",
       "      <td>1.125194</td>\n",
       "      <td>-1.471734</td>\n",
       "      <td>-1.652311</td>\n",
       "      <td>-0.715104</td>\n",
       "      <td>-0.118208</td>\n",
       "      <td>0.013077</td>\n",
       "      <td>0.150355</td>\n",
       "      <td>-0.286576</td>\n",
       "      <td>0.927102</td>\n",
       "      <td>-0.566949</td>\n",
       "      <td>0.279994</td>\n",
       "      <td>0.252969</td>\n",
       "      <td>0.234743</td>\n",
       "    </tr>\n",
       "    <tr>\n",
       "      <td>4</td>\n",
       "      <td>3.333557</td>\n",
       "      <td>-4.397161</td>\n",
       "      <td>2.942229</td>\n",
       "      <td>-2.497389</td>\n",
       "      <td>0.472214</td>\n",
       "      <td>-0.899537</td>\n",
       "      <td>-0.302751</td>\n",
       "      <td>-0.556801</td>\n",
       "      <td>0.829282</td>\n",
       "      <td>0.340332</td>\n",
       "      <td>-0.446822</td>\n",
       "      <td>-1.075029</td>\n",
       "      <td>0.196225</td>\n",
       "      <td>-1.009725</td>\n",
       "      <td>-0.854071</td>\n",
       "      <td>-1.062209</td>\n",
       "      <td>-0.129617</td>\n",
       "      <td>-0.160440</td>\n",
       "      <td>0.072833</td>\n",
       "      <td>1.240649</td>\n",
       "    </tr>\n",
       "  </tbody>\n",
       "</table>\n",
       "</div>"
      ],
      "text/plain": [
       "          0         1         2         3         4         5         6  \\\n",
       "0  7.930918  2.932807 -1.893060 -0.977458  0.663089 -2.527497 -2.096613   \n",
       "1 -6.471186 -1.638698 -1.331555 -0.329385  0.244570  0.140477  0.087647   \n",
       "2  2.447989  1.769704 -3.950919  1.607801 -0.337273 -2.180662  0.737468   \n",
       "3 -3.293750  6.070544  4.276641 -0.350756 -1.287390  0.198865 -2.120989   \n",
       "4  3.333557 -4.397161  2.942229 -2.497389  0.472214 -0.899537 -0.302751   \n",
       "\n",
       "          7         8         9        10        11        12        13  \\\n",
       "0  0.119818  0.710871  0.895814  0.761333  0.113093 -0.452113  0.557060   \n",
       "1  0.045231  0.447244 -0.701444  0.920300  0.166795 -0.113971  0.166775   \n",
       "2 -0.307470 -0.905666 -0.520892 -1.717978  0.664124 -0.504243  0.454012   \n",
       "3  1.125194 -1.471734 -1.652311 -0.715104 -0.118208  0.013077  0.150355   \n",
       "4 -0.556801  0.829282  0.340332 -0.446822 -1.075029  0.196225 -1.009725   \n",
       "\n",
       "         14        15        16        17        18        19  \n",
       "0  0.282450 -0.745237  0.011659  0.236203  0.326121 -0.668195  \n",
       "1 -0.467000 -0.700208  0.828226  0.189347  0.212386  0.239392  \n",
       "2 -0.327327  0.839867 -0.539295 -0.746008 -0.158263  0.197403  \n",
       "3 -0.286576  0.927102 -0.566949  0.279994  0.252969  0.234743  \n",
       "4 -0.854071 -1.062209 -0.129617 -0.160440  0.072833  1.240649  "
      ]
     },
     "execution_count": 27,
     "metadata": {},
     "output_type": "execute_result"
    }
   ],
   "source": [
    "X_train_PCA1 = pd.DataFrame(X_train_pca)\n",
    "X_train_PCA1.head() "
   ]
  },
  {
   "cell_type": "code",
   "execution_count": 28,
   "metadata": {},
   "outputs": [
    {
     "data": {
      "text/plain": [
       "(54000, 20)"
      ]
     },
     "execution_count": 28,
     "metadata": {},
     "output_type": "execute_result"
    }
   ],
   "source": [
    "X_train_PCA1.shape"
   ]
  },
  {
   "cell_type": "code",
   "execution_count": 29,
   "metadata": {},
   "outputs": [
    {
     "data": {
      "text/html": [
       "<div>\n",
       "<style scoped>\n",
       "    .dataframe tbody tr th:only-of-type {\n",
       "        vertical-align: middle;\n",
       "    }\n",
       "\n",
       "    .dataframe tbody tr th {\n",
       "        vertical-align: top;\n",
       "    }\n",
       "\n",
       "    .dataframe thead th {\n",
       "        text-align: right;\n",
       "    }\n",
       "</style>\n",
       "<table border=\"1\" class=\"dataframe\">\n",
       "  <thead>\n",
       "    <tr style=\"text-align: right;\">\n",
       "      <th></th>\n",
       "      <th>0</th>\n",
       "      <th>1</th>\n",
       "      <th>2</th>\n",
       "      <th>3</th>\n",
       "      <th>4</th>\n",
       "      <th>5</th>\n",
       "      <th>6</th>\n",
       "      <th>7</th>\n",
       "      <th>8</th>\n",
       "      <th>9</th>\n",
       "      <th>10</th>\n",
       "      <th>11</th>\n",
       "      <th>12</th>\n",
       "      <th>13</th>\n",
       "      <th>14</th>\n",
       "      <th>15</th>\n",
       "      <th>16</th>\n",
       "      <th>17</th>\n",
       "      <th>18</th>\n",
       "      <th>19</th>\n",
       "    </tr>\n",
       "  </thead>\n",
       "  <tbody>\n",
       "    <tr>\n",
       "      <td>0</td>\n",
       "      <td>2.686579</td>\n",
       "      <td>2.369053</td>\n",
       "      <td>-2.407773</td>\n",
       "      <td>0.289971</td>\n",
       "      <td>-1.490966</td>\n",
       "      <td>-0.634578</td>\n",
       "      <td>-0.520400</td>\n",
       "      <td>-0.646258</td>\n",
       "      <td>0.045032</td>\n",
       "      <td>-0.374264</td>\n",
       "      <td>0.683081</td>\n",
       "      <td>0.926843</td>\n",
       "      <td>-0.459156</td>\n",
       "      <td>-0.163412</td>\n",
       "      <td>-0.019288</td>\n",
       "      <td>-0.070682</td>\n",
       "      <td>-0.108108</td>\n",
       "      <td>0.831726</td>\n",
       "      <td>-1.651554</td>\n",
       "      <td>-0.561045</td>\n",
       "    </tr>\n",
       "    <tr>\n",
       "      <td>1</td>\n",
       "      <td>-3.809072</td>\n",
       "      <td>-0.739449</td>\n",
       "      <td>0.713820</td>\n",
       "      <td>0.761372</td>\n",
       "      <td>-1.456830</td>\n",
       "      <td>-0.881039</td>\n",
       "      <td>0.704940</td>\n",
       "      <td>-1.117531</td>\n",
       "      <td>1.829718</td>\n",
       "      <td>1.254772</td>\n",
       "      <td>1.114708</td>\n",
       "      <td>-0.394182</td>\n",
       "      <td>0.169506</td>\n",
       "      <td>1.192595</td>\n",
       "      <td>-0.777064</td>\n",
       "      <td>0.304227</td>\n",
       "      <td>0.332252</td>\n",
       "      <td>-0.489583</td>\n",
       "      <td>-0.192360</td>\n",
       "      <td>-1.123225</td>\n",
       "    </tr>\n",
       "    <tr>\n",
       "      <td>2</td>\n",
       "      <td>5.299521</td>\n",
       "      <td>1.645026</td>\n",
       "      <td>-1.935265</td>\n",
       "      <td>-1.225035</td>\n",
       "      <td>-3.938194</td>\n",
       "      <td>0.272222</td>\n",
       "      <td>1.531356</td>\n",
       "      <td>-0.568066</td>\n",
       "      <td>-0.350720</td>\n",
       "      <td>-2.477775</td>\n",
       "      <td>2.031629</td>\n",
       "      <td>-0.678280</td>\n",
       "      <td>-0.356437</td>\n",
       "      <td>0.566982</td>\n",
       "      <td>0.359919</td>\n",
       "      <td>0.400954</td>\n",
       "      <td>0.192872</td>\n",
       "      <td>1.020908</td>\n",
       "      <td>-0.685300</td>\n",
       "      <td>0.427377</td>\n",
       "    </tr>\n",
       "    <tr>\n",
       "      <td>3</td>\n",
       "      <td>5.116883</td>\n",
       "      <td>2.858536</td>\n",
       "      <td>-3.550710</td>\n",
       "      <td>2.430912</td>\n",
       "      <td>-0.959493</td>\n",
       "      <td>0.214864</td>\n",
       "      <td>2.482258</td>\n",
       "      <td>-1.535851</td>\n",
       "      <td>-1.540610</td>\n",
       "      <td>-1.546822</td>\n",
       "      <td>-0.928261</td>\n",
       "      <td>0.912208</td>\n",
       "      <td>-0.227777</td>\n",
       "      <td>0.510341</td>\n",
       "      <td>-0.210631</td>\n",
       "      <td>0.936529</td>\n",
       "      <td>0.348542</td>\n",
       "      <td>-0.676388</td>\n",
       "      <td>0.092721</td>\n",
       "      <td>-0.232775</td>\n",
       "    </tr>\n",
       "    <tr>\n",
       "      <td>4</td>\n",
       "      <td>1.698128</td>\n",
       "      <td>-6.289247</td>\n",
       "      <td>1.605808</td>\n",
       "      <td>-2.213029</td>\n",
       "      <td>-1.550452</td>\n",
       "      <td>-1.717971</td>\n",
       "      <td>1.681988</td>\n",
       "      <td>0.965670</td>\n",
       "      <td>-1.501439</td>\n",
       "      <td>1.123053</td>\n",
       "      <td>-0.364384</td>\n",
       "      <td>0.225818</td>\n",
       "      <td>-0.024347</td>\n",
       "      <td>0.508891</td>\n",
       "      <td>0.174759</td>\n",
       "      <td>0.239608</td>\n",
       "      <td>-1.629331</td>\n",
       "      <td>0.561999</td>\n",
       "      <td>-0.119914</td>\n",
       "      <td>0.196783</td>\n",
       "    </tr>\n",
       "  </tbody>\n",
       "</table>\n",
       "</div>"
      ],
      "text/plain": [
       "          0         1         2         3         4         5         6  \\\n",
       "0  2.686579  2.369053 -2.407773  0.289971 -1.490966 -0.634578 -0.520400   \n",
       "1 -3.809072 -0.739449  0.713820  0.761372 -1.456830 -0.881039  0.704940   \n",
       "2  5.299521  1.645026 -1.935265 -1.225035 -3.938194  0.272222  1.531356   \n",
       "3  5.116883  2.858536 -3.550710  2.430912 -0.959493  0.214864  2.482258   \n",
       "4  1.698128 -6.289247  1.605808 -2.213029 -1.550452 -1.717971  1.681988   \n",
       "\n",
       "          7         8         9        10        11        12        13  \\\n",
       "0 -0.646258  0.045032 -0.374264  0.683081  0.926843 -0.459156 -0.163412   \n",
       "1 -1.117531  1.829718  1.254772  1.114708 -0.394182  0.169506  1.192595   \n",
       "2 -0.568066 -0.350720 -2.477775  2.031629 -0.678280 -0.356437  0.566982   \n",
       "3 -1.535851 -1.540610 -1.546822 -0.928261  0.912208 -0.227777  0.510341   \n",
       "4  0.965670 -1.501439  1.123053 -0.364384  0.225818 -0.024347  0.508891   \n",
       "\n",
       "         14        15        16        17        18        19  \n",
       "0 -0.019288 -0.070682 -0.108108  0.831726 -1.651554 -0.561045  \n",
       "1 -0.777064  0.304227  0.332252 -0.489583 -0.192360 -1.123225  \n",
       "2  0.359919  0.400954  0.192872  1.020908 -0.685300  0.427377  \n",
       "3 -0.210631  0.936529  0.348542 -0.676388  0.092721 -0.232775  \n",
       "4  0.174759  0.239608 -1.629331  0.561999 -0.119914  0.196783  "
      ]
     },
     "execution_count": 29,
     "metadata": {},
     "output_type": "execute_result"
    }
   ],
   "source": [
    "X_test_PCA1 = pd.DataFrame(X_test_pca)\n",
    "X_test_PCA1.head() "
   ]
  },
  {
   "cell_type": "markdown",
   "metadata": {},
   "source": [
    "### Classification Methods Analysis and Report"
   ]
  },
  {
   "cell_type": "code",
   "execution_count": 30,
   "metadata": {},
   "outputs": [
    {
     "name": "stdout",
     "output_type": "stream",
     "text": [
      "SVM Time: 8.23 minute\n",
      "KNN Time: 0.06 minute\n",
      "Random Forest Time: 1.73 minute\n",
      "Decision Tree Time: 0.11 minute\n",
      "Gradient Boosting Time: 2.20 minute\n"
     ]
    }
   ],
   "source": [
    "from sklearn.svm import SVC\n",
    "from sklearn.neighbors import KNeighborsClassifier\n",
    "from sklearn.ensemble import RandomForestClassifier\n",
    "from sklearn.tree import DecisionTreeClassifier\n",
    "from sklearn import ensemble\n",
    "import time\n",
    "\n",
    "# SVM Model\n",
    "start1 = time.time()\n",
    "\n",
    "svc = SVC(C=13, kernel='rbf', gamma=\"auto\",probability = True)\n",
    "svc.fit(X_train_PCA1, y_train)\n",
    "\n",
    "end1 = time.time()\n",
    "svm_time = end1-start1\n",
    "\n",
    "# KNN Model\n",
    "start2 = time.time()\n",
    "\n",
    "knn = KNeighborsClassifier(n_neighbors=21)\n",
    "knn.fit(X_train_PCA1, y_train)\n",
    "y_pred_knn = knn.predict(X_test_PCA1)\n",
    "\n",
    "end2 = time.time()\n",
    "knn_time = end2-start2\n",
    "\n",
    "# Random Forest\n",
    "start3 = time.time()\n",
    "\n",
    "random_forest = RandomForestClassifier(criterion='entropy', max_depth=70, n_estimators=100)\n",
    "random_forest.fit(X_train_PCA1, y_train)\n",
    "\n",
    "end3 = time.time()\n",
    "forest_time = end3-start3\n",
    "\n",
    "# Decision Tree\n",
    "start4 = time.time()\n",
    "\n",
    "tree = DecisionTreeClassifier(max_depth=100, criterion='entropy')\n",
    "tree.fit(X_train_PCA1, y_train)\n",
    "\n",
    "end4 = time.time()\n",
    "tree_time = end4-start4\n",
    "\n",
    "#Gradient Boosting Method \n",
    "start5 = time.time()\n",
    "\n",
    "Gradient = ensemble.GradientBoostingClassifier(n_estimators=100)\n",
    "Gradient.fit(X_train_PCA1, y_train)\n",
    "\n",
    "end5 = time.time()\n",
    "gradient_time = end5-start5\n",
    "\n",
    "\n",
    "\n",
    "print(\"SVM Time: {:0.2f} minute\".format(svm_time/60.0))\n",
    "print(\"KNN Time: {:0.2f} minute\".format(knn_time/60.0))\n",
    "print(\"Random Forest Time: {:0.2f} minute\".format(forest_time/60.0))\n",
    "print(\"Decision Tree Time: {:0.2f} minute\".format(tree_time/60.0))\n",
    "print(\"Gradient Boosting Time: {:0.2f} minute\".format(gradient_time/60.0))"
   ]
  },
  {
   "cell_type": "markdown",
   "metadata": {},
   "source": [
    "#### SVM report and analysis"
   ]
  },
  {
   "cell_type": "code",
   "execution_count": 31,
   "metadata": {},
   "outputs": [
    {
     "name": "stdout",
     "output_type": "stream",
     "text": [
      "-----------------SVM Report---------------\n",
      "F1 score: 0.8977215090594863\n",
      "Accuracy score: 0.8978333333333334\n",
      "Confusion matrix: \n",
      " [[1189   46    8    0    1]\n",
      " [  50 1063   66   13    1]\n",
      " [  14   71  996   58   21]\n",
      " [   1   33   75 1065   69]\n",
      " [   1    4   19   62 1074]]\n",
      "Plotting confusion matrix\n"
     ]
    },
    {
     "data": {
      "image/png": "[encoded data removed]",
      "text/plain": [
       "<Figure size 432x288 with 2 Axes>"
      ]
     },
     "metadata": {
      "needs_background": "light"
     },
     "output_type": "display_data"
    },
    {
     "name": "stdout",
     "output_type": "stream",
     "text": [
      "              precision    recall  f1-score   support\n",
      "\n",
      "           0       0.95      0.96      0.95      1244\n",
      "           1       0.87      0.89      0.88      1193\n",
      "           2       0.86      0.86      0.86      1160\n",
      "           3       0.89      0.86      0.87      1243\n",
      "           4       0.92      0.93      0.92      1160\n",
      "\n",
      "    accuracy                           0.90      6000\n",
      "   macro avg       0.90      0.90      0.90      6000\n",
      "weighted avg       0.90      0.90      0.90      6000\n",
      "\n"
     ]
    }
   ],
   "source": [
    "# SVM report and analysis\n",
    "y_pred_svc = svc.predict(X_test_pca)\n",
    "svc_f1 = metrics.f1_score(y_val, y_pred_svc, average= \"weighted\")\n",
    "svc_accuracy = metrics.accuracy_score(y_val, y_pred_svc)\n",
    "svc_cm = metrics.confusion_matrix(y_val, y_pred_svc)\n",
    "print(\"-----------------SVM Report---------------\")\n",
    "print(\"F1 score: {}\".format(svc_f1))\n",
    "print(\"Accuracy score: {}\".format(svc_accuracy))\n",
    "print(\"Confusion matrix: \\n\", svc_cm)\n",
    "print('Plotting confusion matrix')\n",
    "\n",
    "plt.figure()\n",
    "plot_confusion_matrix(svc_cm, clothing)\n",
    "plt.show()\n",
    "\n",
    "print(metrics.classification_report(y_val, y_pred_svc))"
   ]
  },
  {
   "cell_type": "code",
   "execution_count": 32,
   "metadata": {},
   "outputs": [
    {
     "data": {
      "text/plain": [
       "(6000, 5)"
      ]
     },
     "execution_count": 32,
     "metadata": {},
     "output_type": "execute_result"
    }
   ],
   "source": [
    "y_pred = svc.predict_proba((X_test_pca))\n",
    "y_pred.shape\n"
   ]
  },
  {
   "cell_type": "code",
   "execution_count": 33,
   "metadata": {},
   "outputs": [],
   "source": [
    "#plotting ROC curve\n",
    "from sklearn.metrics import roc_curve, auc\n",
    "from scipy import interp\n",
    "from sklearn.metrics import roc_auc_score\n",
    "# Compute ROC curve and ROC area for each class\n",
    "n_classes = 5\n",
    "fpr = dict()\n",
    "\n",
    "tpr = dict()\n",
    "\n",
    "roc_auc = dict()\n",
    "\n",
    "for i in range(n_classes):\n",
    "    fpr[i], tpr[i], _ = roc_curve(y_val, y_pred[:,i], pos_label = 1)\n",
    "    roc_auc[i] = auc(fpr[i], tpr[i])"
   ]
  },
  {
   "cell_type": "code",
   "execution_count": 34,
   "metadata": {},
   "outputs": [],
   "source": [
    "# First aggregate all false positive rates\n",
    "all_fpr = np.unique(np.concatenate([fpr[i] for i in range(n_classes)]))"
   ]
  },
  {
   "cell_type": "code",
   "execution_count": 35,
   "metadata": {},
   "outputs": [],
   "source": [
    "# Then interpolate all ROC curves at this points\n",
    "mean_tpr = np.zeros_like(all_fpr)\n",
    "for i in range(n_classes):\n",
    "    mean_tpr += interp(all_fpr, fpr[i], tpr[i])\n",
    "\n",
    "# Finally average it and compute AUC\n",
    "mean_tpr /= n_classes\n",
    "\n",
    "fpr[\"weighted\"] = all_fpr\n",
    "tpr[\"weighted\"] = mean_tpr\n",
    "roc_auc[\"weighted\"] = auc(fpr[\"weighted\"], tpr[\"weighted\"])"
   ]
  },
  {
   "cell_type": "code",
   "execution_count": 36,
   "metadata": {},
   "outputs": [
    {
     "data": {
      "image/png": "[encoded data removed]",
      "text/plain": [
       "<Figure size 432x288 with 1 Axes>"
      ]
     },
     "metadata": {
      "needs_background": "light"
     },
     "output_type": "display_data"
    }
   ],
   "source": [
    "#plotting ROC for all classes\n",
    "\n",
    "colors = ['aqua', 'darkorange', 'cornflowerblue', 'black','red']\n",
    "for i, color in zip(range(n_classes), colors):\n",
    "    plt.plot(fpr[i], tpr[i], color=color,\n",
    "             label='ROC curve of class {0} (area = {1:0.2f})'\n",
    "             ''.format(i, roc_auc[i]))\n",
    "\n",
    "plt.plot([0, 1], [0, 1])\n",
    "plt.xlim([0.0, 1.0])\n",
    "plt.ylim([0.0, 1.05])\n",
    "plt.xlabel('False Positive Rate')\n",
    "plt.ylabel('True Positive Rate')\n",
    "plt.title('Some extension of Receiver operating characteristic to multi-class')\n",
    "plt.legend(loc=\"lower right\")\n",
    "plt.show()"
   ]
  },
  {
   "cell_type": "markdown",
   "metadata": {},
   "source": [
    "The above ROC curve is drawn for True Positive Rate vs False Positive Rate. The area under the curve for all the labels (0,1,2,3,4) is shown in the curve which means that how many true positive values are predicted by the method for each curve as well as the False Positive values. The straight Line passing through Origin states us the AUC which is 0.5 which is used to discriminate the values. So, in the above curve we can see that label 1 is having the maximum True Positive rate whereas label 4 is having minimum True Positive Rate."
   ]
  },
  {
   "cell_type": "markdown",
   "metadata": {},
   "source": [
    "#### KNN report and analysis"
   ]
  },
  {
   "cell_type": "code",
   "execution_count": null,
   "metadata": {},
   "outputs": [],
   "source": [
    "# KNN report and analysis\n",
    "knn_f1 = metrics.f1_score(y_val, y_pred_knn, average= \"weighted\")\n",
    "knn_accuracy = metrics.accuracy_score(y_val, y_pred_knn)\n",
    "knn_cm = metrics.confusion_matrix(y_val, y_pred_knn)\n",
    "print(\"-----------------K-nearest neighbors Report---------------\")\n",
    "print(\"F1 score: {}\".format(knn_f1))\n",
    "print(\"Accuracy score: {}\".format(knn_accuracy))\n",
    "print(\"Confusion matrix: \\n\", knn_cm)\n",
    "print('Plotting confusion matrix')\n",
    "\n",
    "plt.figure()\n",
    "plot_confusion_matrix(knn_cm , clothing)\n",
    "plt.show()\n",
    "\n",
    "print(metrics.classification_report(y_val, y_pred_knn))"
   ]
  },
  {
   "cell_type": "code",
   "execution_count": null,
   "metadata": {},
   "outputs": [],
   "source": [
    "y_pred_knn = knn.predict_proba((X_test_pca))\n",
    "y_pred_knn.shape"
   ]
  },
  {
   "cell_type": "code",
   "execution_count": null,
   "metadata": {},
   "outputs": [],
   "source": [
    "#plotting ROC curve\n",
    "from sklearn.metrics import roc_curve, auc\n",
    "from scipy import interp\n",
    "from sklearn.metrics import roc_auc_score\n",
    "# Compute ROC curve and ROC area for each class\n",
    "n_classes = 5\n",
    "fpr = dict()\n",
    "\n",
    "tpr = dict()\n",
    "\n",
    "roc_auc = dict()\n",
    "\n",
    "for i in range(n_classes):\n",
    "    fpr[i], tpr[i], _ = roc_curve(y_val, y_pred_knn[:,i], pos_label = 1)\n",
    "    roc_auc[i] = auc(fpr[i], tpr[i])"
   ]
  },
  {
   "cell_type": "code",
   "execution_count": null,
   "metadata": {},
   "outputs": [],
   "source": [
    "# First aggregate all false positive rates\n",
    "all_fpr = np.unique(np.concatenate([fpr[i] for i in range(n_classes)]))"
   ]
  },
  {
   "cell_type": "code",
   "execution_count": null,
   "metadata": {},
   "outputs": [],
   "source": [
    "# Then interpolate all ROC curves at this points\n",
    "mean_tpr = np.zeros_like(all_fpr)\n",
    "for i in range(n_classes):\n",
    "    mean_tpr += interp(all_fpr, fpr[i], tpr[i])\n",
    "\n",
    "# Finally average it and compute AUC\n",
    "mean_tpr /= n_classes\n",
    "\n",
    "fpr[\"weighted\"] = all_fpr\n",
    "tpr[\"weighted\"] = mean_tpr\n",
    "roc_auc[\"weighted\"] = auc(fpr[\"weighted\"], tpr[\"weighted\"])"
   ]
  },
  {
   "cell_type": "code",
   "execution_count": null,
   "metadata": {},
   "outputs": [],
   "source": [
    "#plotting ROC for all classes\n",
    "\n",
    "colors = ['aqua', 'darkorange', 'cornflowerblue', 'black','red']\n",
    "for i, color in zip(range(n_classes), colors):\n",
    "    plt.plot(fpr[i], tpr[i], color=color,\n",
    "             label='ROC curve of class {0} (area = {1:0.2f})'\n",
    "             ''.format(i, roc_auc[i]))\n",
    "\n",
    "plt.plot([0, 1], [0, 1])\n",
    "plt.xlim([0.0, 1.0])\n",
    "plt.ylim([0.0, 1.05])\n",
    "plt.xlabel('False Positive Rate')\n",
    "plt.ylabel('True Positive Rate')\n",
    "plt.title('Some extension of Receiver operating characteristic to multi-class')\n",
    "plt.legend(loc=\"lower right\")\n",
    "plt.show()"
   ]
  },
  {
   "cell_type": "code",
   "execution_count": null,
   "metadata": {},
   "outputs": [],
   "source": []
  },
  {
   "cell_type": "markdown",
   "metadata": {},
   "source": [
    "#### Random Forest report and analysis"
   ]
  },
  {
   "cell_type": "code",
   "execution_count": null,
   "metadata": {},
   "outputs": [],
   "source": [
    "# Random Forest report and analysis\n",
    "y_pred_forest = random_forest.predict(X_test_pca)\n",
    "random_forest_f1 = metrics.f1_score(y_val, y_pred_forest, average= \"weighted\")\n",
    "random_forest_accuracy = metrics.accuracy_score(y_val, y_pred_forest)\n",
    "random_forest_cm = metrics.confusion_matrix(y_val, y_pred_forest)\n",
    "print(\"-----------------Random Forest Report---------------\")\n",
    "print(\"F1 score: {}\".format(random_forest_f1))\n",
    "print(\"Accuracy score: {}\".format(random_forest_accuracy))\n",
    "print(\"Confusion matrix: \\n\", random_forest_cm)\n",
    "print('Plotting confusion matrix')\n",
    "\n",
    "plt.figure()\n",
    "plot_confusion_matrix(random_forest_cm,clothing)\n",
    "plt.show()\n",
    "\n",
    "print(metrics.classification_report(y_val, y_pred_forest))"
   ]
  },
  {
   "cell_type": "code",
   "execution_count": 40,
   "metadata": {},
   "outputs": [
    {
     "data": {
      "text/plain": [
       "(6000, 5)"
      ]
     },
     "execution_count": 40,
     "metadata": {},
     "output_type": "execute_result"
    }
   ],
   "source": [
    "y_pred_forest = random_forest.predict_proba(X_test_pca)\n",
    "y_pred_forest.shape"
   ]
  },
  {
   "cell_type": "code",
   "execution_count": 41,
   "metadata": {},
   "outputs": [],
   "source": [
    "#plotting ROC curve\n",
    "from sklearn.metrics import roc_curve, auc\n",
    "from scipy import interp\n",
    "from sklearn.metrics import roc_auc_score\n",
    "# Compute ROC curve and ROC area for each class\n",
    "n_classes = 5\n",
    "fpr = dict()\n",
    "\n",
    "tpr = dict()\n",
    "\n",
    "roc_auc = dict()\n",
    "\n",
    "for i in range(n_classes):\n",
    "    fpr[i], tpr[i], _ = roc_curve(y_val, y_pred_forest[:,i], pos_label = 1)\n",
    "    roc_auc[i] = auc(fpr[i], tpr[i])\n"
   ]
  },
  {
   "cell_type": "code",
   "execution_count": 42,
   "metadata": {},
   "outputs": [],
   "source": [
    "# First aggregate all false positive rates\n",
    "all_fpr = np.unique(np.concatenate([fpr[i] for i in range(n_classes)]))\n"
   ]
  },
  {
   "cell_type": "code",
   "execution_count": 43,
   "metadata": {},
   "outputs": [],
   "source": [
    "# Then interpolate all ROC curves at this points\n",
    "mean_tpr = np.zeros_like(all_fpr)\n",
    "for i in range(n_classes):\n",
    "    mean_tpr += interp(all_fpr, fpr[i], tpr[i])\n",
    "\n",
    "# Finally average it and compute AUC\n",
    "mean_tpr /= n_classes\n",
    "\n",
    "fpr[\"weighted\"] = all_fpr\n",
    "tpr[\"weighted\"] = mean_tpr\n",
    "roc_auc[\"weighted\"] = auc(fpr[\"weighted\"], tpr[\"weighted\"])\n"
   ]
  },
  {
   "cell_type": "code",
   "execution_count": 44,
   "metadata": {},
   "outputs": [
    {
     "data": {
      "image/png": "[encoded data removed]",
      "text/plain": [
       "<Figure size 432x288 with 1 Axes>"
      ]
     },
     "metadata": {
      "needs_background": "light"
     },
     "output_type": "display_data"
    }
   ],
   "source": [
    "#plotting ROC for all classes\n",
    "\n",
    "colors = ['aqua', 'darkorange', 'cornflowerblue', 'black','red']\n",
    "for i, color in zip(range(n_classes), colors):\n",
    "    plt.plot(fpr[i], tpr[i], color=color,\n",
    "             label='ROC curve of class {0} (area = {1:0.2f})'\n",
    "             ''.format(i, roc_auc[i]))\n",
    "\n",
    "plt.plot([0, 1], [0, 1])\n",
    "plt.xlim([0.0, 1.0])\n",
    "plt.ylim([0.0, 1.05])\n",
    "plt.xlabel('False Positive Rate')\n",
    "plt.ylabel('True Positive Rate')\n",
    "plt.title('Some extension of Receiver operating characteristic to multi-class')\n",
    "plt.legend(loc=\"lower right\")\n",
    "plt.show()\n",
    "\n"
   ]
  },
  {
   "cell_type": "markdown",
   "metadata": {},
   "source": [
    "The above ROC curve is drawn for True Positive Rate vs False Positive Rate. The area under the curve for all the labels (0,1,2,3,4) is shown in the curve which means that how many true positive values are predicted by the method for each curve as well as the False Positive values. The straight Line passing through Origin states us the AUC which is 0.5 which is used to discriminate the values. So, in the above curve we can see that label 1 is having the maximum True Positive rate whereas label 4 is having minimum True Positive Rate."
   ]
  },
  {
   "cell_type": "markdown",
   "metadata": {},
   "source": [
    "#### Decision Tree report and analysis"
   ]
  },
  {
   "cell_type": "code",
   "execution_count": 45,
   "metadata": {},
   "outputs": [
    {
     "name": "stdout",
     "output_type": "stream",
     "text": [
      "-----------------Decision Tree Report---------------\n",
      "F1 score: 0.8147705855704446\n",
      "Accuracy score: 0.8148333333333333\n",
      "Confusion matrix: \n",
      " [[1129   68   41    0    6]\n",
      " [  83  943  123   33   11]\n",
      " [  39  104  855  126   36]\n",
      " [   4   42  129  955  113]\n",
      " [   5    8   45   95 1007]]\n",
      "Plotting confusion matrix\n"
     ]
    },
    {
     "data": {
      "image/png": "[encoded data removed]",
      "text/plain": [
       "<Figure size 432x288 with 2 Axes>"
      ]
     },
     "metadata": {
      "needs_background": "light"
     },
     "output_type": "display_data"
    },
    {
     "name": "stdout",
     "output_type": "stream",
     "text": [
      "              precision    recall  f1-score   support\n",
      "\n",
      "           0       0.90      0.91      0.90      1244\n",
      "           1       0.81      0.79      0.80      1193\n",
      "           2       0.72      0.74      0.73      1160\n",
      "           3       0.79      0.77      0.78      1243\n",
      "           4       0.86      0.87      0.86      1160\n",
      "\n",
      "    accuracy                           0.81      6000\n",
      "   macro avg       0.81      0.81      0.81      6000\n",
      "weighted avg       0.81      0.81      0.81      6000\n",
      "\n"
     ]
    }
   ],
   "source": [
    "# Decision Tree report and analysis\n",
    "y_pred_tree = tree.predict(X_test_pca)\n",
    "tree_f1 = metrics.f1_score(y_val, y_pred_tree, average= \"weighted\")\n",
    "tree_accuracy = metrics.accuracy_score(y_val, y_pred_tree)\n",
    "tree_cm = metrics.confusion_matrix(y_val, y_pred_tree)\n",
    "print(\"-----------------Decision Tree Report---------------\")\n",
    "print(\"F1 score: {}\".format(tree_f1))\n",
    "print(\"Accuracy score: {}\".format(tree_accuracy))\n",
    "print(\"Confusion matrix: \\n\", tree_cm)\n",
    "print('Plotting confusion matrix')\n",
    "\n",
    "plt.figure()\n",
    "plot_confusion_matrix(tree_cm, clothing)\n",
    "plt.show()\n",
    "\n",
    "print(metrics.classification_report(y_val, y_pred_tree))"
   ]
  },
  {
   "cell_type": "code",
   "execution_count": 46,
   "metadata": {},
   "outputs": [
    {
     "data": {
      "text/plain": [
       "(6000, 5)"
      ]
     },
     "execution_count": 46,
     "metadata": {},
     "output_type": "execute_result"
    }
   ],
   "source": [
    "y_pred_tree = tree.predict_proba(X_test_pca)\n",
    "y_pred_tree.shape"
   ]
  },
  {
   "cell_type": "code",
   "execution_count": 47,
   "metadata": {},
   "outputs": [],
   "source": [
    "#plotting ROC curve\n",
    "from sklearn.metrics import roc_curve, auc\n",
    "from scipy import interp\n",
    "from sklearn.metrics import roc_auc_score\n",
    "# Compute ROC curve and ROC area for each class\n",
    "n_classes = 5\n",
    "fpr = dict()\n",
    "\n",
    "tpr = dict()\n",
    "\n",
    "roc_auc = dict()\n",
    "\n",
    "for i in range(n_classes):\n",
    "    fpr[i], tpr[i], _ = roc_curve(y_val, y_pred_forest[:,i], pos_label = 1)\n",
    "    roc_auc[i] = auc(fpr[i], tpr[i])\n"
   ]
  },
  {
   "cell_type": "code",
   "execution_count": 48,
   "metadata": {},
   "outputs": [],
   "source": [
    "# First aggregate all false positive rates\n",
    "all_fpr = np.unique(np.concatenate([fpr[i] for i in range(n_classes)]))\n"
   ]
  },
  {
   "cell_type": "code",
   "execution_count": 49,
   "metadata": {},
   "outputs": [],
   "source": [
    "# Then interpolate all ROC curves at this points\n",
    "mean_tpr = np.zeros_like(all_fpr)\n",
    "for i in range(n_classes):\n",
    "    mean_tpr += interp(all_fpr, fpr[i], tpr[i])\n",
    "\n",
    "# Finally average it and compute AUC\n",
    "mean_tpr /= n_classes\n",
    "\n",
    "fpr[\"weighted\"] = all_fpr\n",
    "tpr[\"weighted\"] = mean_tpr\n",
    "roc_auc[\"weighted\"] = auc(fpr[\"weighted\"], tpr[\"weighted\"])\n"
   ]
  },
  {
   "cell_type": "code",
   "execution_count": 50,
   "metadata": {},
   "outputs": [
    {
     "data": {
      "image/png": "[encoded data removed]",
      "text/plain": [
       "<Figure size 432x288 with 1 Axes>"
      ]
     },
     "metadata": {
      "needs_background": "light"
     },
     "output_type": "display_data"
    }
   ],
   "source": [
    "#plotting ROC for all classes\n",
    "\n",
    "colors = ['aqua', 'darkorange', 'cornflowerblue', 'black','red']\n",
    "for i, color in zip(range(n_classes), colors):\n",
    "    plt.plot(fpr[i], tpr[i], color=color,\n",
    "             label='ROC curve of class {0} (area = {1:0.2f})'\n",
    "             ''.format(i, roc_auc[i]))\n",
    "\n",
    "plt.plot([0, 1], [0, 1])\n",
    "plt.xlim([0.0, 1.0])\n",
    "plt.ylim([0.0, 1.05])\n",
    "plt.xlabel('False Positive Rate')\n",
    "plt.ylabel('True Positive Rate')\n",
    "plt.title('Some extension of Receiver operating characteristic to multi-class')\n",
    "plt.legend(loc=\"lower right\")\n",
    "plt.show()\n",
    "\n"
   ]
  },
  {
   "cell_type": "markdown",
   "metadata": {},
   "source": [
    "The above ROC curve is drawn for True Positive Rate vs False Positive Rate. The area under the curve for all the labels (0,1,2,3,4) is shown in the curve which means that how many true positive values are predicted by the method for each curve as well as the False Positive values. The straight Line passing through Origin states us the AUC which is 0.5 which is used to discriminate the values. So, in the above curve we can see that label 1 is having the maximum True Positive rate whereas label 4 is having minimum True Positive Rate."
   ]
  },
  {
   "cell_type": "markdown",
   "metadata": {},
   "source": [
    "#### Gradient Boosting report and analysis"
   ]
  },
  {
   "cell_type": "code",
   "execution_count": 51,
   "metadata": {},
   "outputs": [
    {
     "name": "stdout",
     "output_type": "stream",
     "text": [
      "-----------------Gradient boosting Report---------------\n",
      "F1 score: 0.824197256834588\n",
      "Accuracy score: 0.8236666666666667\n",
      "Confusion matrix: \n",
      " [[1128   95   21    0    0]\n",
      " [  85  964  119   16    9]\n",
      " [  39  126  869  108   18]\n",
      " [   1   30  138  997   77]\n",
      " [   3   21   43  109  984]]\n",
      "Plotting confusion matrix\n"
     ]
    },
    {
     "data": {
      "image/png": "[encoded data removed]",
      "text/plain": [
       "<Figure size 432x288 with 2 Axes>"
      ]
     },
     "metadata": {
      "needs_background": "light"
     },
     "output_type": "display_data"
    },
    {
     "name": "stdout",
     "output_type": "stream",
     "text": [
      "              precision    recall  f1-score   support\n",
      "\n",
      "           0       0.90      0.91      0.90      1244\n",
      "           1       0.78      0.81      0.79      1193\n",
      "           2       0.73      0.75      0.74      1160\n",
      "           3       0.81      0.80      0.81      1243\n",
      "           4       0.90      0.85      0.88      1160\n",
      "\n",
      "    accuracy                           0.82      6000\n",
      "   macro avg       0.82      0.82      0.82      6000\n",
      "weighted avg       0.83      0.82      0.82      6000\n",
      "\n"
     ]
    }
   ],
   "source": [
    "# Gradient Boosting report and analysis\n",
    "y_pred_gradient = Gradient.predict(X_test_pca)\n",
    "gradient_f1 = metrics.f1_score(y_val, y_pred_gradient, average= \"weighted\")\n",
    "gradient_accuracy = metrics.accuracy_score(y_val, y_pred_gradient)\n",
    "gradient_cm = metrics.confusion_matrix(y_val, y_pred_gradient)\n",
    "print(\"-----------------Gradient boosting Report---------------\")\n",
    "print(\"F1 score: {}\".format(gradient_f1))\n",
    "print(\"Accuracy score: {}\".format(gradient_accuracy))\n",
    "print(\"Confusion matrix: \\n\", gradient_cm)\n",
    "print('Plotting confusion matrix')\n",
    "\n",
    "plt.figure()\n",
    "plot_confusion_matrix(gradient_cm, clothing)\n",
    "plt.show()\n",
    "\n",
    "print(metrics.classification_report(y_val, y_pred_gradient))"
   ]
  },
  {
   "cell_type": "code",
   "execution_count": 52,
   "metadata": {},
   "outputs": [
    {
     "data": {
      "text/plain": [
       "(6000, 5)"
      ]
     },
     "execution_count": 52,
     "metadata": {},
     "output_type": "execute_result"
    }
   ],
   "source": [
    "y_pred_gradient = Gradient.predict_proba(X_test_pca)\n",
    "y_pred_gradient.shape"
   ]
  },
  {
   "cell_type": "code",
   "execution_count": 53,
   "metadata": {},
   "outputs": [],
   "source": [
    "#plotting ROC curve\n",
    "from sklearn.metrics import roc_curve, auc\n",
    "from scipy import interp\n",
    "from sklearn.metrics import roc_auc_score\n",
    "# Compute ROC curve and ROC area for each class\n",
    "n_classes = 5\n",
    "fpr = dict()\n",
    "\n",
    "tpr = dict()\n",
    "\n",
    "roc_auc = dict()\n",
    "\n",
    "for i in range(n_classes):\n",
    "    fpr[i], tpr[i], _ = roc_curve(y_val, y_pred_forest[:,i], pos_label = 1)\n",
    "    roc_auc[i] = auc(fpr[i], tpr[i])"
   ]
  },
  {
   "cell_type": "code",
   "execution_count": 54,
   "metadata": {},
   "outputs": [],
   "source": [
    "# First aggregate all false positive rates\n",
    "all_fpr = np.unique(np.concatenate([fpr[i] for i in range(n_classes)]))"
   ]
  },
  {
   "cell_type": "code",
   "execution_count": 55,
   "metadata": {},
   "outputs": [],
   "source": [
    "# Then interpolate all ROC curves at this points\n",
    "mean_tpr = np.zeros_like(all_fpr)\n",
    "for i in range(n_classes):\n",
    "    mean_tpr += interp(all_fpr, fpr[i], tpr[i])\n",
    "\n",
    "# Finally average it and compute AUC\n",
    "mean_tpr /= n_classes\n",
    "\n",
    "fpr[\"weighted\"] = all_fpr\n",
    "tpr[\"weighted\"] = mean_tpr\n",
    "roc_auc[\"weighted\"] = auc(fpr[\"weighted\"], tpr[\"weighted\"])"
   ]
  },
  {
   "cell_type": "code",
   "execution_count": 66,
   "metadata": {},
   "outputs": [
    {
     "data": {
      "image/png": "[encoded data removed]",
      "text/plain": [
       "<Figure size 432x288 with 1 Axes>"
      ]
     },
     "metadata": {
      "needs_background": "light"
     },
     "output_type": "display_data"
    }
   ],
   "source": [
    "#plotting ROc for all classes\n",
    "\n",
    "colors = ['aqua', 'darkorange', 'cornflowerblue', 'black','red']\n",
    "for i, color in zip(range(n_classes), colors):\n",
    "    plt.plot(fpr[i], tpr[i], color=color,\n",
    "             label='ROC curve of class {0} (area = {1:0.2f})'\n",
    "             ''.format(i, roc_auc[i]))\n",
    "\n",
    "plt.plot([0, 1], [0, 1])\n",
    "plt.xlim([0.0, 1.0])\n",
    "plt.ylim([0.0, 1.05])\n",
    "plt.xlabel('False Positive Rate')\n",
    "plt.ylabel('True Positive Rate')\n",
    "plt.title('Some extension of Receiver operating characteristic to multi-class')\n",
    "plt.legend(loc=\"lower right\")\n",
    "plt.show()\n"
   ]
  },
  {
   "cell_type": "markdown",
   "metadata": {},
   "source": [
    "The above ROC curve is drawn for True Positive Rate vs False Positive Rate. The area under the curve for all the labels (0,1,2,3,4) is shown in the curve which means that how many true positive values are predicted by the method for each curve as well as the False Positive values. The straight Line passing through Origin states us the AUC which is 0.5 which is used to discriminate the values. So, in the above curve we can see that label 1 is having the maximum True Positive rate whereas label 4 is having minimum True Positive Rate."
   ]
  },
  {
   "cell_type": "markdown",
   "metadata": {},
   "source": [
    "# Prediction on Test Data For Kaggle Competition\n",
    "\n",
    "After analysing all the parameters we have found out that SVM is the best method to predict the labels for the test data."
   ]
  },
  {
   "cell_type": "code",
   "execution_count": 89,
   "metadata": {},
   "outputs": [
    {
     "name": "stdout",
     "output_type": "stream",
     "text": [
      "(10000,)\n"
     ]
    }
   ],
   "source": [
    "#predict on test data\n",
    "data=SVC(C=13,kernel='rbf',gamma=0.01)\n",
    "data.fit(X_train_pca, y_train)\n",
    "Y_Data = data.predict(y_test_pca)\n",
    "print(Y_Data.shape)\n",
    "\n"
   ]
  },
  {
   "cell_type": "code",
   "execution_count": 90,
   "metadata": {},
   "outputs": [
    {
     "data": {
      "text/html": [
       "<div>\n",
       "<style scoped>\n",
       "    .dataframe tbody tr th:only-of-type {\n",
       "        vertical-align: middle;\n",
       "    }\n",
       "\n",
       "    .dataframe tbody tr th {\n",
       "        vertical-align: top;\n",
       "    }\n",
       "\n",
       "    .dataframe thead th {\n",
       "        text-align: right;\n",
       "    }\n",
       "</style>\n",
       "<table border=\"1\" class=\"dataframe\">\n",
       "  <thead>\n",
       "    <tr style=\"text-align: right;\">\n",
       "      <th></th>\n",
       "      <th>0</th>\n",
       "    </tr>\n",
       "  </thead>\n",
       "  <tbody>\n",
       "    <tr>\n",
       "      <td>0</td>\n",
       "      <td>4</td>\n",
       "    </tr>\n",
       "    <tr>\n",
       "      <td>1</td>\n",
       "      <td>4</td>\n",
       "    </tr>\n",
       "    <tr>\n",
       "      <td>2</td>\n",
       "      <td>0</td>\n",
       "    </tr>\n",
       "    <tr>\n",
       "      <td>3</td>\n",
       "      <td>1</td>\n",
       "    </tr>\n",
       "    <tr>\n",
       "      <td>4</td>\n",
       "      <td>1</td>\n",
       "    </tr>\n",
       "    <tr>\n",
       "      <td>...</td>\n",
       "      <td>...</td>\n",
       "    </tr>\n",
       "    <tr>\n",
       "      <td>9995</td>\n",
       "      <td>3</td>\n",
       "    </tr>\n",
       "    <tr>\n",
       "      <td>9996</td>\n",
       "      <td>1</td>\n",
       "    </tr>\n",
       "    <tr>\n",
       "      <td>9997</td>\n",
       "      <td>3</td>\n",
       "    </tr>\n",
       "    <tr>\n",
       "      <td>9998</td>\n",
       "      <td>2</td>\n",
       "    </tr>\n",
       "    <tr>\n",
       "      <td>9999</td>\n",
       "      <td>2</td>\n",
       "    </tr>\n",
       "  </tbody>\n",
       "</table>\n",
       "<p>10000 rows × 1 columns</p>\n",
       "</div>"
      ],
      "text/plain": [
       "      0\n",
       "0     4\n",
       "1     4\n",
       "2     0\n",
       "3     1\n",
       "4     1\n",
       "...  ..\n",
       "9995  3\n",
       "9996  1\n",
       "9997  3\n",
       "9998  2\n",
       "9999  2\n",
       "\n",
       "[10000 rows x 1 columns]"
      ]
     },
     "execution_count": 90,
     "metadata": {},
     "output_type": "execute_result"
    }
   ],
   "source": [
    "y_pred_model = pd.DataFrame(Y_Data)\n",
    "y_pred_model"
   ]
  },
  {
   "cell_type": "code",
   "execution_count": 91,
   "metadata": {},
   "outputs": [],
   "source": [
    "del X_ID['Label']"
   ]
  },
  {
   "cell_type": "code",
   "execution_count": 92,
   "metadata": {
    "scrolled": true
   },
   "outputs": [],
   "source": [
    "X_ID.insert(1,'Label',y_pred_model)"
   ]
  },
  {
   "cell_type": "code",
   "execution_count": 93,
   "metadata": {},
   "outputs": [
    {
     "data": {
      "text/html": [
       "<div>\n",
       "<style scoped>\n",
       "    .dataframe tbody tr th:only-of-type {\n",
       "        vertical-align: middle;\n",
       "    }\n",
       "\n",
       "    .dataframe tbody tr th {\n",
       "        vertical-align: top;\n",
       "    }\n",
       "\n",
       "    .dataframe thead th {\n",
       "        text-align: right;\n",
       "    }\n",
       "</style>\n",
       "<table border=\"1\" class=\"dataframe\">\n",
       "  <thead>\n",
       "    <tr style=\"text-align: right;\">\n",
       "      <th></th>\n",
       "      <th>Id</th>\n",
       "      <th>Label</th>\n",
       "    </tr>\n",
       "  </thead>\n",
       "  <tbody>\n",
       "    <tr>\n",
       "      <td>0</td>\n",
       "      <td>0</td>\n",
       "      <td>4</td>\n",
       "    </tr>\n",
       "    <tr>\n",
       "      <td>1</td>\n",
       "      <td>1</td>\n",
       "      <td>4</td>\n",
       "    </tr>\n",
       "    <tr>\n",
       "      <td>2</td>\n",
       "      <td>2</td>\n",
       "      <td>0</td>\n",
       "    </tr>\n",
       "    <tr>\n",
       "      <td>3</td>\n",
       "      <td>3</td>\n",
       "      <td>1</td>\n",
       "    </tr>\n",
       "    <tr>\n",
       "      <td>4</td>\n",
       "      <td>4</td>\n",
       "      <td>1</td>\n",
       "    </tr>\n",
       "    <tr>\n",
       "      <td>...</td>\n",
       "      <td>...</td>\n",
       "      <td>...</td>\n",
       "    </tr>\n",
       "    <tr>\n",
       "      <td>9995</td>\n",
       "      <td>9995</td>\n",
       "      <td>3</td>\n",
       "    </tr>\n",
       "    <tr>\n",
       "      <td>9996</td>\n",
       "      <td>9996</td>\n",
       "      <td>1</td>\n",
       "    </tr>\n",
       "    <tr>\n",
       "      <td>9997</td>\n",
       "      <td>9997</td>\n",
       "      <td>3</td>\n",
       "    </tr>\n",
       "    <tr>\n",
       "      <td>9998</td>\n",
       "      <td>9998</td>\n",
       "      <td>2</td>\n",
       "    </tr>\n",
       "    <tr>\n",
       "      <td>9999</td>\n",
       "      <td>9999</td>\n",
       "      <td>2</td>\n",
       "    </tr>\n",
       "  </tbody>\n",
       "</table>\n",
       "<p>10000 rows × 2 columns</p>\n",
       "</div>"
      ],
      "text/plain": [
       "        Id  Label\n",
       "0        0      4\n",
       "1        1      4\n",
       "2        2      0\n",
       "3        3      1\n",
       "4        4      1\n",
       "...    ...    ...\n",
       "9995  9995      3\n",
       "9996  9996      1\n",
       "9997  9997      3\n",
       "9998  9998      2\n",
       "9999  9999      2\n",
       "\n",
       "[10000 rows x 2 columns]"
      ]
     },
     "execution_count": 93,
     "metadata": {},
     "output_type": "execute_result"
    }
   ],
   "source": [
    "X_ID"
   ]
  },
  {
   "cell_type": "code",
   "execution_count": 94,
   "metadata": {},
   "outputs": [],
   "source": [
    "X_ID.to_csv(\"Predicted_Labels.csv\",index=False)"
   ]
  },
  {
   "cell_type": "code",
   "execution_count": 95,
   "metadata": {},
   "outputs": [
    {
     "data": {
      "text/html": [
       "<div>\n",
       "<style scoped>\n",
       "    .dataframe tbody tr th:only-of-type {\n",
       "        vertical-align: middle;\n",
       "    }\n",
       "\n",
       "    .dataframe tbody tr th {\n",
       "        vertical-align: top;\n",
       "    }\n",
       "\n",
       "    .dataframe thead th {\n",
       "        text-align: right;\n",
       "    }\n",
       "</style>\n",
       "<table border=\"1\" class=\"dataframe\">\n",
       "  <thead>\n",
       "    <tr style=\"text-align: right;\">\n",
       "      <th></th>\n",
       "      <th>Id</th>\n",
       "      <th>Label</th>\n",
       "    </tr>\n",
       "  </thead>\n",
       "  <tbody>\n",
       "    <tr>\n",
       "      <td>0</td>\n",
       "      <td>0</td>\n",
       "      <td>4</td>\n",
       "    </tr>\n",
       "    <tr>\n",
       "      <td>1</td>\n",
       "      <td>1</td>\n",
       "      <td>4</td>\n",
       "    </tr>\n",
       "    <tr>\n",
       "      <td>2</td>\n",
       "      <td>2</td>\n",
       "      <td>0</td>\n",
       "    </tr>\n",
       "    <tr>\n",
       "      <td>3</td>\n",
       "      <td>3</td>\n",
       "      <td>1</td>\n",
       "    </tr>\n",
       "    <tr>\n",
       "      <td>4</td>\n",
       "      <td>4</td>\n",
       "      <td>1</td>\n",
       "    </tr>\n",
       "    <tr>\n",
       "      <td>...</td>\n",
       "      <td>...</td>\n",
       "      <td>...</td>\n",
       "    </tr>\n",
       "    <tr>\n",
       "      <td>9995</td>\n",
       "      <td>9995</td>\n",
       "      <td>3</td>\n",
       "    </tr>\n",
       "    <tr>\n",
       "      <td>9996</td>\n",
       "      <td>9996</td>\n",
       "      <td>1</td>\n",
       "    </tr>\n",
       "    <tr>\n",
       "      <td>9997</td>\n",
       "      <td>9997</td>\n",
       "      <td>3</td>\n",
       "    </tr>\n",
       "    <tr>\n",
       "      <td>9998</td>\n",
       "      <td>9998</td>\n",
       "      <td>2</td>\n",
       "    </tr>\n",
       "    <tr>\n",
       "      <td>9999</td>\n",
       "      <td>9999</td>\n",
       "      <td>2</td>\n",
       "    </tr>\n",
       "  </tbody>\n",
       "</table>\n",
       "<p>10000 rows × 2 columns</p>\n",
       "</div>"
      ],
      "text/plain": [
       "        Id  Label\n",
       "0        0      4\n",
       "1        1      4\n",
       "2        2      0\n",
       "3        3      1\n",
       "4        4      1\n",
       "...    ...    ...\n",
       "9995  9995      3\n",
       "9996  9996      1\n",
       "9997  9997      3\n",
       "9998  9998      2\n",
       "9999  9999      2\n",
       "\n",
       "[10000 rows x 2 columns]"
      ]
     },
     "execution_count": 95,
     "metadata": {},
     "output_type": "execute_result"
    }
   ],
   "source": [
    "X_ID"
   ]
  },
  {
   "cell_type": "markdown",
   "metadata": {},
   "source": [
    "## Kaggle Competition"
   ]
  },
  {
   "cell_type": "markdown",
   "metadata": {},
   "source": [
    "After Submitting in kaggle we have got the accuracy eaual to 89.680%"
   ]
  },
  {
   "cell_type": "markdown",
   "metadata": {},
   "source": [
    "## 1.4: Results Analysis\n",
    "\n"
   ]
  },
  {
   "cell_type": "markdown",
   "metadata": {},
   "source": [
    "## Runtime performance for training and testing."
   ]
  },
  {
   "cell_type": "markdown",
   "metadata": {},
   "source": [
    "### Runtime performace of all the methods without feature extraction\n",
    "\n",
    "### SVM>Gradient Boosting>KNN>Random forest>Desion Tree\n",
    "\n",
    "SVM Time: 170.72 minute\n",
    "\n",
    "KNN Time: 17.73 minute\n",
    "\n",
    "Random Forest Time: 2.20 minute\n",
    "\n",
    "Decision Tree Time: 0.83 minute\n",
    "\n",
    "Gradient Boosting Time: 32.42 minute"
   ]
  },
  {
   "cell_type": "markdown",
   "metadata": {},
   "source": [
    "### Runtime performace of all the methods with feature extraction\n",
    "\n",
    "### SVM>Gradient Boosting>Random Forest>Decion Tree>KNN\n",
    "\n",
    "SVM Time: 8.23 minute\n",
    "\n",
    "KNN Time: 0.06 minute\n",
    "\n",
    "Random Forest Time: 1.73 minute\n",
    "\n",
    "Decision Tree Time: 0.11 minute\n",
    "\n",
    "Gradient Boosting Time: 2.20 minute"
   ]
  },
  {
   "cell_type": "markdown",
   "metadata": {},
   "source": [
    "From the above runtime performance we can observe that the time taken by all the methods is more when we have not done the feature extraction whereas it takes very less time eith feature extraction. \n",
    "\n",
    "There is significant decrease of the time in SVM when we have applied the feature extraction to it same for KNN and Gradient Boosting whereas the time taken by random forest and Decision tree is comparitively less.\n"
   ]
  },
  {
   "cell_type": "markdown",
   "metadata": {},
   "source": [
    "## Comparison of the different algorithms and parameters you tried"
   ]
  },
  {
   "cell_type": "markdown",
   "metadata": {},
   "source": [
    "We have applied the methods which are stated below as weel as the parameters on data with and without Feature Extraction:"
   ]
  },
  {
   "cell_type": "markdown",
   "metadata": {},
   "source": [
    "In this we have used different algorithms to find out the best method which can be used to predict the test data:\n",
    "\n",
    "1) SVM\n",
    "\n",
    "2) KNN\n",
    "\n",
    "3) Random Forest\n",
    "\n",
    "4) Decision Tree\n",
    "\n",
    "5) Gradient Boosting \n"
   ]
  },
  {
   "cell_type": "markdown",
   "metadata": {},
   "source": [
    "Parameters which we have used to find the best method are:\n",
    "\n",
    "1) Computation Time\n",
    "\n",
    "2) Accuracy \n",
    "\n",
    "3) F1 Score \n",
    "\n",
    "4) Confusion Matrix\n"
   ]
  },
  {
   "cell_type": "markdown",
   "metadata": {},
   "source": [
    "## Computation Time"
   ]
  },
  {
   "cell_type": "markdown",
   "metadata": {},
   "source": [
    "### Without Feature Extraction \n",
    "\n",
    "### SVM>Gradient Boosting>KNN>Random forest>Desion Tree\n",
    "\n",
    "SVM Time: 170.72 minute\n",
    "\n",
    "KNN Time: 17.73 minute\n",
    "\n",
    "Random Forest Time: 2.20 minute\n",
    "\n",
    "Decision Tree Time: 0.83 minute\n",
    "\n",
    "Gradient Boosting Time: 32.42 minute\n"
   ]
  },
  {
   "cell_type": "markdown",
   "metadata": {},
   "source": [
    "### With Feature Extraction\n",
    "\n",
    "### SVM>Gradient Boosting>Random Forest>Decion Tree>KNN\n",
    "\n",
    "SVM Time: 8.23 minute\n",
    "\n",
    "KNN Time: 0.06 minute\n",
    "\n",
    "Random Forest Time: 1.73 minute\n",
    "\n",
    "Decision Tree Time: 0.11 minute\n",
    "\n",
    "Gradient Boosting Time: 2.20 minute"
   ]
  },
  {
   "cell_type": "markdown",
   "metadata": {},
   "source": [
    "From the above computation time we can observe that the time taken by all the methods is more when we have not done the feature extraction whereas it takes very less time with feature extraction. \n",
    "\n",
    "There is significant decrease of the time in SVM when we have applied the feature extraction to it same for KNN and Gradient Boosting whereas the time taken by random forest and Decision tree is comparitively less."
   ]
  },
  {
   "cell_type": "markdown",
   "metadata": {},
   "source": [
    "## Accuracy "
   ]
  },
  {
   "cell_type": "markdown",
   "metadata": {},
   "source": [
    "### Without Feature Extraction \n",
    "\n",
    "### SVM>Random forest>KNN>Gradient Boosting>Decison tree\n",
    "\n",
    "SVM:87.19\n",
    "\n",
    "KNN:83.28\n",
    "\n",
    "Random Forest:84.58\n",
    "\n",
    "Decision Tree:72.19\n",
    "\n",
    "Gradient Boosting:80.96"
   ]
  },
  {
   "cell_type": "markdown",
   "metadata": {},
   "source": [
    "### With Feature Extraction\n",
    "\n",
    "### SVM>Random Forest>KNN>Gradient Boosting>Decision Tree\n",
    "\n",
    "SVM:89.88\n",
    "\n",
    "KNN:86.88\n",
    "\n",
    "Random Forest:88.28\n",
    "\n",
    "Decision Tree:82.26\n",
    "\n",
    "Gradient Boosting:80.96\n"
   ]
  },
  {
   "cell_type": "markdown",
   "metadata": {},
   "source": [
    "From the above data we can see that the accuracy has increased after feature extraction and trend is almost same except Gradient Boosting is having same accuracy in both the cases. \n",
    "As in both the cases SVM is having highest accuracy which is 89.88% "
   ]
  },
  {
   "cell_type": "markdown",
   "metadata": {},
   "source": [
    "## F1 Score"
   ]
  },
  {
   "cell_type": "markdown",
   "metadata": {},
   "source": [
    "### Without Feature Extraction \n",
    "\n",
    "### SVM>Random forest>KNN>Gradient Boosting>Decison tree\n",
    "\n",
    "SVM:0.87\n",
    "\n",
    "KNN:0.83\n",
    "\n",
    "Random Forest:.084\n",
    "\n",
    "Decision Tree:0.72\n",
    "\n",
    "Gradient Boosting:0.80"
   ]
  },
  {
   "cell_type": "markdown",
   "metadata": {},
   "source": [
    "### With Feature Extraction\n",
    "\n",
    "### SVM>Random Forest>KNN>Gradient Boosting>Decision Tree\n",
    "\n",
    "SVM:.89\n",
    "\n",
    "KNN:0.86\n",
    "\n",
    "Random Forest:0.88\n",
    "\n",
    "Decision Tree:0.82\n",
    "\n",
    "Gradient Boosting:0.80\n"
   ]
  },
  {
   "cell_type": "markdown",
   "metadata": {},
   "source": [
    "From the above data we can see that the F1 score has increased after feature extraction and trend is almost same except Gradient Boosting is having same accuracy in both the cases. \n",
    "As in both the cases SVM is having highest accuracy which is 0.89 "
   ]
  },
  {
   "cell_type": "markdown",
   "metadata": {},
   "source": [
    "## Confusion Matrix "
   ]
  },
  {
   "cell_type": "markdown",
   "metadata": {},
   "source": [
    "### Without Feature Extraction \n",
    "\n",
    "### SVM>Random forest>KNN>Gradient Boosting>Decison tree"
   ]
  },
  {
   "cell_type": "markdown",
   "metadata": {},
   "source": [
    "### With Feature Extraction\n",
    "\n",
    "### SVM>Random Forest>KNN>Gradient Boosting>Decision Tree"
   ]
  },
  {
   "cell_type": "markdown",
   "metadata": {},
   "source": [
    "As we have observed that the methods which are having more accuracy are having more correct prediction so the daigonal elements of SVM will be highest and so on."
   ]
  },
  {
   "cell_type": "markdown",
   "metadata": {},
   "source": [
    "## Explanation of your model (algorithms, design choices, numbers of parameters)"
   ]
  },
  {
   "cell_type": "markdown",
   "metadata": {},
   "source": [
    "The algorithms which we are using for classification and analysis of the data are: \n",
    "\n",
    "1) SVM\n",
    "\n",
    "2) KNN\n",
    "\n",
    "3) Decision Tree\n",
    "\n",
    "4) Random Forest\n",
    "\n",
    "5) Gradient Boosting \n",
    "\n",
    "For comparison we are first performing all the classification methods on data without feature extraction and then after that we are performing all the algorithms after feature extraction.\n",
    "How the algorithms work:\n",
    "\n",
    "1) SVM (Support Vector Machine): SVM is highly preferred classification which is used as it produces the significant accuracy with less computation power. The objective of the SVM algorithm is to find out the hyperplane in N-dimensional space that distinctly classify the data points\n",
    ".\n",
    "2) KNN (K-Nearest Neighbour): KNN method is the supervised learning method which is easy to implement. The algorithm of this method works on the similarity of the objects i.e. how similar things are near to each other. \n",
    "\n",
    "3) Decision Tree: It is also one of the supervised learning methods which is used for classification the data. In decision analysis, decision tree can be visually used and explicitly represents the decisions. As, the name suggests it is tree like model having Root, Node and Leaf.\n",
    "\n",
    "4) Random Forest: Random forest, as the name suggests consists of large number of individual decision tree that operate as an ensemble. Each individual tree in the random forest spits out a class prediction and the class with the most votes becomes our model’s prediction. The fundamental concept behind random forest is a simple but powerful for the crowded data set. A large number of relatively uncorrelated models(trees) operating as a committee will outperform any of the individual constituent models.\n",
    "\n",
    "5) Gradient Boosting: It Is the machine learning technique for regression and classification problems, which produces a prediction model in the form of an ensemble of weak prediction models, typically in decision trees. It builds the model in a stage-wise fashion like boosting methods do, and it generalizes them by allowing optimization of an ordinary loss function. "
   ]
  },
  {
   "cell_type": "markdown",
   "metadata": {},
   "source": [
    "In this problem we are using the above classification techniques for analysis of data. For the comparison we are first applying all the methods without performing feature extraction and them after applying feature extraction.\n",
    "We have to apply feature extraction as the data set is too large, so it is difficult to analyse the complete data as it takes more computation time."
   ]
  },
  {
   "cell_type": "markdown",
   "metadata": {},
   "source": [
    "In this problem we are applying PCA for feature extraction because it the linear method for feature extraction and in non-linear methods the computation time taken by the methods is very large which is not desired whereas by using PCA we are reducing the computation time.\n",
    "\n",
    "For the analysis of all the methods we have generated the report of each classification methods by using different attributes.\n",
    "1)\tComputation Time: How much time it takes before feature extraction and after feature extraction. It can be noted that before feature extraction it takes more time in comparison to after feature extraction.\n",
    "\n",
    "2)\tAccuracy: The algorithm is how much accurate in both the scenarios i.e. before and after feature extraction.\n",
    "\n",
    "3)\tF1 score: From this we can find the balance between the precision and recall of the method.\n",
    "\n",
    "4)\t Confusion Matrix: It is the matrix in which the diagonal elements represent the number of points for which the predicted label is equal to the true label, while off-diagonal elements are those which are mislabeled. The higher the diagonal values of the confusion matrix the better, indicating there are how many predictions.  \n",
    "\n",
    "5)\t Receiver Operating Characteristics (ROC) Curve: A ROC curve is a graph with x-axis values as the False Positive Rate (FPR) and y-axis values as the True Positive Rate (TPR). The Area Under Curve (AUC) for ROC represents how capable a model is to classify the data correctly.\n"
   ]
  },
  {
   "cell_type": "markdown",
   "metadata": {},
   "source": [
    "##  Use a ROC curve used for some method in your initial or results analysis such as exploring the impact on accuracy of some parameter."
   ]
  },
  {
   "cell_type": "markdown",
   "metadata": {},
   "source": [
    "1) ROC Curves summarize the trade-off between the true positive rate and false positive rate for a predictive model using different probability thresholds.\n",
    "\n",
    "2) ROC curves are appropriate when the observations are balanced between each class, whereas precision-recall curves are appropriate for imbalanced datasets.\n",
    "\n",
    "3) For the above data we have drawn ROC curve for each method both without feature extraction and with feature extraction in which we can see that AUC for each label in the class as well as the AUC for each curve is the straight line which is passing through the origin which is different for each method.  \n",
    "\n",
    "4) Analysis of the ecah curve is shown along with the ROC curve. As in the each method we have seen that the AUC is 0.5 and values above that are better than the values whih are coming below that line. So, from the above analysis we can see that   label 1 is having more True Predicting rate in comparision to other labels and Label 4 and 3 are having less True predicting value."
   ]
  },
  {
   "cell_type": "markdown",
   "metadata": {},
   "source": [
    "## Evaluate your code with other metrics on the training data (by using some of it as test data) and argue for the benefit of you approach."
   ]
  },
  {
   "cell_type": "markdown",
   "metadata": {},
   "source": [
    "\n",
    "\n",
    "In this code we have splited the train data into Train and Test to evaluate that which model is suited best to predict the labels for the test Data.\n",
    "\n",
    "To find out that which model is best we have used different parameters which are:\n",
    "\n",
    "1) Computation Time\n",
    "\n",
    "2) Accuracy \n",
    "\n",
    "3) F1 Score \n",
    "\n",
    "4) Confusion Matrix\n",
    "\n",
    "By this we have evaluated alll the models by using the above parameters and then done the comparision for each method. We have evaluated the code with matrices and found out the following results.\n",
    "\n",
    "\n",
    "\n"
   ]
  },
  {
   "cell_type": "markdown",
   "metadata": {},
   "source": [
    "## Accuracy "
   ]
  },
  {
   "cell_type": "markdown",
   "metadata": {},
   "source": [
    "### Without Feature Extraction \n",
    "\n",
    "### SVM>Random forest>KNN>Gradient Boosting>Decison tree\n",
    "\n",
    "SVM:87.19\n",
    "\n",
    "KNN:83.28\n",
    "\n",
    "Random Forest:84.58\n",
    "\n",
    "Decision Tree:72.19\n",
    "\n",
    "Gradient Boosting:80.96"
   ]
  },
  {
   "cell_type": "markdown",
   "metadata": {},
   "source": [
    "### With Feature Extraction\n",
    "\n",
    "### SVM>Random Forest>KNN>Gradient Boosting>Decision Tree\n",
    "\n",
    "SVM:89.88\n",
    "\n",
    "KNN:86.88\n",
    "\n",
    "Random Forest:88.28\n",
    "\n",
    "Decision Tree:82.26\n",
    "\n",
    "Gradient Boosting:80.96\n"
   ]
  },
  {
   "cell_type": "markdown",
   "metadata": {},
   "source": [
    "From the above data we can see that the accuracy has increased after feature extraction and trend is almost same except Gradient Boosting is having same accuracy in both the cases. \n",
    "As in both the cases SVM is having highest accuracy which is 89.88% "
   ]
  },
  {
   "cell_type": "markdown",
   "metadata": {},
   "source": [
    "## F1 Score"
   ]
  },
  {
   "cell_type": "markdown",
   "metadata": {},
   "source": [
    "### Without Feature Extraction \n",
    "\n",
    "### SVM>Random forest>KNN>Gradient Boosting>Decison tree\n",
    "\n",
    "SVM:0.87\n",
    "\n",
    "KNN:0.83\n",
    "\n",
    "Random Forest:.084\n",
    "\n",
    "Decision Tree:0.72\n",
    "\n",
    "Gradient Boosting:0.80"
   ]
  },
  {
   "cell_type": "markdown",
   "metadata": {},
   "source": [
    "### With Feature Extraction\n",
    "\n",
    "### SVM>Random Forest>KNN>Gradient Boosting>Decision Tree\n",
    "\n",
    "SVM:.89\n",
    "\n",
    "KNN:0.86\n",
    "\n",
    "Random Forest:0.88\n",
    "\n",
    "Decision Tree:0.82\n",
    "\n",
    "Gradient Boosting:0.80\n"
   ]
  },
  {
   "cell_type": "markdown",
   "metadata": {},
   "source": [
    "From the above data we can see that the F1 score has increased after feature extraction and trend is almost same except Gradient Boosting is having same accuracy in both the cases. \n",
    "As in both the cases SVM is having highest accuracy which is 0.89 "
   ]
  },
  {
   "cell_type": "markdown",
   "metadata": {},
   "source": [
    "## Confusion Matrix "
   ]
  },
  {
   "cell_type": "markdown",
   "metadata": {},
   "source": [
    "### Without Feature Extraction \n",
    "\n",
    "### SVM>Random forest>KNN>Gradient Boosting>Decison tree"
   ]
  },
  {
   "cell_type": "markdown",
   "metadata": {},
   "source": [
    "### With Feature Extraction\n",
    "\n",
    "### SVM>Random Forest>KNN>Gradient Boosting>Decision Tree"
   ]
  },
  {
   "cell_type": "markdown",
   "metadata": {},
   "source": [
    "As we have observed that the methods which are having more accuracy are having more correct prediction so the daigonal elements of SVM will be highest and so on."
   ]
  }
 ],
 "metadata": {
  "kernelspec": {
   "display_name": "Python 3",
   "language": "python",
   "name": "python3"
  },
  "language_info": {
   "codemirror_mode": {
    "name": "ipython",
    "version": 3
   },
   "file_extension": ".py",
   "mimetype": "text/x-python",
   "name": "python",
   "nbconvert_exporter": "python",
   "pygments_lexer": "ipython3",
   "version": "3.7.4"
  }
 },
 "nbformat": 4,
 "nbformat_minor": 4
}
